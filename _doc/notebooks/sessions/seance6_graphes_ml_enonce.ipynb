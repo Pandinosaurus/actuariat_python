{
  "cells": [
    {
      "cell_type": "markdown",
      "metadata": {},
      "source": [
        "# Graphes en machine learning - \u00e9nonc\u00e9\n",
        "\n",
        "Ce notebook propose une s\u00e9rie de graphes qu'on utilise fr\u00e9quemment dans un notebook lorsqu'on fait du machine learning. Cela comprend notamment la courbe [ROC](https://fr.wikipedia.org/wiki/ROC) pour les probl\u00e8mes de classification."
      ]
    },
    {
      "cell_type": "code",
      "execution_count": null,
      "metadata": {},
      "outputs": [],
      "source": [
        "%matplotlib inline"
      ]
    },
    {
      "cell_type": "code",
      "execution_count": null,
      "metadata": {
        "collapsed": true
      },
      "outputs": [],
      "source": [
        "import matplotlib.pyplot as plt\n",
        "plt.style.use('ggplot')"
      ]
    },
    {
      "cell_type": "code",
      "execution_count": null,
      "metadata": {},
      "outputs": [
        {
          "data": {
            "text/html": [
              "<div id=\"my_id_menu_nb\">run previous cell, wait for 2 seconds</div>\n",
              "<script>\n",
              "function repeat_indent_string(n){\n",
              "    var a = \"\" ;\n",
              "    for ( ; n > 0 ; --n)\n",
              "        a += \"    \";\n",
              "    return a;\n",
              "}\n",
              "var update_menu_string = function(begin, lfirst, llast, sformat, send, keep_item, begin_format, end_format) {\n",
              "    var anchors = document.getElementsByClassName(\"section\");\n",
              "    if (anchors.length == 0) {\n",
              "        anchors = document.getElementsByClassName(\"text_cell_render rendered_html\");\n",
              "    }\n",
              "    var i,t;\n",
              "    var text_menu = begin;\n",
              "    var text_memo = \"<pre>\\nlength:\" + anchors.length + \"\\n\";\n",
              "    var ind = \"\";\n",
              "    var memo_level = 1;\n",
              "    var href;\n",
              "    var tags = [];\n",
              "    var main_item = 0;\n",
              "    var format_open = 0;\n",
              "    for (i = 0; i <= llast; i++)\n",
              "        tags.push(\"h\" + i);\n",
              "\n",
              "    for (i = 0; i < anchors.length; i++) {\n",
              "        text_memo += \"**\" + anchors[i].id + \"--\\n\";\n",
              "\n",
              "        var child = null;\n",
              "        for(t = 0; t < tags.length; t++) {\n",
              "            var r = anchors[i].getElementsByTagName(tags[t]);\n",
              "            if (r.length > 0) {\n",
              "child = r[0];\n",
              "break;\n",
              "            }\n",
              "        }\n",
              "        if (child == null) {\n",
              "            text_memo += \"null\\n\";\n",
              "            continue;\n",
              "        }\n",
              "        if (anchors[i].hasAttribute(\"id\")) {\n",
              "            // when converted in RST\n",
              "            href = anchors[i].id;\n",
              "            text_memo += \"#1-\" + href;\n",
              "            // passer \u00e0 child suivant (le chercher)\n",
              "        }\n",
              "        else if (child.hasAttribute(\"id\")) {\n",
              "            // in a notebook\n",
              "            href = child.id;\n",
              "            text_memo += \"#2-\" + href;\n",
              "        }\n",
              "        else {\n",
              "            text_memo += \"#3-\" + \"*\" + \"\\n\";\n",
              "            continue;\n",
              "        }\n",
              "        var title = child.textContent;\n",
              "        var level = parseInt(child.tagName.substring(1,2));\n",
              "\n",
              "        text_memo += \"--\" + level + \"?\" + lfirst + \"--\" + title + \"\\n\";\n",
              "\n",
              "        if ((level < lfirst) || (level > llast)) {\n",
              "            continue ;\n",
              "        }\n",
              "        if (title.endsWith('\u00b6')) {\n",
              "            title = title.substring(0,title.length-1).replace(\"<\", \"&lt;\")\n",
              "         .replace(\">\", \"&gt;\").replace(\"&\", \"&amp;\");\n",
              "        }\n",
              "        if (title.length == 0) {\n",
              "            continue;\n",
              "        }\n",
              "\n",
              "        while (level < memo_level) {\n",
              "            text_menu += end_format + \"</ul>\\n\";\n",
              "            format_open -= 1;\n",
              "            memo_level -= 1;\n",
              "        }\n",
              "        if (level == lfirst) {\n",
              "            main_item += 1;\n",
              "        }\n",
              "        if (keep_item != -1 && main_item != keep_item + 1) {\n",
              "            // alert(main_item + \" - \" + level + \" - \" + keep_item);\n",
              "            continue;\n",
              "        }\n",
              "        while (level > memo_level) {\n",
              "            text_menu += \"<ul>\\n\";\n",
              "            memo_level += 1;\n",
              "        }\n",
              "        text_menu += repeat_indent_string(level-2);\n",
              "        text_menu += begin_format + sformat.replace(\"__HREF__\", href).replace(\"__TITLE__\", title);\n",
              "        format_open += 1;\n",
              "    }\n",
              "    while (1 < memo_level) {\n",
              "        text_menu += end_format + \"</ul>\\n\";\n",
              "        memo_level -= 1;\n",
              "        format_open -= 1;\n",
              "    }\n",
              "    text_menu += send;\n",
              "    //text_menu += \"\\n\" + text_memo;\n",
              "\n",
              "    while (format_open > 0) {\n",
              "        text_menu += end_format;\n",
              "        format_open -= 1;\n",
              "    }\n",
              "    return text_menu;\n",
              "};\n",
              "var update_menu = function() {\n",
              "    var sbegin = \"\";\n",
              "    var sformat = '<a href=\"#__HREF__\">__TITLE__</a>';\n",
              "    var send = \"\";\n",
              "    var begin_format = '<li>';\n",
              "    var end_format = '</li>';\n",
              "    var keep_item = -1;\n",
              "    var text_menu = update_menu_string(sbegin, 2, 4, sformat, send, keep_item,\n",
              "       begin_format, end_format);\n",
              "    var menu = document.getElementById(\"my_id_menu_nb\");\n",
              "    menu.innerHTML=text_menu;\n",
              "};\n",
              "window.setTimeout(update_menu,2000);\n",
              "            </script>"
            ],
            "text/plain": [
              "<IPython.core.display.HTML object>"
            ]
          },
          "execution_count": null,
          "metadata": {},
          "output_type": "execute_result"
        }
      ],
      "source": [
        "from jyquickhelper import add_notebook_menu\n",
        "add_notebook_menu()"
      ]
    },
    {
      "cell_type": "markdown",
      "metadata": {},
      "source": [
        "Le module utilise des donn\u00e9es issues de [Wine Quality Data Set](https://archive.ics.uci.edu/ml/datasets/Wine+Quality) pour lequel on essaye de pr\u00e9dire la qualit\u00e9 du vin en fonction de ses caract\u00e9ristiques chimiques."
      ]
    },
    {
      "cell_type": "code",
      "execution_count": null,
      "metadata": {
        "collapsed": true,
        "scrolled": false
      },
      "outputs": [],
      "source": [
        "import pyensae\n",
        "%load_ext pyensae\n",
        "from pyensae.datasource import DownloadDataException\n",
        "uci = \"https://archive.ics.uci.edu/ml/machine-learning-databases/wine-quality/\"\n",
        "try:\n",
        "    pyensae.download_data(\"winequality-red.csv\", url=uci)\n",
        "    pyensae.download_data(\"winequality-white.csv\", url=uci)\n",
        "except DownloadDataException:\n",
        "    print(\"backup\")\n",
        "    pyensae.download_data(\"winequality-red.csv\", website=\"xd\")\n",
        "    pyensae.download_data(\"winequality-white.csv\", website=\"xd\")"
      ]
    },
    {
      "cell_type": "code",
      "execution_count": null,
      "metadata": {},
      "outputs": [
        {
          "data": {
            "text/html": [
              "<pre>\n",
              "\"fixed acidity\";\"volatile acidity\";\"citric acid\";\"residual sugar\";\"chlorides\";\"free sulfur dioxide\";\"total sulfur dioxide\";\"density\";\"pH\";\"sulphates\";\"alcohol\";\"quality\"\n",
              "7.4;0.7;0;1.9;0.076;11;34;0.9978;3.51;0.56;9.4;5\n",
              "7.8;0.88;0;2.6;0.098;25;67;0.9968;3.2;0.68;9.8;5\n",
              "7.8;0.76;0.04;2.3;0.092;15;54;0.997;3.26;0.65;9.8;5\n",
              "11.2;0.28;0.56;1.9;0.075;17;60;0.998;3.16;0.58;9.8;6\n",
              "7.4;0.7;0;1.9;0.076;11;34;0.9978;3.51;0.56;9.4;5\n",
              "7.4;0.66;0;1.8;0.075;13;40;0.9978;3.51;0.56;9.4;5\n",
              "7.9;0.6;0.06;1.6;0.069;15;59;0.9964;3.3;0.46;9.4;5\n",
              "7.3;0.65;0;1.2;0.065;15;21;0.9946;3.39;0.47;10;7\n",
              "7.8;0.58;0.02;2;0.073;9;18;0.9968;3.36;0.57;9.5;7\n",
              "\n",
              "</pre>"
            ],
            "text/plain": [
              "<IPython.core.display.HTML object>"
            ]
          },
          "execution_count": null,
          "metadata": {},
          "output_type": "execute_result"
        }
      ],
      "source": [
        "%head winequality-red.csv"
      ]
    },
    {
      "cell_type": "code",
      "execution_count": null,
      "metadata": {},
      "outputs": [
        {
          "data": {
            "text/html": [
              "<div>\n",
              "<style>\n",
              "    .dataframe thead tr:only-child th {\n",
              "        text-align: right;\n",
              "    }\n",
              "\n",
              "    .dataframe thead th {\n",
              "        text-align: left;\n",
              "    }\n",
              "\n",
              "    .dataframe tbody tr th {\n",
              "        vertical-align: top;\n",
              "    }\n",
              "</style>\n",
              "<table border=\"1\" class=\"dataframe\">\n",
              "  <thead>\n",
              "    <tr style=\"text-align: right;\">\n",
              "      <th></th>\n",
              "      <th>fixed acidity</th>\n",
              "      <th>volatile acidity</th>\n",
              "      <th>citric acid</th>\n",
              "      <th>residual sugar</th>\n",
              "      <th>chlorides</th>\n",
              "      <th>free sulfur dioxide</th>\n",
              "      <th>total sulfur dioxide</th>\n",
              "      <th>density</th>\n",
              "      <th>pH</th>\n",
              "      <th>sulphates</th>\n",
              "      <th>alcohol</th>\n",
              "      <th>quality</th>\n",
              "      <th>red</th>\n",
              "    </tr>\n",
              "  </thead>\n",
              "  <tbody>\n",
              "    <tr>\n",
              "      <th>0</th>\n",
              "      <td>7.4</td>\n",
              "      <td>0.70</td>\n",
              "      <td>0.00</td>\n",
              "      <td>1.9</td>\n",
              "      <td>0.076</td>\n",
              "      <td>11.0</td>\n",
              "      <td>34.0</td>\n",
              "      <td>0.9978</td>\n",
              "      <td>3.51</td>\n",
              "      <td>0.56</td>\n",
              "      <td>9.4</td>\n",
              "      <td>5</td>\n",
              "      <td>1</td>\n",
              "    </tr>\n",
              "    <tr>\n",
              "      <th>1</th>\n",
              "      <td>7.8</td>\n",
              "      <td>0.88</td>\n",
              "      <td>0.00</td>\n",
              "      <td>2.6</td>\n",
              "      <td>0.098</td>\n",
              "      <td>25.0</td>\n",
              "      <td>67.0</td>\n",
              "      <td>0.9968</td>\n",
              "      <td>3.20</td>\n",
              "      <td>0.68</td>\n",
              "      <td>9.8</td>\n",
              "      <td>5</td>\n",
              "      <td>1</td>\n",
              "    </tr>\n",
              "    <tr>\n",
              "      <th>2</th>\n",
              "      <td>7.8</td>\n",
              "      <td>0.76</td>\n",
              "      <td>0.04</td>\n",
              "      <td>2.3</td>\n",
              "      <td>0.092</td>\n",
              "      <td>15.0</td>\n",
              "      <td>54.0</td>\n",
              "      <td>0.9970</td>\n",
              "      <td>3.26</td>\n",
              "      <td>0.65</td>\n",
              "      <td>9.8</td>\n",
              "      <td>5</td>\n",
              "      <td>1</td>\n",
              "    </tr>\n",
              "    <tr>\n",
              "      <th>3</th>\n",
              "      <td>11.2</td>\n",
              "      <td>0.28</td>\n",
              "      <td>0.56</td>\n",
              "      <td>1.9</td>\n",
              "      <td>0.075</td>\n",
              "      <td>17.0</td>\n",
              "      <td>60.0</td>\n",
              "      <td>0.9980</td>\n",
              "      <td>3.16</td>\n",
              "      <td>0.58</td>\n",
              "      <td>9.8</td>\n",
              "      <td>6</td>\n",
              "      <td>1</td>\n",
              "    </tr>\n",
              "    <tr>\n",
              "      <th>4</th>\n",
              "      <td>7.4</td>\n",
              "      <td>0.70</td>\n",
              "      <td>0.00</td>\n",
              "      <td>1.9</td>\n",
              "      <td>0.076</td>\n",
              "      <td>11.0</td>\n",
              "      <td>34.0</td>\n",
              "      <td>0.9978</td>\n",
              "      <td>3.51</td>\n",
              "      <td>0.56</td>\n",
              "      <td>9.4</td>\n",
              "      <td>5</td>\n",
              "      <td>1</td>\n",
              "    </tr>\n",
              "  </tbody>\n",
              "</table>\n",
              "</div>"
            ],
            "text/plain": [
              "   fixed acidity  volatile acidity  citric acid  residual sugar  chlorides  \\\n",
              "0            7.4              0.70         0.00             1.9      0.076   \n",
              "1            7.8              0.88         0.00             2.6      0.098   \n",
              "2            7.8              0.76         0.04             2.3      0.092   \n",
              "3           11.2              0.28         0.56             1.9      0.075   \n",
              "4            7.4              0.70         0.00             1.9      0.076   \n",
              "\n",
              "   free sulfur dioxide  total sulfur dioxide  density    pH  sulphates  \\\n",
              "0                 11.0                  34.0   0.9978  3.51       0.56   \n",
              "1                 25.0                  67.0   0.9968  3.20       0.68   \n",
              "2                 15.0                  54.0   0.9970  3.26       0.65   \n",
              "3                 17.0                  60.0   0.9980  3.16       0.58   \n",
              "4                 11.0                  34.0   0.9978  3.51       0.56   \n",
              "\n",
              "   alcohol  quality  red  \n",
              "0      9.4        5    1  \n",
              "1      9.8        5    1  \n",
              "2      9.8        5    1  \n",
              "3      9.8        6    1  \n",
              "4      9.4        5    1  "
            ]
          },
          "execution_count": null,
          "metadata": {},
          "output_type": "execute_result"
        }
      ],
      "source": [
        "import pandas\n",
        "red_wine = pandas.read_csv(\"winequality-red.csv\", sep=\";\")\n",
        "red_wine[\"red\"] = 1\n",
        "white_wine = pandas.read_csv(\"winequality-white.csv\", sep=\";\")\n",
        "white_wine[\"red\"] = 0\n",
        "wines = pandas.concat([red_wine, white_wine])\n",
        "wines.head()"
      ]
    },
    {
      "cell_type": "markdown",
      "metadata": {},
      "source": [
        "On d\u00e9coupe en base d'apprentissage, base de test :"
      ]
    },
    {
      "cell_type": "code",
      "execution_count": null,
      "metadata": {},
      "outputs": [
        {
          "data": {
            "text/plain": [
              "(pandas.core.frame.DataFrame, pandas.core.series.Series)"
            ]
          },
          "execution_count": null,
          "metadata": {},
          "output_type": "execute_result"
        }
      ],
      "source": [
        "from sklearn.model_selection import train_test_split\n",
        "X = wines[[c for c in wines.columns if c != \"quality\"]]\n",
        "Y = wines[\"quality\"]\n",
        "x_train, x_test, y_train, y_test = train_test_split(X, Y, test_size=0.33, random_state=42)\n",
        "type(x_train), type(y_train)"
      ]
    },
    {
      "cell_type": "code",
      "execution_count": null,
      "metadata": {},
      "outputs": [
        {
          "data": {
            "text/plain": [
              "((6497, 13), (4352, 12), (4352,))"
            ]
          },
          "execution_count": null,
          "metadata": {},
          "output_type": "execute_result"
        }
      ],
      "source": [
        "wines.shape, x_train.shape, y_train.shape"
      ]
    },
    {
      "cell_type": "markdown",
      "metadata": {},
      "source": [
        "## Exploration"
      ]
    },
    {
      "cell_type": "markdown",
      "metadata": {},
      "source": [
        "### histogrammes\n",
        "\n",
        "fonction [hist](http://pandas.pydata.org/pandas-docs/stable/generated/pandas.DataFrame.hist.html)"
      ]
    },
    {
      "cell_type": "code",
      "execution_count": null,
      "metadata": {},
      "outputs": [
        {
          "data": {
            "text/plain": [
              "array([[<matplotlib.axes._subplots.AxesSubplot object at 0x00000269CBC55DD8>,\n",
              "        <matplotlib.axes._subplots.AxesSubplot object at 0x00000269CC046F28>,\n",
              "        <matplotlib.axes._subplots.AxesSubplot object at 0x00000269CC0B5160>,\n",
              "        <matplotlib.axes._subplots.AxesSubplot object at 0x00000269CC0BE908>],\n",
              "       [<matplotlib.axes._subplots.AxesSubplot object at 0x00000269CC17B208>,\n",
              "        <matplotlib.axes._subplots.AxesSubplot object at 0x00000269CC17B240>,\n",
              "        <matplotlib.axes._subplots.AxesSubplot object at 0x00000269CC2480F0>,\n",
              "        <matplotlib.axes._subplots.AxesSubplot object at 0x00000269CC2A5470>],\n",
              "       [<matplotlib.axes._subplots.AxesSubplot object at 0x00000269CC31F208>,\n",
              "        <matplotlib.axes._subplots.AxesSubplot object at 0x00000269CC37CC18>,\n",
              "        <matplotlib.axes._subplots.AxesSubplot object at 0x00000269CC3BE0F0>,\n",
              "        <matplotlib.axes._subplots.AxesSubplot object at 0x00000269CC438748>],\n",
              "       [<matplotlib.axes._subplots.AxesSubplot object at 0x00000269CC4717F0>,\n",
              "        <matplotlib.axes._subplots.AxesSubplot object at 0x00000269CC50B320>,\n",
              "        <matplotlib.axes._subplots.AxesSubplot object at 0x00000269CC512F98>,\n",
              "        <matplotlib.axes._subplots.AxesSubplot object at 0x00000269CC5D4208>]], dtype=object)"
            ]
          },
          "execution_count": null,
          "metadata": {},
          "output_type": "execute_result"
        }
      ],
      "source": [
        "wines.hist(figsize=(12,12))"
      ]
    },
    {
      "cell_type": "markdown",
      "metadata": {},
      "source": [
        "Et plus particuli\u00e8rement :"
      ]
    },
    {
      "cell_type": "code",
      "execution_count": null,
      "metadata": {},
      "outputs": [
        {
          "data": {
            "text/plain": [
              "<matplotlib.axes._subplots.AxesSubplot at 0x269cc5d4208>"
            ]
          },
          "execution_count": null,
          "metadata": {},
          "output_type": "execute_result"
        }
      ],
      "source": [
        "wines.quality.hist(bins=7, figsize=(4,4))"
      ]
    },
    {
      "cell_type": "markdown",
      "metadata": {},
      "source": [
        "### \u00e9v\u00e9nements rares\n",
        "\n",
        "Les queues de distributions sont des \u00e9v\u00e9nements rares. De m\u00eame que dans cet \u00e9chantillon, la classe 9 est tr\u00e8s peu repr\u00e9sent\u00e9e (voir ci-dessous). Lorsqu'on d\u00e9coupe le jeu de donn\u00e9es en base d'apprentissage et base de test, ces \u00e9v\u00e9nements ne sont pas uniform\u00e9ment distribu\u00e9s. Il est tr\u00e8s peu probable qu'un classifieur quelconque arrive \u00e0 pr\u00e9dire la classe 9. Il faudra traiter cette classe s\u00e9par\u00e9ment. \n",
        "\n",
        "Il est difficile de dire si un pr\u00e9dicteur doit \u00e9viter d'utiliser des \u00e9v\u00e9nements rares ou des valeurs aberrantes mais il est difficile de pr\u00e9voir si la pr\u00e9diction est g\u00e9n\u00e9ralisable. On choisit parfois de nettoyer les bases de ces \u00e9v\u00e9nements, en les supprimant, en les lissant, en changeant d'\u00e9chelle avec une \u00e9chelle logarithmique."
      ]
    },
    {
      "cell_type": "code",
      "execution_count": null,
      "metadata": {},
      "outputs": [
        {
          "data": {
            "text/html": [
              "<div>\n",
              "<style>\n",
              "    .dataframe thead tr:only-child th {\n",
              "        text-align: right;\n",
              "    }\n",
              "\n",
              "    .dataframe thead th {\n",
              "        text-align: left;\n",
              "    }\n",
              "\n",
              "    .dataframe tbody tr th {\n",
              "        vertical-align: top;\n",
              "    }\n",
              "</style>\n",
              "<table border=\"1\" class=\"dataframe\">\n",
              "  <thead>\n",
              "    <tr style=\"text-align: right;\">\n",
              "      <th></th>\n",
              "      <th>red</th>\n",
              "    </tr>\n",
              "    <tr>\n",
              "      <th>quality</th>\n",
              "      <th></th>\n",
              "    </tr>\n",
              "  </thead>\n",
              "  <tbody>\n",
              "    <tr>\n",
              "      <th>3</th>\n",
              "      <td>30</td>\n",
              "    </tr>\n",
              "    <tr>\n",
              "      <th>4</th>\n",
              "      <td>216</td>\n",
              "    </tr>\n",
              "    <tr>\n",
              "      <th>5</th>\n",
              "      <td>2138</td>\n",
              "    </tr>\n",
              "    <tr>\n",
              "      <th>6</th>\n",
              "      <td>2836</td>\n",
              "    </tr>\n",
              "    <tr>\n",
              "      <th>7</th>\n",
              "      <td>1079</td>\n",
              "    </tr>\n",
              "    <tr>\n",
              "      <th>8</th>\n",
              "      <td>193</td>\n",
              "    </tr>\n",
              "    <tr>\n",
              "      <th>9</th>\n",
              "      <td>5</td>\n",
              "    </tr>\n",
              "  </tbody>\n",
              "</table>\n",
              "</div>"
            ],
            "text/plain": [
              "          red\n",
              "quality      \n",
              "3          30\n",
              "4         216\n",
              "5        2138\n",
              "6        2836\n",
              "7        1079\n",
              "8         193\n",
              "9           5"
            ]
          },
          "execution_count": null,
          "metadata": {},
          "output_type": "execute_result"
        }
      ],
      "source": [
        "wines[[\"quality\", \"red\"]].groupby(\"quality\").count()"
      ]
    },
    {
      "cell_type": "markdown",
      "metadata": {},
      "source": [
        "### corr\u00e9lations\n",
        "\n",
        "fonction [pairplot](https://stanford.edu/~mwaskom/software/seaborn/generated/seaborn.pairplot.html?highlight=pairplot#seaborn.pairplot)"
      ]
    },
    {
      "cell_type": "code",
      "execution_count": null,
      "metadata": {},
      "outputs": [
        {
          "data": {
            "text/plain": [
              "<seaborn.axisgrid.PairGrid at 0x269cc022fd0>"
            ]
          },
          "execution_count": null,
          "metadata": {},
          "output_type": "execute_result"
        }
      ],
      "source": [
        "import seaborn\n",
        "seaborn.pairplot(wines)"
      ]
    },
    {
      "cell_type": "markdown",
      "metadata": {},
      "source": [
        "fonction [clustermap](https://stanford.edu/~mwaskom/software/seaborn/generated/seaborn.clustermap.html), plus pratique quand il y a beaucoup de variables"
      ]
    },
    {
      "cell_type": "code",
      "execution_count": null,
      "metadata": {},
      "outputs": [
        {
          "data": {
            "text/plain": [
              "<seaborn.matrix.ClusterGrid at 0x269c4506f98>"
            ]
          },
          "execution_count": null,
          "metadata": {},
          "output_type": "execute_result"
        }
      ],
      "source": [
        "import seaborn\n",
        "seaborn.set(font=\"monospace\")\n",
        "cmap = seaborn.diverging_palette(h_neg=210, h_pos=350, s=90, l=30, as_cmap=True)\n",
        "seaborn.clustermap(wines.corr(), linewidths=.5, figsize=(13, 13), cmap=cmap)"
      ]
    },
    {
      "cell_type": "markdown",
      "metadata": {},
      "source": [
        "## Classifieur\n",
        "\n",
        "Pour le jeu [Wine Quality Data Set](https://archive.ics.uci.edu/ml/datasets/Wine+Quality), on essaye de pr\u00e9dire la note de l'expert qui est discr\u00e8te et qui va de 1 \u00e0 9. On utilise l'exemple pr\u00e9sent \u00e0 la page [Decisions Trees](http://scikit-learn.org/stable/modules/tree.html) et un autre arbre de d\u00e9cision appris en faisant du boosting avec [AdaBoostClassifier](http://scikit-learn.org/stable/modules/generated/sklearn.ensemble.AdaBoostClassifier.html)."
      ]
    },
    {
      "cell_type": "code",
      "execution_count": null,
      "metadata": {},
      "outputs": [
        {
          "data": {
            "text/plain": [
              "DecisionTreeClassifier(class_weight=None, criterion='gini', max_depth=None,\n",
              "            max_features=None, max_leaf_nodes=None,\n",
              "            min_impurity_split=1e-07, min_samples_leaf=10,\n",
              "            min_samples_split=10, min_weight_fraction_leaf=0.0,\n",
              "            presort=False, random_state=None, splitter='best')"
            ]
          },
          "execution_count": null,
          "metadata": {},
          "output_type": "execute_result"
        }
      ],
      "source": [
        "from sklearn import tree\n",
        "clf1 = tree.DecisionTreeClassifier(min_samples_leaf=10, min_samples_split=10)\n",
        "clf1.fit(x_train, y_train)"
      ]
    },
    {
      "cell_type": "code",
      "execution_count": null,
      "metadata": {},
      "outputs": [
        {
          "data": {
            "text/plain": [
              "AdaBoostClassifier(algorithm='SAMME',\n",
              "          base_estimator=DecisionTreeClassifier(class_weight=None, criterion='gini', max_depth=None,\n",
              "            max_features=None, max_leaf_nodes=None,\n",
              "            min_impurity_split=1e-07, min_samples_leaf=10,\n",
              "            min_samples_split=10, min_weight_fraction_leaf=0.0,\n",
              "            presort=False, random_state=None, splitter='best'),\n",
              "          learning_rate=0.5, n_estimators=800, random_state=None)"
            ]
          },
          "execution_count": null,
          "metadata": {},
          "output_type": "execute_result"
        }
      ],
      "source": [
        "from sklearn.ensemble import AdaBoostClassifier\n",
        "clf2 = AdaBoostClassifier(clf1,\n",
        "                         algorithm='SAMME',\n",
        "                         n_estimators=800,\n",
        "                         learning_rate=0.5)\n",
        "clf2.fit(x_train, y_train)"
      ]
    },
    {
      "cell_type": "markdown",
      "metadata": {},
      "source": [
        "On a besoin de sp\u00e9cifier le param\u00e8tre *min_samples_leaf* pour \u00e9viter de n'avoir qu'un \u00e9l\u00e9ment dans chaque feuille de l'arbre. Ce n'est souvent pas tr\u00e8s bon en terme de g\u00e9n\u00e9ralisation et l'arbre de d\u00e9cision retourne des probabilit\u00e9s de classification \u00e9gale \u00e0 1 \u00e9quivalent au ratio d'observations de la classe pr\u00e9dite dans cette feuille."
      ]
    },
    {
      "cell_type": "code",
      "execution_count": null,
      "metadata": {},
      "outputs": [
        {
          "data": {
            "text/plain": [
              "(array([3, 4, 5, 6, 7, 8, 9], dtype=int64), 'nb classes', 7)"
            ]
          },
          "execution_count": null,
          "metadata": {},
          "output_type": "execute_result"
        }
      ],
      "source": [
        "clf1.classes_, \"nb classes\", len(clf1.classes_)"
      ]
    },
    {
      "cell_type": "code",
      "execution_count": null,
      "metadata": {},
      "outputs": [
        {
          "data": {
            "text/plain": [
              "(array([3, 4, 5, 6, 7, 8, 9], dtype=int64), 'nb classes', 7)"
            ]
          },
          "execution_count": null,
          "metadata": {},
          "output_type": "execute_result"
        }
      ],
      "source": [
        "clf2.classes_, \"nb classes\", len(clf2.classes_)"
      ]
    },
    {
      "cell_type": "markdown",
      "metadata": {},
      "source": [
        "Il n'y a aucune note en desous de 3 ou au-dessus de 9 dans la base d'apprentissage."
      ]
    },
    {
      "cell_type": "markdown",
      "metadata": {},
      "source": [
        "### matrice de confusion\n",
        "\n",
        "La matrice de confusion est tr\u00e8s utilis\u00e9e dans les probl\u00e8mes multi-classes comme celui-ci. Elle donne une bonne indication de la pertinence du mod\u00e8le. L'inconv\u00e9nient est qu'elle ne tient pas compte du score retourn\u00e9 par le mod\u00e8le.\n",
        "\n",
        "avec la fonction [confusion_matrix](http://scikit-learn.org/stable/modules/generated/sklearn.metrics.confusion_matrix.html)"
      ]
    },
    {
      "cell_type": "code",
      "execution_count": null,
      "metadata": {},
      "outputs": [
        {
          "data": {
            "text/plain": [
              "array([[  0,   0,   4,   6,   0,   0,   0],\n",
              "       [  0,   1,  38,  33,   4,   0,   0],\n",
              "       [  0,   4, 388, 239,  40,   1,   0],\n",
              "       [  0,   6, 271, 588, 108,   4,   0],\n",
              "       [  0,   0,  40, 166, 141,   5,   0],\n",
              "       [  0,   0,   4,  27,  20,   6,   0],\n",
              "       [  0,   0,   0,   0,   1,   0,   0]])"
            ]
          },
          "execution_count": null,
          "metadata": {},
          "output_type": "execute_result"
        }
      ],
      "source": [
        "from sklearn.metrics import confusion_matrix\n",
        "y_pred = clf1.predict(x_test)\n",
        "conf1 = confusion_matrix(y_test, y_pred)\n",
        "conf1"
      ]
    },
    {
      "cell_type": "code",
      "execution_count": null,
      "metadata": {},
      "outputs": [
        {
          "data": {
            "text/plain": [
              "array([[  1,   0,   5,   4,   0,   0,   0],\n",
              "       [  2,  14,  44,  16,   0,   0,   0],\n",
              "       [  1,   9, 495, 157,  10,   0,   0],\n",
              "       [  0,   4, 201, 694,  71,   7,   0],\n",
              "       [  0,   0,   4, 134, 207,   7,   0],\n",
              "       [  0,   0,   0,  15,  23,  19,   0],\n",
              "       [  0,   0,   0,   1,   0,   0,   0]])"
            ]
          },
          "execution_count": null,
          "metadata": {},
          "output_type": "execute_result"
        }
      ],
      "source": [
        "y_pred = clf2.predict(x_test)\n",
        "conf2 = confusion_matrix(y_test, y_pred)\n",
        "conf2"
      ]
    },
    {
      "cell_type": "markdown",
      "metadata": {},
      "source": [
        "On peut consid\u00e9rer la pr\u00e9cision par classe : coefficient de la diagonale diviss\u00e9e par l'ensemble des poids de la m\u00eame ligne. Ou la pr\u00e9cision globale : somme des coefficients de la diagonale sur l'ensemble des coefficients. L'erreur correspond \u00e0 *1-precision*."
      ]
    },
    {
      "cell_type": "code",
      "execution_count": null,
      "metadata": {},
      "outputs": [
        {
          "data": {
            "text/plain": [
              "[0.0,\n",
              " 0.013157894736842105,\n",
              " 0.57738095238095233,\n",
              " 0.60184237461617196,\n",
              " 0.40056818181818182,\n",
              " 0.10526315789473684,\n",
              " 0.0]"
            ]
          },
          "execution_count": null,
          "metadata": {},
          "output_type": "execute_result"
        }
      ],
      "source": [
        "[ conf1[i,i] / conf1[i,:].sum() for i in range(conf1.shape [0]) ]"
      ]
    },
    {
      "cell_type": "code",
      "execution_count": null,
      "metadata": {},
      "outputs": [
        {
          "data": {
            "text/plain": [
              "0.52400932400932398"
            ]
          },
          "execution_count": null,
          "metadata": {},
          "output_type": "execute_result"
        }
      ],
      "source": [
        "sum(conf1[i,i] for i in range(conf1.shape[0])) / conf1.sum()"
      ]
    },
    {
      "cell_type": "markdown",
      "metadata": {},
      "source": [
        "Et pour l'autre classifieur :"
      ]
    },
    {
      "cell_type": "code",
      "execution_count": null,
      "metadata": {},
      "outputs": [
        {
          "data": {
            "text/plain": [
              "[0.10000000000000001,\n",
              " 0.18421052631578946,\n",
              " 0.7366071428571429,\n",
              " 0.7103377686796315,\n",
              " 0.58806818181818177,\n",
              " 0.33333333333333331,\n",
              " 0.0]"
            ]
          },
          "execution_count": null,
          "metadata": {},
          "output_type": "execute_result"
        }
      ],
      "source": [
        "[ conf2[i,i] / conf2[i,:].sum() for i in range(conf2.shape [0]) ]"
      ]
    },
    {
      "cell_type": "code",
      "execution_count": null,
      "metadata": {},
      "outputs": [
        {
          "data": {
            "text/plain": [
              "0.66666666666666663"
            ]
          },
          "execution_count": null,
          "metadata": {},
          "output_type": "execute_result"
        }
      ],
      "source": [
        "sum(conf2[i,i] for i in range(conf2.shape[0])) / conf2.sum()"
      ]
    },
    {
      "cell_type": "markdown",
      "metadata": {},
      "source": [
        "### courbe ROC avec decision_function\n",
        "\n",
        "voir [plot_roc](http://scikit-learn.org/stable/auto_examples/plot_roc.html)\n",
        "\n",
        "La courbe ROC est l'outil de r\u00e9f\u00e9rence pour comparer les performances de deux classifiers en tenant compte du score de confiance qu'il retourne.\n",
        "\n",
        "On superpose deux courbes ROC obtenue pour deux classes diff\u00e9rentes : un vin de la classe *A* est bien class\u00e9e si le mod\u00e8le pr\u00e9dit *A*, il est mal class\u00e9 s'il ne pr\u00e9dit pas *A*. Tout d'abord une courbe ROC s'appuie sur le score que retourne le classifieur avec la m\u00e9thode *decision_function* except\u00e9 lorsque le mod\u00e8le en question ne l'impl\u00e9mente pas. On ruse un peu pour construire un score :"
      ]
    },
    {
      "cell_type": "code",
      "execution_count": null,
      "metadata": {},
      "outputs": [
        {
          "data": {
            "text/plain": [
              "(array([ 0.44020779,  0.52681959,  0.5502509 ,  0.45185157,  0.42031122]),\n",
              " array([6, 5, 7, 5, 5], dtype=int64),\n",
              " array([[ 0.00752588,  0.02393212,  0.09864973,  0.44020779,  0.26559545,\n",
              "          0.14657718,  0.01751184],\n",
              "        [ 0.01607109,  0.11993216,  0.52681959,  0.30492848,  0.02353611,\n",
              "          0.00871257,  0.        ],\n",
              "        [ 0.00119983,  0.01753467,  0.04380276,  0.15571456,  0.5502509 ,\n",
              "          0.14095752,  0.09053976],\n",
              "        [ 0.00127399,  0.04448601,  0.45185157,  0.42330139,  0.06277742,\n",
              "          0.01125213,  0.0050575 ],\n",
              "        [ 0.05092009,  0.23678461,  0.42031122,  0.23719241,  0.04483768,\n",
              "          0.009954  ,  0.        ]]))"
            ]
          },
          "execution_count": null,
          "metadata": {},
          "output_type": "execute_result"
        }
      ],
      "source": [
        "y_pred = clf2.predict(x_test)\n",
        "y_prob = clf2.decision_function(x_test)\n",
        "y_min = y_pred.min()\n",
        "import numpy\n",
        "y_score = numpy.array( [y_prob[i,p-y_min] for i,p in enumerate(y_pred)] ) \n",
        "y_score[:5], y_pred[:5], y_prob[:5,:]"
      ]
    },
    {
      "cell_type": "markdown",
      "metadata": {},
      "source": [
        "On cr\u00e9e les courbes ROC pour chacune des classes :"
      ]
    },
    {
      "cell_type": "code",
      "execution_count": null,
      "metadata": {},
      "outputs": [
        {
          "data": {
            "text/plain": [
              "({3: 0.18641686182669787,\n",
              "  4: 0.32598382132227621,\n",
              "  5: 0.5822412552936993,\n",
              "  6: 0.47413629926669565,\n",
              "  7: 0.49056146377325965,\n",
              "  8: 0.40479431336963095,\n",
              "  9: 0.24486940298507465},\n",
              " {3: 10, 4: 76, 5: 672, 6: 977, 7: 352, 8: 57, 9: 1})"
            ]
          },
          "execution_count": null,
          "metadata": {},
          "output_type": "execute_result"
        }
      ],
      "source": [
        "from sklearn.metrics import roc_curve, auc\n",
        "\n",
        "fpr = dict()\n",
        "tpr = dict()\n",
        "roc_auc = dict()\n",
        "nb_obs = dict()\n",
        "\n",
        "for i in clf2.classes_:\n",
        "    fpr[i], tpr[i], _ = roc_curve(y_test == i, y_score)\n",
        "    roc_auc[i] = auc(fpr[i], tpr[i])\n",
        "    nb_obs[i] = (y_test == i).sum()\n",
        "    \n",
        "roc_auc, nb_obs"
      ]
    },
    {
      "cell_type": "markdown",
      "metadata": {},
      "source": [
        "On ajoute une derni\u00e8re courbe ROC pour savoir si un \u00e9l\u00e9ment est bien class\u00e9 ou pas en balayant toutes les classes :"
      ]
    },
    {
      "cell_type": "code",
      "execution_count": null,
      "metadata": {},
      "outputs": [
        {
          "data": {
            "text/plain": [
              "({3: 0.18641686182669787,\n",
              "  4: 0.32598382132227621,\n",
              "  5: 0.5822412552936993,\n",
              "  6: 0.47413629926669565,\n",
              "  7: 0.49056146377325965,\n",
              "  8: 0.40479431336963095,\n",
              "  9: 0.24486940298507465,\n",
              "  'all': 0.74340261137463926},\n",
              " {3: 10, 4: 76, 5: 672, 6: 977, 7: 352, 8: 57, 9: 1, 'all': 1430})"
            ]
          },
          "execution_count": null,
          "metadata": {},
          "output_type": "execute_result"
        }
      ],
      "source": [
        "i = \"all\"\n",
        "fpr[i], tpr[i], _ = roc_curve(y_test == y_pred, y_score)\n",
        "roc_auc[i] = auc(fpr[i], tpr[i])\n",
        "nb_obs[i] = (y_test == y_pred).sum()\n",
        "\n",
        "roc_auc_best, nb_obs_best = roc_auc, nb_obs\n",
        "roc_auc, nb_obs"
      ]
    },
    {
      "cell_type": "code",
      "execution_count": null,
      "metadata": {},
      "outputs": [
        {
          "data": {
            "text/plain": [
              "<matplotlib.legend.Legend at 0x269ddd6a278>"
            ]
          },
          "execution_count": null,
          "metadata": {},
          "output_type": "execute_result"
        }
      ],
      "source": [
        "import matplotlib.pyplot as plt\n",
        "fig, axes = plt.subplots(1,2, figsize=(14,5), sharey=True)\n",
        "for cl in (3,4,5):\n",
        "    axes[0].plot(fpr[cl], tpr[cl], label='ROC classe %d (area = %0.2f)' % (cl, roc_auc[cl]))\n",
        "for cl in (\"all\",):\n",
        "    axes[1].plot(fpr[cl], tpr[cl], label='ROC classe (area = %0.2f)' % (roc_auc[cl]))\n",
        "axes[0].legend()\n",
        "axes[1].legend()"
      ]
    },
    {
      "cell_type": "code",
      "execution_count": null,
      "metadata": {
        "collapsed": true
      },
      "outputs": [],
      "source": []
    },
    {
      "cell_type": "markdown",
      "metadata": {},
      "source": [
        "### courbe ROC avec predict_proba\n",
        "\n",
        "voir [plot_roc](http://scikit-learn.org/stable/auto_examples/plot_roc.html), on l'applique \u00e0 l'arbre de d\u00e9cision"
      ]
    },
    {
      "cell_type": "code",
      "execution_count": null,
      "metadata": {},
      "outputs": [
        {
          "data": {
            "text/plain": [
              "array([ 0.        ,  0.1875    ,  0.38461538,  0.08333333,  0.26666667])"
            ]
          },
          "execution_count": null,
          "metadata": {},
          "output_type": "execute_result"
        }
      ],
      "source": [
        "y_pred = clf1.predict(x_test)\n",
        "y_prob = clf1.predict_proba(x_test)\n",
        "y_min = y_pred.min()\n",
        "import numpy\n",
        "y_score = numpy.array( [y_prob[i,p-y_min] for i,p in enumerate(y_pred)] ) \n",
        "y_score[:5]"
      ]
    },
    {
      "cell_type": "markdown",
      "metadata": {},
      "source": [
        "On cr\u00e9e les courbes ROC pour chacune des classes :"
      ]
    },
    {
      "cell_type": "code",
      "execution_count": null,
      "metadata": {},
      "outputs": [
        {
          "data": {
            "text/plain": [
              "({3: 0.60763466042154568,\n",
              "  4: 0.49627330772557299,\n",
              "  5: 0.49347834432483112,\n",
              "  6: 0.50749866799399901,\n",
              "  7: 0.50036521447041526,\n",
              "  8: 0.47083165288700679,\n",
              "  9: 0.23297574626865669},\n",
              " {3: 10, 4: 76, 5: 672, 6: 977, 7: 352, 8: 57, 9: 1})"
            ]
          },
          "execution_count": null,
          "metadata": {},
          "output_type": "execute_result"
        }
      ],
      "source": [
        "from sklearn.metrics import roc_curve, auc\n",
        "\n",
        "fpr = dict()\n",
        "tpr = dict()\n",
        "roc_auc = dict()\n",
        "nb_obs = dict()\n",
        "\n",
        "for i in clf1.classes_:\n",
        "    fpr[i], tpr[i], _ = roc_curve(y_test == i, y_score)\n",
        "    roc_auc[i] = auc(fpr[i], tpr[i])\n",
        "    nb_obs[i] = (y_test == i).sum()\n",
        "    \n",
        "roc_auc, nb_obs"
      ]
    },
    {
      "cell_type": "markdown",
      "metadata": {},
      "source": [
        "On ajoute une derni\u00e8re courbe ROC pour savoir si un \u00e9l\u00e9ment est bien class\u00e9 ou pas :"
      ]
    },
    {
      "cell_type": "code",
      "execution_count": null,
      "metadata": {},
      "outputs": [
        {
          "data": {
            "text/plain": [
              "({3: 0.60763466042154568,\n",
              "  4: 0.49627330772557299,\n",
              "  5: 0.49347834432483112,\n",
              "  6: 0.50749866799399901,\n",
              "  7: 0.50036521447041526,\n",
              "  8: 0.47083165288700679,\n",
              "  9: 0.23297574626865669,\n",
              "  'all': 0.47382372316583077},\n",
              " {3: 10, 4: 76, 5: 672, 6: 977, 7: 352, 8: 57, 9: 1, 'all': 1124})"
            ]
          },
          "execution_count": null,
          "metadata": {},
          "output_type": "execute_result"
        }
      ],
      "source": [
        "i = \"all\"\n",
        "fpr[i], tpr[i], _ = roc_curve(y_test == y_pred, y_score)\n",
        "roc_auc[i] = auc(fpr[i], tpr[i])\n",
        "nb_obs[i] = (y_test == y_pred).sum()\n",
        "\n",
        "roc_auc, nb_obs"
      ]
    },
    {
      "cell_type": "code",
      "execution_count": null,
      "metadata": {},
      "outputs": [
        {
          "data": {
            "text/plain": [
              "<matplotlib.legend.Legend at 0x269de0b3e10>"
            ]
          },
          "execution_count": null,
          "metadata": {},
          "output_type": "execute_result"
        }
      ],
      "source": [
        "import matplotlib.pyplot as plt\n",
        "fig, axes = plt.subplots(1,2, figsize=(14,5), sharey=True)\n",
        "for cl in (3,4,5):\n",
        "    axes[0].plot(fpr[cl], tpr[cl], label='ROC classe %d (area = %0.2f)' % (cl, roc_auc[cl]))\n",
        "for cl in (\"all\",):\n",
        "    axes[1].plot(fpr[cl], tpr[cl], label='ROC classe (area = %0.2f)' % (roc_auc[cl]))\n",
        "axes[0].legend()\n",
        "axes[1].legend()"
      ]
    },
    {
      "cell_type": "markdown",
      "metadata": {},
      "source": [
        "Voir \u00e9galement [scikit-learn for TMVA Users](http://betatim.github.io/posts/sklearn-for-TMVA-users/)."
      ]
    },
    {
      "cell_type": "markdown",
      "metadata": {},
      "source": [
        "## Alternatives \u00e0 la courbe ROC"
      ]
    },
    {
      "cell_type": "markdown",
      "metadata": {},
      "source": [
        "### un peu plus sur la courbe de ROC\n",
        "\n",
        "La courbe ROC est parfois difficile \u00e0 interpr\u00e9ter. Tout d'abord, elle suppose qu'un classifieur retourne une classe et un score. Le score d\u00e9termine la confiance du mod\u00e8le en sa pr\u00e9vision. Une classifieur dessine une fronti\u00e8re autour de classe, plus on est loin de cette fronti\u00e8re, plus on est confiant. Sa confiance est proche de 1. A l'inverse, si on cherche \u00e0 pr\u00e9dire la classe d'une observation proche de la fronti\u00e8re, le classifier n'est pas tr\u00e8s confiance. Sa confiance est proche de 0.\n",
        "\n",
        "Le coin sup\u00e9rieur de droit de la courbe ROC a pour coordonn\u00e9es (1,1) : dans ce cas, on valide toutes les r\u00e9ponses du classifieur. On valide toutes ses erreurs (abscisse = 100%) et toutes ses bonnes r\u00e9ponses (ordonn\u00e9e = 100%). Si on d\u00e9cide que le classifieur ne peut pas r\u00e9pondre pour un score < 0.5, on va rejetter un certain nombre de r\u00e9ponse : on fera moins d'erreurs (x=100%-40%) et moins de bonnes r\u00e9ponses (y=100%-10%). La courbe passera par point de coordonn\u00e9es (0.6,0.9). La courbe ROC est construite en faisant varier le seuil de validation des r\u00e9ponses du classifieur."
      ]
    },
    {
      "cell_type": "code",
      "execution_count": null,
      "metadata": {},
      "outputs": [
        {
          "data": {
            "image/png": "[encoded data removed]",
            "text/plain": [
              "<IPython.core.display.Image object>"
            ]
          },
          "execution_count": null,
          "metadata": {},
          "output_type": "execute_result"
        }
      ],
      "source": [
        "from pyquickhelper.helpgen import NbImage\n",
        "NbImage(\"roc_ex.png\")"
      ]
    },
    {
      "cell_type": "markdown",
      "metadata": {},
      "source": [
        "Chaque point de la courbe est obtenu pour un seuil diff\u00e9rent. Le seuil augmente (on valide moins de r\u00e9ponses) dans le sens de la fl\u00e8che verte. Si le score d'un classifieur est pertinent, le nombre d'erreurs baisse plus vite que le nombre de bonnes r\u00e9ponses. Si le score n'est pas pertinent, la courbe ROC est proche de la diagonale. Lorsque le seuil de validation augmente, le ratio erreur sur bonnes r\u00e9ponses ne change pas."
      ]
    },
    {
      "cell_type": "markdown",
      "metadata": {},
      "source": [
        "### AUC\n",
        "\n",
        "L'AUC ou [Area Under the Curve](https://en.wikipedia.org/wiki/Receiver_operating_characteristic#Area_under_the_curve) est l'aire sous la courbe ROC. Pour un classifieur binaire, si elle est \u00e9gale \u00e0 0.5, cela signifie que le score classifieur ne donne aucune indication sur la qualit\u00e9 de la r\u00e9ponse (il est al\u00e9atoire). En-dessous, il y a probablement une erreur. L'AUC v\u00e9rifie une autre propri\u00e9t\u00e9. Soit le score $p(x_1)$ le score d'une bonne r\u00e9ponse et $n(x_2)$ le score d'une mauvaise r\u00e9ponse, alors :\n",
        "\n",
        "$\\mathbb{P}(p(x_1) > n(x_2)) = AUC$\n",
        "\n",
        "Autrement dit, la probabilit\u00e9 que le score d'une bonne r\u00e9ponse soit sup\u00e9rieure au score d'une mauvaise r\u00e9ponse est \u00e9gale \u00e0 l'AUC ([d\u00e9monstration](http://www.xavierdupre.fr/site2013/documents/reports/roc.pdf))."
      ]
    },
    {
      "cell_type": "markdown",
      "metadata": {},
      "source": [
        "### distribution des scores\n",
        "\n",
        "Pour illustrer cette AUC de fa\u00e7on diff\u00e9rente, on peut tracer la distribution des scores pour les bonnes et les mauvaises r\u00e9ponses."
      ]
    },
    {
      "cell_type": "code",
      "execution_count": null,
      "metadata": {},
      "outputs": [
        {
          "data": {
            "text/plain": [
              "AdaBoostClassifier(algorithm='SAMME',\n",
              "          base_estimator=DecisionTreeClassifier(class_weight=None, criterion='gini', max_depth=None,\n",
              "            max_features=None, max_leaf_nodes=None,\n",
              "            min_impurity_split=1e-07, min_samples_leaf=10,\n",
              "            min_samples_split=10, min_weight_fraction_leaf=0.0,\n",
              "            presort=False, random_state=None, splitter='best'),\n",
              "          learning_rate=0.5, n_estimators=800, random_state=None)"
            ]
          },
          "execution_count": null,
          "metadata": {},
          "output_type": "execute_result"
        }
      ],
      "source": [
        "from sklearn.ensemble import AdaBoostClassifier\n",
        "clft = tree.DecisionTreeClassifier(min_samples_leaf=10, min_samples_split=10)\n",
        "clfD = AdaBoostClassifier(clft,\n",
        "                         algorithm='SAMME',\n",
        "                         n_estimators=800,\n",
        "                         learning_rate=0.5)\n",
        "clfD.fit(x_train, y_train)"
      ]
    },
    {
      "cell_type": "code",
      "execution_count": null,
      "metadata": {},
      "outputs": [
        {
          "data": {
            "text/plain": [
              "array([ 0.15005472,  0.15257345,  0.1518589 ,  0.15062559,  0.15027236])"
            ]
          },
          "execution_count": null,
          "metadata": {},
          "output_type": "execute_result"
        }
      ],
      "source": [
        "from sklearn.metrics import auc, precision_recall_curve\n",
        "\n",
        "y_predD = clfD.predict(x_test)\n",
        "y_probD = clfD.predict_proba(x_test)\n",
        "y_testn = y_test.as_matrix()\n",
        "y_minD = y_predD.min()\n",
        "import numpy\n",
        "y_scoreD = numpy.array( [y_probD[i,p-y_minD] for i,p in enumerate(y_predD)] )\n",
        "y_scoreD[:5]"
      ]
    },
    {
      "cell_type": "code",
      "execution_count": null,
      "metadata": {
        "collapsed": true
      },
      "outputs": [],
      "source": [
        "positive_scores = y_scoreD[y_testn == y_predD]\n",
        "negative_scores = y_scoreD[y_testn != y_predD]"
      ]
    },
    {
      "cell_type": "code",
      "execution_count": null,
      "metadata": {},
      "outputs": [
        {
          "data": {
            "text/plain": [
              "((1427,), (718,))"
            ]
          },
          "execution_count": null,
          "metadata": {},
          "output_type": "execute_result"
        }
      ],
      "source": [
        "positive_scores.shape, negative_scores.shape"
      ]
    },
    {
      "cell_type": "code",
      "execution_count": null,
      "metadata": {},
      "outputs": [
        {
          "data": {
            "text/plain": [
              "({3: 0.60763466042154568,\n",
              "  4: 0.49627330772557299,\n",
              "  5: 0.49347834432483112,\n",
              "  6: 0.50749866799399901,\n",
              "  7: 0.50036521447041526,\n",
              "  8: 0.47083165288700679,\n",
              "  9: 0.23297574626865669},\n",
              " {3: 10, 4: 76, 5: 672, 6: 977, 7: 352, 8: 57, 9: 1})"
            ]
          },
          "execution_count": null,
          "metadata": {},
          "output_type": "execute_result"
        }
      ],
      "source": [
        "from sklearn.metrics import roc_curve, auc\n",
        "\n",
        "fpr = dict()\n",
        "tpr = dict()\n",
        "roc_auc = dict()\n",
        "nb_obs = dict()\n",
        "\n",
        "for i in clfD.classes_:\n",
        "    fpr[i], tpr[i], _ = roc_curve(y_test == i, y_score)\n",
        "    roc_auc[i] = auc(fpr[i], tpr[i])\n",
        "    nb_obs[i] = (y_test == i).sum()\n",
        "    \n",
        "roc_auc, nb_obs"
      ]
    },
    {
      "cell_type": "code",
      "execution_count": null,
      "metadata": {},
      "outputs": [
        {
          "data": {
            "text/plain": [
              "<matplotlib.legend.Legend at 0x269de262400>"
            ]
          },
          "execution_count": null,
          "metadata": {},
          "output_type": "execute_result"
        }
      ],
      "source": [
        "import seaborn\n",
        "ax = seaborn.distplot(positive_scores, rug=True, hist=True, label=\"+\")\n",
        "seaborn.distplot(negative_scores, rug=True, hist=True, ax=ax, label=\"-\")\n",
        "ax.legend()"
      ]
    },
    {
      "cell_type": "markdown",
      "metadata": {},
      "source": [
        "Le score de ce mod\u00e8le n'est pas des plus discriminants puisqu'il existe une aire commune assez importante."
      ]
    },
    {
      "cell_type": "markdown",
      "metadata": {},
      "source": [
        "### taux de rappel et pr\u00e9cision\n",
        "\n",
        "Les taux de [rappel et de pr\u00e9cision](https://fr.wikipedia.org/wiki/Pr%C3%A9cision_et_rappel) (precision recall) sont tr\u00e8s utilis\u00e9s en classification. Pour un seuil donn\u00e9, la pr\u00e9cision mesure le taux de r\u00e9ponse parmi les r\u00e9ponses valid\u00e9es (donc ayant un score au-dessus du seuil choisi), le taux de rappel mesure le taux de r\u00e9ponse valid\u00e9es.\n",
        "\n",
        "La d\u00e9nomination ``vrai positif``, ``faux positif``, ... est assez trompeuse. Comme le classifieur retourne un score de confiance, on d\u00e9cide de valider ou de rejeter sa r\u00e9ponse si le score est sup\u00e9rieur ou inf\u00e9rieur \u00e0 ce seuil :\n",
        "\n",
        "* si *score >= seuil*, on valide la r\u00e9ponse, qui est soit bonne (*TP : True Positive*), soit fausse (*FP : False Positive*)\n",
        "* si *score < seuil*, on rejete la r\u00e9ponse qui est soit bonne (*FN : False Negative*) soit fausse (*TN : True Negative*)\n",
        "\n",
        "La pr\u00e9sicion est d\u00e9finie comme \u00e9tant le nombre de r\u00e9ponses justes sur le nombre de r\u00e9ponses valid\u00e9es :\n",
        "\n",
        "$precision = \\frac{TP}{TP + FP}$ et $rappel = \\frac{TP}{TP + FN}$\n",
        "\n",
        "On utilise la fonction [precision_recall_curve](http://scikit-learn.org/stable/modules/generated/sklearn.metrics.precision_recall_curve.html)."
      ]
    },
    {
      "cell_type": "code",
      "execution_count": null,
      "metadata": {},
      "outputs": [
        {
          "data": {
            "text/plain": [
              "AdaBoostClassifier(algorithm='SAMME',\n",
              "          base_estimator=DecisionTreeClassifier(class_weight=None, criterion='gini', max_depth=None,\n",
              "            max_features=None, max_leaf_nodes=None,\n",
              "            min_impurity_split=1e-07, min_samples_leaf=10,\n",
              "            min_samples_split=10, min_weight_fraction_leaf=0.0,\n",
              "            presort=False, random_state=None, splitter='best'),\n",
              "          learning_rate=0.5, n_estimators=800, random_state=None)"
            ]
          },
          "execution_count": null,
          "metadata": {},
          "output_type": "execute_result"
        }
      ],
      "source": [
        "from sklearn.ensemble import AdaBoostClassifier\n",
        "clft = tree.DecisionTreeClassifier(min_samples_leaf=10, min_samples_split=10)\n",
        "clf4 = AdaBoostClassifier(clft,\n",
        "                         algorithm='SAMME',\n",
        "                         n_estimators=800,\n",
        "                         learning_rate=0.5)\n",
        "clf4.fit(x_train, y_train)"
      ]
    },
    {
      "cell_type": "code",
      "execution_count": null,
      "metadata": {
        "collapsed": true
      },
      "outputs": [],
      "source": [
        "from sklearn.metrics import auc, precision_recall_curve\n",
        "\n",
        "y_pred4 = clf4.predict(x_test)\n",
        "y_prob4 = clf4.predict_proba(x_test)\n",
        "y_min4 = y_pred4.min()\n",
        "import numpy\n",
        "y_score4 = numpy.array( [y_prob4[i,p-y_min4] for i,p in enumerate(y_pred4)] )\n",
        "y_score4[:5]\n",
        "\n",
        "precision = dict()\n",
        "recall = dict()\n",
        "threshold = dict()\n",
        "nb_obs = dict()\n",
        "\n",
        "for i in clf4.classes_:\n",
        "    precision[i], recall[i], threshold[i] = precision_recall_curve(y_test == i, y_score4)\n",
        "    nb_obs[i] = (y_test == i).sum()\n",
        "\n",
        "i = \"all\"\n",
        "precision[i], recall[i], threshold[i] = precision_recall_curve(y_test == y_pred4, y_score4)\n",
        "nb_obs[i] = (y_test == y_pred4).sum()"
      ]
    },
    {
      "cell_type": "code",
      "execution_count": null,
      "metadata": {},
      "outputs": [
        {
          "data": {
            "text/plain": [
              "<matplotlib.legend.Legend at 0x269c7f000f0>"
            ]
          },
          "execution_count": null,
          "metadata": {},
          "output_type": "execute_result"
        }
      ],
      "source": [
        "import matplotlib.pyplot as plt\n",
        "fig, axes = plt.subplots(1,2, figsize=(14,5))\n",
        "for cl in (3,4,5,6,7,'all'):\n",
        "    axes[0].plot(precision[cl], recall[cl], label='Precision/Rappel classe %s' % str(cl))\n",
        "cl = 'all'\n",
        "axes[1].plot(threshold[cl], recall[cl][1:], label='recall - all')\n",
        "axes[1].plot(threshold[cl], precision[cl][1:], label='precision - all')\n",
        "axes[1].set_xlabel(\"threshold\")\n",
        "axes[0].set_xlabel(\"precision\")\n",
        "axes[0].set_ylabel(\"recall\")\n",
        "axes[0].legend()\n",
        "axes[1].legend()"
      ]
    },
    {
      "cell_type": "markdown",
      "metadata": {
        "collapsed": true
      },
      "source": [
        "Il para\u00eet difficile de faire montrer la pr\u00e9cision dans baisser beaucoup le rappel. Cette courbe est inconsistance lorsque le rappel est tr\u00e8s bas car la pr\u00e9cision est estim\u00e9e sur peu d'observations."
      ]
    },
    {
      "cell_type": "markdown",
      "metadata": {},
      "source": [
        "## R\u00e9gression"
      ]
    },
    {
      "cell_type": "code",
      "execution_count": null,
      "metadata": {},
      "outputs": [
        {
          "data": {
            "text/plain": [
              "LinearRegression(copy_X=True, fit_intercept=True, n_jobs=1, normalize=False)"
            ]
          },
          "execution_count": null,
          "metadata": {},
          "output_type": "execute_result"
        }
      ],
      "source": [
        "from sklearn import linear_model\n",
        "clr1 = linear_model.LinearRegression()\n",
        "clr1.fit(x_train, y_train)"
      ]
    },
    {
      "cell_type": "code",
      "execution_count": null,
      "metadata": {},
      "outputs": [
        {
          "data": {
            "text/plain": [
              "DecisionTreeRegressor(criterion='mse', max_depth=None, max_features=None,\n",
              "           max_leaf_nodes=None, min_impurity_split=1e-07,\n",
              "           min_samples_leaf=10, min_samples_split=2,\n",
              "           min_weight_fraction_leaf=0.0, presort=False, random_state=None,\n",
              "           splitter='best')"
            ]
          },
          "execution_count": null,
          "metadata": {},
          "output_type": "execute_result"
        }
      ],
      "source": [
        "from sklearn import tree\n",
        "clr2 = tree.DecisionTreeRegressor(min_samples_leaf=10)\n",
        "clr2.fit(x_train, y_train)"
      ]
    },
    {
      "cell_type": "markdown",
      "metadata": {},
      "source": [
        "### cross validation"
      ]
    },
    {
      "cell_type": "code",
      "execution_count": null,
      "metadata": {},
      "outputs": [
        {
          "data": {
            "text/plain": [
              "array([ 0.29336767,  0.31460783,  0.3111648 ,  0.30226155,  0.28286758,\n",
              "        0.33354088,  0.28893078,  0.21155669,  0.29534698,  0.36294567])"
            ]
          },
          "execution_count": null,
          "metadata": {},
          "output_type": "execute_result"
        }
      ],
      "source": [
        "from sklearn.model_selection import cross_val_score\n",
        "cross_val_score(clr1, x_train, y_train, cv=10)"
      ]
    },
    {
      "cell_type": "code",
      "execution_count": null,
      "metadata": {},
      "outputs": [
        {
          "data": {
            "text/plain": [
              "array([ 0.20980579,  0.22057084,  0.28727361,  0.26474208,  0.19868929,\n",
              "        0.29983464,  0.29757946,  0.18285449,  0.21046024,  0.30407628])"
            ]
          },
          "execution_count": null,
          "metadata": {},
          "output_type": "execute_result"
        }
      ],
      "source": [
        "cross_val_score(clr2, x_train, y_train, cv=10)"
      ]
    },
    {
      "cell_type": "markdown",
      "metadata": {},
      "source": [
        "### r\u00e9pr\u00e9sentation des erreurs\n",
        "\n",
        "Difficile de repr\u00e9sentation des erreurs lorsque le probl\u00e8me est \u00e0 plusieurs dimensions. On trie les erreurs de fa\u00e7on croissante."
      ]
    },
    {
      "cell_type": "code",
      "execution_count": null,
      "metadata": {},
      "outputs": [
        {
          "data": {
            "text/plain": [
              "4745   -3.862356\n",
              "3307   -3.577666\n",
              "740    -3.338887\n",
              "3087   -2.784958\n",
              "652    -2.782309\n",
              "Name: quality, dtype: float64"
            ]
          },
          "execution_count": null,
          "metadata": {},
          "output_type": "execute_result"
        }
      ],
      "source": [
        "y_pred = clr1.predict(x_test)\n",
        "diff1 = (y_test * 1.0 - y_pred).sort_values()\n",
        "diff1.head()"
      ]
    },
    {
      "cell_type": "code",
      "execution_count": null,
      "metadata": {},
      "outputs": [
        {
          "data": {
            "text/plain": [
              "2050   -3.600000\n",
              "3087   -3.100000\n",
              "2159   -2.727273\n",
              "1505   -2.700000\n",
              "2225   -2.500000\n",
              "Name: quality, dtype: float64"
            ]
          },
          "execution_count": null,
          "metadata": {},
          "output_type": "execute_result"
        }
      ],
      "source": [
        "y_pred = clr2.predict(x_test)\n",
        "diff2 = (y_test * 1.0 - y_pred).sort_values()\n",
        "diff2.head()"
      ]
    },
    {
      "cell_type": "code",
      "execution_count": null,
      "metadata": {},
      "outputs": [
        {
          "data": {
            "text/plain": [
              "<matplotlib.legend.Legend at 0x269e5b2c5f8>"
            ]
          },
          "execution_count": null,
          "metadata": {},
          "output_type": "execute_result"
        }
      ],
      "source": [
        "import matplotlib.pyplot as plt\n",
        "fig, axes = plt.subplots(1,1, figsize=(16,4))\n",
        "axes.plot(list(range(len(diff1))), list(diff1),\"r-\", markersize = 3, label=\"linear\")\n",
        "axes.plot(list(range(len(diff2))), list(diff2),\"g-\", markersize = 3, label=\"tree\")\n",
        "axes.plot(list(range(len(diff1))), [0 for i in range(len(diff1))], \"b--\")\n",
        "axes.legend()"
      ]
    },
    {
      "cell_type": "markdown",
      "metadata": {},
      "source": [
        "L'erreur est reli\u00e9e \u00e0 l'aire sous la courbe."
      ]
    },
    {
      "cell_type": "markdown",
      "metadata": {},
      "source": [
        "### r\u00e9gression 1d et tendance"
      ]
    },
    {
      "cell_type": "code",
      "execution_count": null,
      "metadata": {},
      "outputs": [
        {
          "data": {
            "text/html": [
              "<div>\n",
              "<style>\n",
              "    .dataframe thead tr:only-child th {\n",
              "        text-align: right;\n",
              "    }\n",
              "\n",
              "    .dataframe thead th {\n",
              "        text-align: left;\n",
              "    }\n",
              "\n",
              "    .dataframe tbody tr th {\n",
              "        vertical-align: top;\n",
              "    }\n",
              "</style>\n",
              "<table border=\"1\" class=\"dataframe\">\n",
              "  <thead>\n",
              "    <tr style=\"text-align: right;\">\n",
              "      <th></th>\n",
              "      <th>alcohol</th>\n",
              "      <th>const</th>\n",
              "      <th>residual sugar</th>\n",
              "    </tr>\n",
              "  </thead>\n",
              "  <tbody>\n",
              "    <tr>\n",
              "      <th>101</th>\n",
              "      <td>9.4</td>\n",
              "      <td>1.0</td>\n",
              "      <td>9.6</td>\n",
              "    </tr>\n",
              "    <tr>\n",
              "      <th>3600</th>\n",
              "      <td>9.9</td>\n",
              "      <td>1.0</td>\n",
              "      <td>12.9</td>\n",
              "    </tr>\n",
              "    <tr>\n",
              "      <th>1741</th>\n",
              "      <td>12.9</td>\n",
              "      <td>1.0</td>\n",
              "      <td>2.0</td>\n",
              "    </tr>\n",
              "    <tr>\n",
              "      <th>86</th>\n",
              "      <td>9.9</td>\n",
              "      <td>1.0</td>\n",
              "      <td>1.9</td>\n",
              "    </tr>\n",
              "    <tr>\n",
              "      <th>3988</th>\n",
              "      <td>11.4</td>\n",
              "      <td>1.0</td>\n",
              "      <td>1.6</td>\n",
              "    </tr>\n",
              "  </tbody>\n",
              "</table>\n",
              "</div>"
            ],
            "text/plain": [
              "      alcohol  const  residual sugar\n",
              "101       9.4    1.0             9.6\n",
              "3600      9.9    1.0            12.9\n",
              "1741     12.9    1.0             2.0\n",
              "86        9.9    1.0             1.9\n",
              "3988     11.4    1.0             1.6"
            ]
          },
          "execution_count": null,
          "metadata": {},
          "output_type": "execute_result"
        }
      ],
      "source": [
        "x_train1d = x_train.copy()\n",
        "x_train1d[\"const\"] = 1.0\n",
        "train_1d = x_train1d[[\"alcohol\",\"const\", \"residual sugar\"]]\n",
        "train_1d.head()"
      ]
    },
    {
      "cell_type": "code",
      "execution_count": null,
      "metadata": {},
      "outputs": [
        {
          "data": {
            "text/plain": [
              "LinearRegression(copy_X=True, fit_intercept=True, n_jobs=1, normalize=False)"
            ]
          },
          "execution_count": null,
          "metadata": {},
          "output_type": "execute_result"
        }
      ],
      "source": [
        "from sklearn import linear_model\n",
        "clr = linear_model.LinearRegression()\n",
        "clr.fit(train_1d[[\"const\", \"alcohol\"]], train_1d[\"residual sugar\"])"
      ]
    },
    {
      "cell_type": "code",
      "execution_count": null,
      "metadata": {},
      "outputs": [
        {
          "data": {
            "text/html": [
              "<div>\n",
              "<style>\n",
              "    .dataframe thead tr:only-child th {\n",
              "        text-align: right;\n",
              "    }\n",
              "\n",
              "    .dataframe thead th {\n",
              "        text-align: left;\n",
              "    }\n",
              "\n",
              "    .dataframe tbody tr th {\n",
              "        vertical-align: top;\n",
              "    }\n",
              "</style>\n",
              "<table border=\"1\" class=\"dataframe\">\n",
              "  <thead>\n",
              "    <tr style=\"text-align: right;\">\n",
              "      <th></th>\n",
              "      <th>alcohol</th>\n",
              "      <th>const</th>\n",
              "      <th>residual sugar</th>\n",
              "      <th>trend</th>\n",
              "    </tr>\n",
              "  </thead>\n",
              "  <tbody>\n",
              "    <tr>\n",
              "      <th>101</th>\n",
              "      <td>9.4</td>\n",
              "      <td>1.0</td>\n",
              "      <td>9.6</td>\n",
              "      <td>7.019617</td>\n",
              "    </tr>\n",
              "    <tr>\n",
              "      <th>3600</th>\n",
              "      <td>9.9</td>\n",
              "      <td>1.0</td>\n",
              "      <td>12.9</td>\n",
              "      <td>6.301488</td>\n",
              "    </tr>\n",
              "    <tr>\n",
              "      <th>1741</th>\n",
              "      <td>12.9</td>\n",
              "      <td>1.0</td>\n",
              "      <td>2.0</td>\n",
              "      <td>1.992719</td>\n",
              "    </tr>\n",
              "    <tr>\n",
              "      <th>86</th>\n",
              "      <td>9.9</td>\n",
              "      <td>1.0</td>\n",
              "      <td>1.9</td>\n",
              "      <td>6.301488</td>\n",
              "    </tr>\n",
              "    <tr>\n",
              "      <th>3988</th>\n",
              "      <td>11.4</td>\n",
              "      <td>1.0</td>\n",
              "      <td>1.6</td>\n",
              "      <td>4.147104</td>\n",
              "    </tr>\n",
              "  </tbody>\n",
              "</table>\n",
              "</div>"
            ],
            "text/plain": [
              "      alcohol  const  residual sugar     trend\n",
              "101       9.4    1.0             9.6  7.019617\n",
              "3600      9.9    1.0            12.9  6.301488\n",
              "1741     12.9    1.0             2.0  1.992719\n",
              "86        9.9    1.0             1.9  6.301488\n",
              "3988     11.4    1.0             1.6  4.147104"
            ]
          },
          "execution_count": null,
          "metadata": {},
          "output_type": "execute_result"
        }
      ],
      "source": [
        "pred = clr.predict(train_1d[[\"const\", \"alcohol\"]])\n",
        "graph = train_1d.copy()\n",
        "graph[\"trend\"] = pred\n",
        "graph.head()"
      ]
    },
    {
      "cell_type": "code",
      "execution_count": null,
      "metadata": {},
      "outputs": [
        {
          "data": {
            "text/plain": [
              "<matplotlib.axes._subplots.AxesSubplot at 0x269e5ab4b38>"
            ]
          },
          "execution_count": null,
          "metadata": {},
          "output_type": "execute_result"
        }
      ],
      "source": [
        "ax = graph.plot(x=\"alcohol\", y=\"residual sugar\", kind=\"scatter\", label=\"residual sugar\")\n",
        "graph.sort_values(\"alcohol\").plot(x=\"alcohol\", y=\"trend\", ax=ax, color=\"green\", label=\"trend\")"
      ]
    },
    {
      "cell_type": "markdown",
      "metadata": {},
      "source": [
        "On peut aussi jouer avec la fonction [add_trend](http://statsmodels.sourceforge.net/devel/generated/statsmodels.tsa.tsatools.add_trend.html) de [statsmodels](http://statsmodels.sourceforge.net/devel/index.html)."
      ]
    },
    {
      "cell_type": "code",
      "execution_count": null,
      "metadata": {
        "collapsed": true
      },
      "outputs": [],
      "source": []
    },
    {
      "cell_type": "markdown",
      "metadata": {
        "collapsed": true
      },
      "source": [
        "### Exercice 1 : cr\u00e9er une fonction pour automatiser la cr\u00e9ation de ce graphe"
      ]
    },
    {
      "cell_type": "code",
      "execution_count": null,
      "metadata": {
        "collapsed": true
      },
      "outputs": [],
      "source": []
    },
    {
      "cell_type": "markdown",
      "metadata": {},
      "source": [
        "## Autres variantes"
      ]
    },
    {
      "cell_type": "markdown",
      "metadata": {},
      "source": [
        "### On agr\u00e8ge les classes 8 et 9, 3 et 4\n",
        "\n",
        "On agr\u00e9ge ces classes pour lesquels on manque d'observations."
      ]
    },
    {
      "cell_type": "code",
      "execution_count": null,
      "metadata": {
        "collapsed": true
      },
      "outputs": [],
      "source": [
        "y_train89 = y_train.copy()\n",
        "y_test89 = y_test.copy()\n",
        "y_train89[y_train89==9] = 8\n",
        "y_test89[y_test89==9] = 8\n",
        "y_train89[y_train89==3] = 4\n",
        "y_test89[y_test89==3] = 4"
      ]
    },
    {
      "cell_type": "code",
      "execution_count": null,
      "metadata": {},
      "outputs": [
        {
          "data": {
            "text/plain": [
              "AdaBoostClassifier(algorithm='SAMME',\n",
              "          base_estimator=DecisionTreeClassifier(class_weight=None, criterion='gini', max_depth=None,\n",
              "            max_features=None, max_leaf_nodes=None,\n",
              "            min_impurity_split=1e-07, min_samples_leaf=10,\n",
              "            min_samples_split=10, min_weight_fraction_leaf=0.0,\n",
              "            presort=False, random_state=None, splitter='best'),\n",
              "          learning_rate=0.5, n_estimators=800, random_state=None)"
            ]
          },
          "execution_count": null,
          "metadata": {},
          "output_type": "execute_result"
        }
      ],
      "source": [
        "from sklearn.ensemble import AdaBoostClassifier\n",
        "clft = tree.DecisionTreeClassifier(min_samples_leaf=10, min_samples_split=10)\n",
        "clf89 = AdaBoostClassifier(clft,\n",
        "                         algorithm='SAMME',\n",
        "                         n_estimators=800,\n",
        "                         learning_rate=0.5)\n",
        "clf89.fit(x_train, y_train89)"
      ]
    },
    {
      "cell_type": "code",
      "execution_count": null,
      "metadata": {},
      "outputs": [
        {
          "data": {
            "text/plain": [
              "array([[ 20,  45,  21,   0,   0],\n",
              "       [ 13, 485, 159,  13,   2],\n",
              "       [  6, 198, 698,  69,   6],\n",
              "       [  0,   2, 140, 203,   7],\n",
              "       [  0,   0,  16,  23,  19]])"
            ]
          },
          "execution_count": null,
          "metadata": {},
          "output_type": "execute_result"
        }
      ],
      "source": [
        "from sklearn.metrics import confusion_matrix\n",
        "y_pred = clf89.predict(x_test)\n",
        "conf89 = confusion_matrix(y_test89, y_pred)\n",
        "conf89"
      ]
    },
    {
      "cell_type": "code",
      "execution_count": null,
      "metadata": {},
      "outputs": [
        {
          "data": {
            "text/plain": [
              "({4: 0.31593571049391783,\n",
              "  5: 0.62113984256295862,\n",
              "  6: 0.47933725690890483,\n",
              "  7: 0.43131115955990462,\n",
              "  8: 0.33157642549113558,\n",
              "  'all': 0.72796686159844048},\n",
              " {4: 86, 5: 672, 6: 977, 7: 352, 8: 58, 'all': 1425})"
            ]
          },
          "execution_count": null,
          "metadata": {},
          "output_type": "execute_result"
        }
      ],
      "source": [
        "from sklearn.metrics import roc_curve, auc\n",
        "\n",
        "y_pred89 = clf89.predict(x_test)\n",
        "y_prob89 = clf89.predict_proba(x_test)\n",
        "y_min89 = y_pred89.min()\n",
        "import numpy\n",
        "y_score89 = numpy.array( [y_prob89[i,p-y_min89] for i,p in enumerate(y_pred89)] ) \n",
        "y_score89[:5]\n",
        "\n",
        "fpr89 = dict()\n",
        "tpr89 = dict()\n",
        "roc_auc89 = dict()\n",
        "nb_obs89 = dict()\n",
        "\n",
        "for i in clf89.classes_:\n",
        "    fpr89[i], tpr89[i], _ = roc_curve(y_test89 == i, y_score89)\n",
        "    roc_auc89[i] = auc(fpr89[i], tpr89[i])\n",
        "    nb_obs89[i] = (y_test89 == i).sum()\n",
        "    \n",
        "i = \"all\"\n",
        "fpr89[i], tpr89[i], _ = roc_curve(y_test89 == y_pred89, y_score89)\n",
        "roc_auc89[i] = auc(fpr89[i], tpr89[i])\n",
        "nb_obs89[i] = (y_test89 == y_pred89).sum()    \n",
        "    \n",
        "roc_auc89, nb_obs89"
      ]
    },
    {
      "cell_type": "markdown",
      "metadata": {},
      "source": [
        "A comparer avec le meilleur classifieur :"
      ]
    },
    {
      "cell_type": "code",
      "execution_count": null,
      "metadata": {},
      "outputs": [
        {
          "data": {
            "text/plain": [
              "({3: 0.18641686182669787,\n",
              "  4: 0.32598382132227621,\n",
              "  5: 0.5822412552936993,\n",
              "  6: 0.47413629926669565,\n",
              "  7: 0.49056146377325965,\n",
              "  8: 0.40479431336963095,\n",
              "  9: 0.24486940298507465,\n",
              "  'all': 0.74340261137463926},\n",
              " {3: 10, 4: 76, 5: 672, 6: 977, 7: 352, 8: 57, 9: 1, 'all': 1430})"
            ]
          },
          "execution_count": null,
          "metadata": {},
          "output_type": "execute_result"
        }
      ],
      "source": [
        "roc_auc_best, nb_obs_best"
      ]
    },
    {
      "cell_type": "code",
      "execution_count": null,
      "metadata": {},
      "outputs": [
        {
          "data": {
            "text/plain": [
              "<matplotlib.legend.Legend at 0x269ef42ac88>"
            ]
          },
          "execution_count": null,
          "metadata": {},
          "output_type": "execute_result"
        }
      ],
      "source": [
        "import matplotlib.pyplot as plt\n",
        "fig, axes = plt.subplots(1,2, figsize=(14,5), sharey=True)\n",
        "for cl in (4,5,6,7,8):\n",
        "    axes[0].plot(fpr89[cl], tpr89[cl], label='ROC classe %d (area = %0.2f)' % (cl, roc_auc89[cl]))\n",
        "for cl in (\"all\",):\n",
        "    axes[1].plot(fpr89[cl], tpr89[cl], label='ROC classe (area = %0.2f)' % (roc_auc89[cl]))\n",
        "axes[0].legend()\n",
        "axes[1].legend()"
      ]
    },
    {
      "cell_type": "markdown",
      "metadata": {},
      "source": [
        "### On normalise les features\n",
        "\n",
        "M\u00eame si cette m\u00e9thode n'apporte pas grand chose dans ce cas, la normalisation par logarithme aide le classifieur lorsque les distributions ont des queues \u00e9paisses ou des points aberrants : cela donne moins d'importance aux \u00e9v\u00e9nements extr\u00eames."
      ]
    },
    {
      "cell_type": "code",
      "execution_count": null,
      "metadata": {
        "collapsed": true
      },
      "outputs": [],
      "source": [
        "import math\n",
        "x_train_n = x_train.copy()\n",
        "x_test_n = x_test.copy()\n",
        "x_train_n = x_train_n.applymap(lambda x: math.log(1+x))\n",
        "x_test_n = x_test_n.applymap(lambda x: math.log(1+x))"
      ]
    },
    {
      "cell_type": "code",
      "execution_count": null,
      "metadata": {},
      "outputs": [
        {
          "data": {
            "text/plain": [
              "array([[<matplotlib.axes._subplots.AxesSubplot object at 0x00000269EA382A20>,\n",
              "        <matplotlib.axes._subplots.AxesSubplot object at 0x00000269EF6949B0>,\n",
              "        <matplotlib.axes._subplots.AxesSubplot object at 0x00000269EF6EC2B0>],\n",
              "       [<matplotlib.axes._subplots.AxesSubplot object at 0x00000269EF75C710>,\n",
              "        <matplotlib.axes._subplots.AxesSubplot object at 0x00000269EF7C6630>,\n",
              "        <matplotlib.axes._subplots.AxesSubplot object at 0x00000269EF7C6668>],\n",
              "       [<matplotlib.axes._subplots.AxesSubplot object at 0x00000269EF861438>,\n",
              "        <matplotlib.axes._subplots.AxesSubplot object at 0x00000269EF89A978>,\n",
              "        <matplotlib.axes._subplots.AxesSubplot object at 0x00000269EF92FA90>],\n",
              "       [<matplotlib.axes._subplots.AxesSubplot object at 0x00000269EF93F7B8>,\n",
              "        <matplotlib.axes._subplots.AxesSubplot object at 0x00000269EF9FD518>,\n",
              "        <matplotlib.axes._subplots.AxesSubplot object at 0x00000269EFA5D320>]], dtype=object)"
            ]
          },
          "execution_count": null,
          "metadata": {},
          "output_type": "execute_result"
        }
      ],
      "source": [
        "x_train_n.hist(figsize=(14,14))"
      ]
    },
    {
      "cell_type": "code",
      "execution_count": null,
      "metadata": {},
      "outputs": [
        {
          "data": {
            "text/plain": [
              "AdaBoostClassifier(algorithm='SAMME',\n",
              "          base_estimator=DecisionTreeClassifier(class_weight=None, criterion='gini', max_depth=None,\n",
              "            max_features=None, max_leaf_nodes=None,\n",
              "            min_impurity_split=1e-07, min_samples_leaf=10,\n",
              "            min_samples_split=10, min_weight_fraction_leaf=0.0,\n",
              "            presort=False, random_state=None, splitter='best'),\n",
              "          learning_rate=0.5, n_estimators=800, random_state=None)"
            ]
          },
          "execution_count": null,
          "metadata": {},
          "output_type": "execute_result"
        }
      ],
      "source": [
        "from sklearn.ensemble import AdaBoostClassifier\n",
        "clft = tree.DecisionTreeClassifier(min_samples_leaf=10, min_samples_split=10)\n",
        "clfn = AdaBoostClassifier(clft,\n",
        "                         algorithm='SAMME',\n",
        "                         n_estimators=800,\n",
        "                         learning_rate=0.5)\n",
        "clfn.fit(x_train_n, y_train)"
      ]
    },
    {
      "cell_type": "code",
      "execution_count": null,
      "metadata": {},
      "outputs": [
        {
          "data": {
            "text/plain": [
              "array([[  1,   0,   5,   4,   0,   0,   0],\n",
              "       [  2,  15,  43,  16,   0,   0,   0],\n",
              "       [  1,   7, 496, 161,   6,   1,   0],\n",
              "       [  0,   4, 205, 692,  70,   6,   0],\n",
              "       [  0,   0,   4, 140, 200,   8,   0],\n",
              "       [  0,   0,   0,  16,  22,  19,   0],\n",
              "       [  0,   0,   0,   1,   0,   0,   0]])"
            ]
          },
          "execution_count": null,
          "metadata": {},
          "output_type": "execute_result"
        }
      ],
      "source": [
        "from sklearn.metrics import confusion_matrix\n",
        "y_predn = clfn.predict(x_test_n)\n",
        "confn = confusion_matrix(y_test, y_predn)\n",
        "confn"
      ]
    },
    {
      "cell_type": "code",
      "execution_count": null,
      "metadata": {},
      "outputs": [
        {
          "data": {
            "text/plain": [
              "({3: 0.24426229508196726,\n",
              "  4: 0.3175129098725547,\n",
              "  5: 0.61976388484789713,\n",
              "  6: 0.47986655403036971,\n",
              "  7: 0.43489358870354411,\n",
              "  8: 0.33348457350272231,\n",
              "  9: 0.26212686567164178,\n",
              "  'all': 0.73359606620946338},\n",
              " {3: 10, 4: 76, 5: 672, 6: 977, 7: 352, 8: 57, 9: 1, 'all': 1423})"
            ]
          },
          "execution_count": null,
          "metadata": {},
          "output_type": "execute_result"
        }
      ],
      "source": [
        "from sklearn.metrics import roc_curve, auc\n",
        "\n",
        "y_predn = clfn.predict(x_test_n)\n",
        "y_probn = clfn.predict_proba(x_test_n)\n",
        "y_minn = y_predn.min()\n",
        "import numpy\n",
        "y_scoren = numpy.array( [y_probn[i,p-y_minn] for i,p in enumerate(y_predn)] ) \n",
        "y_scoren[:5]\n",
        "\n",
        "fpr = dict()\n",
        "tpr = dict()\n",
        "roc_auc = dict()\n",
        "nb_obs = dict()\n",
        "\n",
        "for i in clfn.classes_:\n",
        "    fpr[i], tpr[i], _ = roc_curve(y_test == i, y_scoren)\n",
        "    roc_auc[i] = auc(fpr[i], tpr[i])\n",
        "    nb_obs[i] = (y_test == i).sum()\n",
        "    \n",
        "i = \"all\"\n",
        "fpr[i], tpr[i], _ = roc_curve(y_test == y_predn, y_scoren)\n",
        "roc_auc[i] = auc(fpr[i], tpr[i])\n",
        "nb_obs[i] = (y_test == y_predn).sum()    \n",
        "    \n",
        "roc_auc, nb_obs"
      ]
    },
    {
      "cell_type": "code",
      "execution_count": null,
      "metadata": {},
      "outputs": [
        {
          "data": {
            "text/plain": [
              "<matplotlib.text.Text at 0x269f52b99e8>"
            ]
          },
          "execution_count": null,
          "metadata": {},
          "output_type": "execute_result"
        }
      ],
      "source": [
        "import matplotlib.pyplot as plt\n",
        "fig, axes = plt.subplots(1,2, figsize=(14,5), sharey=True)\n",
        "for cl in (4,5,6,7,8):\n",
        "    axes[0].plot(fpr[cl], tpr[cl], label='ROC classe %d (area = %0.2f)' % (cl, roc_auc[cl]))\n",
        "for cl in (\"all\",):\n",
        "    axes[1].plot(fpr[cl], tpr[cl], label='ROC classe (area = %0.2f)' % (roc_auc[cl]))\n",
        "axes[0].legend()\n",
        "axes[1].legend()\n",
        "axes[0].set_ylabel(\"True Positive Rate\")\n",
        "axes[0].set_xlabel(\"False Positive Rate\")\n",
        "axes[1].set_xlabel(\"False Positive Rate\")"
      ]
    },
    {
      "cell_type": "markdown",
      "metadata": {},
      "source": [
        "### Classifieur pour les classes 8-9"
      ]
    },
    {
      "cell_type": "code",
      "execution_count": null,
      "metadata": {},
      "outputs": [
        {
          "data": {
            "text/plain": [
              "GaussianNB(priors=None)"
            ]
          },
          "execution_count": null,
          "metadata": {},
          "output_type": "execute_result"
        }
      ],
      "source": [
        "from sklearn.naive_bayes  import GaussianNB\n",
        "clfs89 = GaussianNB()\n",
        "clfs89.fit(x_train, y_train89)"
      ]
    },
    {
      "cell_type": "code",
      "execution_count": null,
      "metadata": {},
      "outputs": [
        {
          "data": {
            "text/plain": [
              "array([[ 15,  39,  26,   6,   0],\n",
              "       [ 35, 353, 244,  40,   0],\n",
              "       [ 27, 289, 416, 239,   6],\n",
              "       [  6,  31, 122, 174,  19],\n",
              "       [  0,   4,  15,  30,   9]])"
            ]
          },
          "execution_count": null,
          "metadata": {},
          "output_type": "execute_result"
        }
      ],
      "source": [
        "from sklearn.metrics import confusion_matrix\n",
        "y_pred89 = clfs89.predict(x_test)\n",
        "confs89 = confusion_matrix(y_test89, y_pred89)\n",
        "confs89"
      ]
    },
    {
      "cell_type": "code",
      "execution_count": null,
      "metadata": {},
      "outputs": [
        {
          "data": {
            "text/plain": [
              "({4: 0.56018387792674251,\n",
              "  5: 0.59860323117706016,\n",
              "  6: 0.48064735491650434,\n",
              "  7: 0.38087670486234343,\n",
              "  8: 0.4091832856930423,\n",
              "  'all': 0.5304338589409775},\n",
              " {4: 86, 5: 672, 6: 977, 7: 352, 8: 58, 'all': 967})"
            ]
          },
          "execution_count": null,
          "metadata": {},
          "output_type": "execute_result"
        }
      ],
      "source": [
        "from sklearn.metrics import roc_curve, auc\n",
        "\n",
        "y_preds89 = clfs89.predict(x_test)\n",
        "y_probs89 = clfs89.predict_proba(x_test)\n",
        "y_mins89 = y_preds89.min()\n",
        "import numpy\n",
        "y_scores89 = numpy.array( [y_probs89[i,p-y_mins89] for i,p in enumerate(y_preds89)] ) \n",
        "y_scores89[:5]\n",
        "\n",
        "fpr = dict()\n",
        "tpr = dict()\n",
        "roc_auc = dict()\n",
        "nb_obs = dict()\n",
        "\n",
        "for i in clfs89.classes_:\n",
        "    fpr[i], tpr[i], _ = roc_curve(y_test89 == i, y_scores89)\n",
        "    roc_auc[i] = auc(fpr[i], tpr[i])\n",
        "    nb_obs[i] = (y_test89 == i).sum()\n",
        "    \n",
        "i = \"all\"\n",
        "fpr[i], tpr[i], _ = roc_curve(y_test89 == y_preds89, y_scores89)\n",
        "roc_auc[i] = auc(fpr[i], tpr[i])\n",
        "nb_obs[i] = (y_test89 == y_preds89).sum()    \n",
        "    \n",
        "roc_auc, nb_obs"
      ]
    },
    {
      "cell_type": "code",
      "execution_count": null,
      "metadata": {
        "collapsed": true
      },
      "outputs": [],
      "source": [
        "%matplotlib inline"
      ]
    },
    {
      "cell_type": "code",
      "execution_count": null,
      "metadata": {},
      "outputs": [
        {
          "data": {
            "text/plain": [
              "<matplotlib.text.Text at 0x269f55b0d68>"
            ]
          },
          "execution_count": null,
          "metadata": {},
          "output_type": "execute_result"
        },
        {
          "data": {
            "image/png": "[encoded data removed]",
            "text/plain": [
              "<matplotlib.figure.Figure at 0x269f550fd30>"
            ]
          },
          "metadata": {},
          "output_type": "display_data"
        }
      ],
      "source": [
        "import matplotlib.pyplot as plt\n",
        "fig, axes = plt.subplots(1,2, figsize=(14,5), sharey=True)\n",
        "for cl in clfs89.classes_:\n",
        "    axes[0].plot(fpr[cl], tpr[cl], label='ROC classe %d (area = %0.2f)' % (cl, roc_auc[cl]))\n",
        "for cl in (\"all\",):\n",
        "    axes[1].plot(fpr[cl], tpr[cl], label='ROC classe (area = %0.2f)' % (roc_auc[cl]))\n",
        "axes[0].legend()\n",
        "axes[1].legend()\n",
        "axes[0].set_ylabel(\"True Positive Rate\")\n",
        "axes[0].set_xlabel(\"False Positive Rate\")\n",
        "axes[1].set_xlabel(\"False Positive Rate\")"
      ]
    },
    {
      "cell_type": "markdown",
      "metadata": {},
      "source": [
        "## Autres modules"
      ]
    },
    {
      "cell_type": "markdown",
      "metadata": {},
      "source": [
        "### XGBoost\n",
        "\n",
        "Le module [XGBoost](http://xgboost.readthedocs.org/en/latest/python) est utilis\u00e9 dans la plupart des comp\u00e9titions [Kaggle](https://www.kaggle.com/)."
      ]
    },
    {
      "cell_type": "code",
      "execution_count": null,
      "metadata": {},
      "outputs": [
        {
          "name": "stderr",
          "output_type": "stream",
          "text": [
            "c:\\Python36_x64\\lib\\site-packages\\sklearn\\cross_validation.py:44: DeprecationWarning: This module was deprecated in version 0.18 in favor of the model_selection module into which all the refactored classes and functions are moved. Also note that the interface of the new CV iterators are different from that of this module. This module will be removed in 0.20.\n",
            "  \"This module will be removed in 0.20.\", DeprecationWarning)\n"
          ]
        }
      ],
      "source": [
        "import xgboost"
      ]
    },
    {
      "cell_type": "code",
      "execution_count": null,
      "metadata": {},
      "outputs": [
        {
          "data": {
            "text/plain": [
              "XGBClassifier(base_score=0.5, colsample_bylevel=1, colsample_bytree=0.5,\n",
              "       gamma=0, learning_rate=0.1, max_delta_step=0, max_depth=10,\n",
              "       min_child_weight=5, missing=None, n_estimators=800, nthread=3,\n",
              "       objective='multi:softprob', reg_alpha=0, reg_lambda=1,\n",
              "       scale_pos_weight=1, seed=0, silent=True, subsample=1)"
            ]
          },
          "execution_count": null,
          "metadata": {},
          "output_type": "execute_result"
        }
      ],
      "source": [
        "try:\n",
        "    clxg = xgboost.XGBClassifier(max_depth=10, min_child_weight=5, nthread=3, n_estimators=800,\n",
        "                                 colsample_bytree=0.5)\n",
        "except Exception:\n",
        "    # Newer version of XGBoost have different parameters.\n",
        "    clxg = xgboost.XGBClassifier(max_depth=10, min_child_weight=5, nthread=3, n_estimators=800,\n",
        "                                 colsample_bytree=2)\n",
        "clxg.fit(x_train, y_train)"
      ]
    },
    {
      "cell_type": "code",
      "execution_count": null,
      "metadata": {},
      "outputs": [
        {
          "data": {
            "text/plain": [
              "array([[  0,   0,   4,   6,   0,   0,   0],\n",
              "       [  1,  18,  42,  15,   0,   0,   0],\n",
              "       [  2,   6, 479, 172,  13,   0,   0],\n",
              "       [  1,   6, 191, 697,  79,   3,   0],\n",
              "       [  0,   0,   6, 138, 202,   6,   0],\n",
              "       [  0,   0,   0,  21,  17,  19,   0],\n",
              "       [  0,   0,   0,   1,   0,   0,   0]])"
            ]
          },
          "execution_count": null,
          "metadata": {},
          "output_type": "execute_result"
        }
      ],
      "source": [
        "from sklearn.metrics import confusion_matrix\n",
        "y_pred = clxg.predict(x_test)\n",
        "confxg = confusion_matrix(y_test, y_pred)\n",
        "confxg"
      ]
    },
    {
      "cell_type": "code",
      "execution_count": null,
      "metadata": {},
      "outputs": [
        {
          "data": {
            "text/plain": [
              "({3: 0.33550351288056207,\n",
              "  4: 0.39011981379257715,\n",
              "  5: 0.58805018103643358,\n",
              "  6: 0.46074876263653058,\n",
              "  7: 0.48162361202656789,\n",
              "  8: 0.42054849768098407,\n",
              "  9: 0.25652985074626866,\n",
              "  'all': 0.70095454765477516},\n",
              " {3: 10, 4: 76, 5: 672, 6: 977, 7: 352, 8: 57, 9: 1, 'all': 1415})"
            ]
          },
          "execution_count": null,
          "metadata": {},
          "output_type": "execute_result"
        }
      ],
      "source": [
        "from sklearn.metrics import roc_curve, auc\n",
        "\n",
        "y_predxg = clxg.predict(x_test)\n",
        "y_probxg = clxg.predict_proba(x_test)\n",
        "y_minxg = y_predxg.min()\n",
        "import numpy\n",
        "y_scorexg = numpy.array( [y_probxg[i,p-y_minxg] for i,p in enumerate(y_predxg)] ) \n",
        "y_scorexg[:5]\n",
        "\n",
        "fpr = dict()\n",
        "tpr = dict()\n",
        "roc_auc = dict()\n",
        "nb_obs = dict()\n",
        "\n",
        "for i in clxg.classes_:\n",
        "    fpr[i], tpr[i], _ = roc_curve(y_test == i, y_scorexg)\n",
        "    roc_auc[i] = auc(fpr[i], tpr[i])\n",
        "    nb_obs[i] = (y_test == i).sum()\n",
        "    \n",
        "i = \"all\"\n",
        "fpr[i], tpr[i], _ = roc_curve(y_test == y_predxg, y_scorexg)\n",
        "roc_auc[i] = auc(fpr[i], tpr[i])\n",
        "nb_obs[i] = (y_test == y_predxg).sum()    \n",
        "    \n",
        "roc_auc, nb_obs"
      ]
    },
    {
      "cell_type": "code",
      "execution_count": null,
      "metadata": {},
      "outputs": [
        {
          "data": {
            "text/plain": [
              "<matplotlib.text.Text at 0x269f57359b0>"
            ]
          },
          "execution_count": null,
          "metadata": {},
          "output_type": "execute_result"
        },
        {
          "data": {
            "image/png": "[encoded data removed]",
            "text/plain": [
              "<matplotlib.figure.Figure at 0x269f56b3710>"
            ]
          },
          "metadata": {},
          "output_type": "display_data"
        }
      ],
      "source": [
        "import matplotlib.pyplot as plt\n",
        "fig, axes = plt.subplots(1,2, figsize=(14,5), sharey=True)\n",
        "for cl in (3,4,5,6,7,8):\n",
        "    axes[0].plot(fpr[cl], tpr[cl], label='ROC classe %d (area = %0.2f)' % (cl, roc_auc[cl]))\n",
        "for cl in (\"all\",):\n",
        "    axes[1].plot(fpr[cl], tpr[cl], label='ROC classe (area = %0.2f)' % (roc_auc[cl]))\n",
        "axes[0].legend()\n",
        "axes[1].legend()\n",
        "axes[0].set_ylabel(\"True Positive Rate - XGBOOST\")\n",
        "axes[0].set_xlabel(\"False Positive Rate\")\n",
        "axes[1].set_xlabel(\"False Positive Rate\")"
      ]
    },
    {
      "cell_type": "markdown",
      "metadata": {},
      "source": [
        "### LightGBM\n",
        "\n",
        "Le module [LightGBM](https://github.com/Microsoft/LightGBM) est un \u00e9quivalent open source \u00e9crit par Microsoft. Il est plus rapide que XGBoost dans la plupart des cas."
      ]
    },
    {
      "cell_type": "code",
      "execution_count": null,
      "metadata": {
        "collapsed": true
      },
      "outputs": [],
      "source": [
        "import lightgbm"
      ]
    },
    {
      "cell_type": "code",
      "execution_count": null,
      "metadata": {},
      "outputs": [
        {
          "data": {
            "text/plain": [
              "LGBMClassifier(boosting_type='gbdt', colsample_bytree=0.5, learning_rate=0.1,\n",
              "        max_bin=255, max_depth=10, min_child_samples=10,\n",
              "        min_child_weight=5, min_split_gain=0, n_estimators=800, nthread=3,\n",
              "        num_leaves=31, objective='multiclass', reg_alpha=0, reg_lambda=0,\n",
              "        seed=0, silent=True, subsample=1, subsample_for_bin=50000,\n",
              "        subsample_freq=1)"
            ]
          },
          "execution_count": null,
          "metadata": {},
          "output_type": "execute_result"
        }
      ],
      "source": [
        "clgbm = lightgbm.LGBMClassifier(max_depth=10, min_child_weight=5, nthread=3, n_estimators=800,\n",
        "                             colsample_bytree=0.5)\n",
        "clgbm.fit(x_train, y_train)"
      ]
    },
    {
      "cell_type": "code",
      "execution_count": null,
      "metadata": {},
      "outputs": [
        {
          "data": {
            "text/plain": [
              "array([[  0,   0,   4,   6,   0,   0,   0],\n",
              "       [  2,  16,  44,  14,   0,   0,   0],\n",
              "       [  2,   6, 479, 172,  13,   0,   0],\n",
              "       [  0,   6, 191, 692,  84,   4,   0],\n",
              "       [  0,   0,  10, 138, 200,   4,   0],\n",
              "       [  0,   0,   0,  19,  19,  19,   0],\n",
              "       [  0,   0,   0,   1,   0,   0,   0]])"
            ]
          },
          "execution_count": null,
          "metadata": {},
          "output_type": "execute_result"
        }
      ],
      "source": [
        "from sklearn.metrics import confusion_matrix\n",
        "y_pred = clgbm.predict(x_test)\n",
        "confgbm = confusion_matrix(y_test, y_pred)\n",
        "confgbm"
      ]
    },
    {
      "cell_type": "code",
      "execution_count": null,
      "metadata": {},
      "outputs": [
        {
          "data": {
            "text/plain": [
              "({3: 0.33550351288056207,\n",
              "  4: 0.39011981379257715,\n",
              "  5: 0.58805018103643358,\n",
              "  6: 0.46074876263653058,\n",
              "  7: 0.48162361202656789,\n",
              "  8: 0.42054849768098407,\n",
              "  9: 0.25652985074626866,\n",
              "  'all': 0.70095454765477516},\n",
              " {3: 10, 4: 76, 5: 672, 6: 977, 7: 352, 8: 57, 9: 1, 'all': 1415})"
            ]
          },
          "execution_count": null,
          "metadata": {},
          "output_type": "execute_result"
        }
      ],
      "source": [
        "from sklearn.metrics import roc_curve, auc\n",
        "\n",
        "y_predgbm = clgbm.predict(x_test)\n",
        "y_probgbm = clgbm.predict_proba(x_test)\n",
        "y_mingbm = y_predgbm.min()\n",
        "import numpy\n",
        "y_scoregbm = numpy.array( [y_probgbm[i,p-y_minxg] for i,p in enumerate(y_predgbm)] ) \n",
        "y_scoregbm[:5]\n",
        "\n",
        "fpr = dict()\n",
        "tpr = dict()\n",
        "roc_auc = dict()\n",
        "nb_obs = dict()\n",
        "\n",
        "for i in clxg.classes_:\n",
        "    fpr[i], tpr[i], _ = roc_curve(y_test == i, y_scorexg)\n",
        "    roc_auc[i] = auc(fpr[i], tpr[i])\n",
        "    nb_obs[i] = (y_test == i).sum()\n",
        "    \n",
        "i = \"all\"\n",
        "fpr[i], tpr[i], _ = roc_curve(y_test == y_predxg, y_scorexg)\n",
        "roc_auc[i] = auc(fpr[i], tpr[i])\n",
        "nb_obs[i] = (y_test == y_predxg).sum()    \n",
        "    \n",
        "roc_auc, nb_obs"
      ]
    },
    {
      "cell_type": "code",
      "execution_count": null,
      "metadata": {},
      "outputs": [
        {
          "data": {
            "text/plain": [
              "<matplotlib.text.Text at 0x269f5a3e6a0>"
            ]
          },
          "execution_count": null,
          "metadata": {},
          "output_type": "execute_result"
        },
        {
          "data": {
            "image/png": "[encoded data removed]",
            "text/plain": [
              "<matplotlib.figure.Figure at 0x269f59d7470>"
            ]
          },
          "metadata": {},
          "output_type": "display_data"
        }
      ],
      "source": [
        "import matplotlib.pyplot as plt\n",
        "fig, axes = plt.subplots(1,2, figsize=(14,5), sharey=True)\n",
        "for cl in (3,4,5,6,7,8):\n",
        "    axes[0].plot(fpr[cl], tpr[cl], label='ROC classe %d (area = %0.2f)' % (cl, roc_auc[cl]))\n",
        "for cl in (\"all\",):\n",
        "    axes[1].plot(fpr[cl], tpr[cl], label='ROC classe (area = %0.2f)' % (roc_auc[cl]))\n",
        "axes[0].legend()\n",
        "axes[1].legend()\n",
        "axes[0].set_ylabel(\"True Positive Rate - LightGBM\")\n",
        "axes[0].set_xlabel(\"False Positive Rate\")\n",
        "axes[1].set_xlabel(\"False Positive Rate\")"
      ]
    },
    {
      "cell_type": "markdown",
      "metadata": {},
      "source": [
        "## Exercice 2 : simplifier l'apprentissage  de chaque mod\u00e8le"
      ]
    },
    {
      "cell_type": "code",
      "execution_count": null,
      "metadata": {
        "collapsed": true
      },
      "outputs": [],
      "source": []
    },
    {
      "cell_type": "markdown",
      "metadata": {},
      "source": [
        "## Exercice 3 : grid_search\n",
        "\n",
        "Consid\u00e9rer un mod\u00e8le et estimer au mieux ses param\u00e8tres."
      ]
    },
    {
      "cell_type": "code",
      "execution_count": null,
      "metadata": {
        "collapsed": true
      },
      "outputs": [],
      "source": []
    },
    {
      "cell_type": "code",
      "execution_count": null,
      "metadata": {
        "collapsed": true
      },
      "outputs": [],
      "source": []
    }
  ],
  "metadata": {
    "kernelspec": {
      "display_name": "Python 3",
      "language": "python",
      "name": "python3"
    },
    "language_info": {
      "codemirror_mode": {
        "name": "ipython",
        "version": 3
      },
      "file_extension": ".py",
      "mimetype": "text/x-python",
      "name": "python",
      "nbconvert_exporter": "python",
      "pygments_lexer": "ipython3",
      "version": "3.6.1"
    }
  },
  "nbformat": 4,
  "nbformat_minor": 1
}