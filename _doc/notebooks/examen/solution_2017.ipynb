{
  "cells": [
    {
      "cell_type": "markdown",
      "metadata": {
        "deletable": true,
        "editable": true
      },
      "source": [
        "# Evaluation Python ann\u00e9e 2016-2017 - solution\n",
        "\n",
        "Le r\u00e9pertoire [data](https://github.com/sdpython/actuariat_python/tree/master/_doc/notebooks/examen/data) contient deux fichiers csv simul\u00e9s al\u00e9atoirement dont il faudra se servir pour r\u00e9pondre aux 10 questions qui suivent. Chaque question vaut deux points. Le travail est \u00e0 rendre pour le lundi 20 f\u00e9vrier sous la forme d'un notebook envoy\u00e9 en pi\u00e8ce jointe d'un mail."
      ]
    },
    {
      "cell_type": "code",
      "execution_count": 1,
      "metadata": {
        "collapsed": true,
        "deletable": true,
        "editable": true
      },
      "outputs": [],
      "source": [
        "%matplotlib inline"
      ]
    },
    {
      "cell_type": "code",
      "execution_count": 2,
      "metadata": {
        "collapsed": false,
        "deletable": true,
        "editable": true
      },
      "outputs": [
        {
          "data": {
            "text/html": [
              "<div id=\"my_id_menu_nb\">run previous cell, wait for 2 seconds</div>\n",
              "<script>\n",
              "function repeat_indent_string(n){\n",
              "    var a = \"\" ;\n",
              "    for ( ; n > 0 ; --n) {\n",
              "        a += \"    \";\n",
              "    }\n",
              "    return a;\n",
              "}\n",
              "var update_menu_string = function(begin, lfirst, llast, sformat, send, keep_item) {\n",
              "    var anchors = document.getElementsByClassName(\"section\");\n",
              "    if (anchors.length == 0) {\n",
              "        anchors = document.getElementsByClassName(\"text_cell_render rendered_html\");\n",
              "    }\n",
              "    var i,t;\n",
              "    var text_menu = begin;\n",
              "    var text_memo = \"<pre>\\nlength:\" + anchors.length + \"\\n\";\n",
              "    var ind = \"\";\n",
              "    var memo_level = 1;\n",
              "    var href;\n",
              "    var tags = [];\n",
              "    var main_item = 0;\n",
              "    for (i = 0; i <= llast; i++) {\n",
              "        tags.push(\"h\" + i);\n",
              "    }\n",
              "\n",
              "    for (i = 0; i < anchors.length; i++) {\n",
              "        text_memo += \"**\" + anchors[i].id + \"--\\n\";\n",
              "\n",
              "        var child = null;\n",
              "        for(t = 0; t < tags.length; t++) {\n",
              "            var r = anchors[i].getElementsByTagName(tags[t]);\n",
              "            if (r.length > 0) {\n",
              "child = r[0];\n",
              "break;\n",
              "            }\n",
              "        }\n",
              "        if (child == null){\n",
              "            text_memo += \"null\\n\";\n",
              "            continue;\n",
              "        }\n",
              "        if (anchors[i].hasAttribute(\"id\")) {\n",
              "            // when converted in RST\n",
              "            href = anchors[i].id;\n",
              "            text_memo += \"#1-\" + href;\n",
              "            // passer \u00e0 child suivant (le chercher)\n",
              "        }\n",
              "        else if (child.hasAttribute(\"id\")) {\n",
              "            // in a notebook\n",
              "            href = child.id;\n",
              "            text_memo += \"#2-\" + href;\n",
              "        }\n",
              "        else {\n",
              "            text_memo += \"#3-\" + \"*\" + \"\\n\";\n",
              "            continue;\n",
              "        }\n",
              "        var title = child.textContent;\n",
              "        var level = parseInt(child.tagName.substring(1,2));\n",
              "\n",
              "        text_memo += \"--\" + level + \"?\" + lfirst + \"--\" + title + \"\\n\";\n",
              "\n",
              "        if ((level < lfirst) || (level > llast)) {\n",
              "            continue ;\n",
              "        }\n",
              "        if (title.endsWith('\u00b6')) {\n",
              "            title = title.substring(0,title.length-1).replace(\"<\", \"&lt;\").replace(\">\", \"&gt;\").replace(\"&\", \"&amp;\")\n",
              "        }\n",
              "\n",
              "        if (title.length == 0) {\n",
              "            continue;\n",
              "        }\n",
              "\n",
              "        while (level < memo_level) {\n",
              "            text_menu += \"</ul>\\n\";\n",
              "            memo_level -= 1;\n",
              "        }\n",
              "        if (level == lfirst) {\n",
              "            main_item += 1;\n",
              "        }\n",
              "        if (keep_item != -1 && main_item != keep_item + 1) {\n",
              "            // alert(main_item + \" - \" + level + \" - \" + keep_item);\n",
              "            continue;\n",
              "        }\n",
              "        while (level > memo_level) {\n",
              "            text_menu += \"<ul>\\n\";\n",
              "            memo_level += 1;\n",
              "        }\n",
              "        text_menu += repeat_indent_string(level-2) + sformat.replace(\"__HREF__\", href).replace(\"__TITLE__\", title);\n",
              "    }\n",
              "    while (1 < memo_level) {\n",
              "        text_menu += \"</ul>\\n\";\n",
              "        memo_level -= 1;\n",
              "    }\n",
              "    text_menu += send;\n",
              "    //text_menu += \"\\n\" + text_memo;\n",
              "    return text_menu;\n",
              "};\n",
              "var update_menu = function() {\n",
              "    var sbegin = \"\";\n",
              "    var sformat = '<li><a href=\"#__HREF__\">__TITLE__</a></li>';\n",
              "    var send = \"\";\n",
              "    var keep_item = -1;\n",
              "    var text_menu = update_menu_string(sbegin, 2, 4, sformat, send, keep_item);\n",
              "    var menu = document.getElementById(\"my_id_menu_nb\");\n",
              "    menu.innerHTML=text_menu;\n",
              "};\n",
              "window.setTimeout(update_menu,2000);\n",
              "            </script>"
            ],
            "text/plain": [
              "<IPython.core.display.HTML object>"
            ]
          },
          "execution_count": 3,
          "metadata": {},
          "output_type": "execute_result"
        }
      ],
      "source": [
        "from jyquickhelper import add_notebook_menu\n",
        "add_notebook_menu()"
      ]
    },
    {
      "cell_type": "markdown",
      "metadata": {
        "collapsed": true,
        "deletable": true,
        "editable": true
      },
      "source": [
        "## 1\n",
        "\n",
        "*Deux fichiers sont extraits de la base de donn\u00e9es d'un m\u00e9decin. Un fichier contient des informations sur des personnes, un autre sur les rendez-vous pris par ces personnes. Quels sont-ils ?*"
      ]
    },
    {
      "cell_type": "code",
      "execution_count": 4,
      "metadata": {
        "collapsed": false,
        "deletable": true,
        "editable": true
      },
      "outputs": [
        {
          "data": {
            "text/html": [
              "<div>\n",
              "<table border=\"1\" class=\"dataframe\">\n",
              "  <thead>\n",
              "    <tr style=\"text-align: right;\">\n",
              "      <th></th>\n",
              "      <th>age</th>\n",
              "      <th>gender</th>\n",
              "      <th>idc</th>\n",
              "      <th>name</th>\n",
              "    </tr>\n",
              "  </thead>\n",
              "  <tbody>\n",
              "    <tr>\n",
              "      <th>0</th>\n",
              "      <td>37</td>\n",
              "      <td>0</td>\n",
              "      <td>4ba0b473-f8ca-4466-a65b-40e9b8ba5029</td>\n",
              "      <td>Cendrillon</td>\n",
              "    </tr>\n",
              "    <tr>\n",
              "      <th>1</th>\n",
              "      <td>41</td>\n",
              "      <td>0</td>\n",
              "      <td>f44b004b-b01e-4835-b86d-1a42846c6d93</td>\n",
              "      <td>Cendrillon</td>\n",
              "    </tr>\n",
              "    <tr>\n",
              "      <th>2</th>\n",
              "      <td>46</td>\n",
              "      <td>1</td>\n",
              "      <td>304895f0-f686-4b0e-8854-a705bb5a6982</td>\n",
              "      <td>Balthazar</td>\n",
              "    </tr>\n",
              "    <tr>\n",
              "      <th>3</th>\n",
              "      <td>42</td>\n",
              "      <td>1</td>\n",
              "      <td>3f0d31d2-0ef4-4e7e-b876-07d10225cc8c</td>\n",
              "      <td>Balthazar</td>\n",
              "    </tr>\n",
              "    <tr>\n",
              "      <th>4</th>\n",
              "      <td>41</td>\n",
              "      <td>1</td>\n",
              "      <td>f29273f4-a76c-4158-b5f5-b3e5a080a0c7</td>\n",
              "      <td>Balthazar</td>\n",
              "    </tr>\n",
              "  </tbody>\n",
              "</table>\n",
              "</div>"
            ],
            "text/plain": [
              "   age  gender                                   idc        name\n",
              "0   37       0  4ba0b473-f8ca-4466-a65b-40e9b8ba5029  Cendrillon\n",
              "1   41       0  f44b004b-b01e-4835-b86d-1a42846c6d93  Cendrillon\n",
              "2   46       1  304895f0-f686-4b0e-8854-a705bb5a6982   Balthazar\n",
              "3   42       1  3f0d31d2-0ef4-4e7e-b876-07d10225cc8c   Balthazar\n",
              "4   41       1  f29273f4-a76c-4158-b5f5-b3e5a080a0c7   Balthazar"
            ]
          },
          "execution_count": 5,
          "metadata": {},
          "output_type": "execute_result"
        }
      ],
      "source": [
        "import pandas\n",
        "persons = pandas.read_csv(\"https://raw.githubusercontent.com/sdpython/actuariat_python/master/_doc/notebooks/examen/data/persons.txt\",\n",
        "                     sep=\"\\t\")\n",
        "persons.head()                     "
      ]
    },
    {
      "cell_type": "code",
      "execution_count": 6,
      "metadata": {
        "collapsed": false,
        "deletable": true,
        "editable": true
      },
      "outputs": [
        {
          "data": {
            "text/html": [
              "<div>\n",
              "<table border=\"1\" class=\"dataframe\">\n",
              "  <thead>\n",
              "    <tr style=\"text-align: right;\">\n",
              "      <th></th>\n",
              "      <th>date</th>\n",
              "      <th>idc</th>\n",
              "      <th>idr</th>\n",
              "      <th>price</th>\n",
              "    </tr>\n",
              "  </thead>\n",
              "  <tbody>\n",
              "    <tr>\n",
              "      <th>0</th>\n",
              "      <td>2016-12-02 19:47:45.068274</td>\n",
              "      <td>4ba0b473-f8ca-4466-a65b-40e9b8ba5029</td>\n",
              "      <td>b7db0ac9-86a1-46f9-98ac-f1f8eb54072d</td>\n",
              "      <td>75.0</td>\n",
              "    </tr>\n",
              "    <tr>\n",
              "      <th>1</th>\n",
              "      <td>2016-12-02 19:47:45.068274</td>\n",
              "      <td>4ba0b473-f8ca-4466-a65b-40e9b8ba5029</td>\n",
              "      <td>a65f721a-de11-4a01-be71-b26e2da3ac00</td>\n",
              "      <td>65.0</td>\n",
              "    </tr>\n",
              "    <tr>\n",
              "      <th>2</th>\n",
              "      <td>2016-12-07 19:47:45.068274</td>\n",
              "      <td>f44b004b-b01e-4835-b86d-1a42846c6d93</td>\n",
              "      <td>644b1236-b9ee-4ef5-8ca7-d1adadb547c8</td>\n",
              "      <td>75.0</td>\n",
              "    </tr>\n",
              "    <tr>\n",
              "      <th>3</th>\n",
              "      <td>2016-12-17 19:47:45.068274</td>\n",
              "      <td>f44b004b-b01e-4835-b86d-1a42846c6d93</td>\n",
              "      <td>aff6ac9e-5dd0-434e-9888-f724f6d40969</td>\n",
              "      <td>80.0</td>\n",
              "    </tr>\n",
              "    <tr>\n",
              "      <th>4</th>\n",
              "      <td>2017-01-07 19:47:45.068274</td>\n",
              "      <td>f44b004b-b01e-4835-b86d-1a42846c6d93</td>\n",
              "      <td>9ca87507-aa95-49a9-88b3-86ec9fbc44d6</td>\n",
              "      <td>80.0</td>\n",
              "    </tr>\n",
              "  </tbody>\n",
              "</table>\n",
              "</div>"
            ],
            "text/plain": [
              "                         date                                   idc  \\\n",
              "0  2016-12-02 19:47:45.068274  4ba0b473-f8ca-4466-a65b-40e9b8ba5029   \n",
              "1  2016-12-02 19:47:45.068274  4ba0b473-f8ca-4466-a65b-40e9b8ba5029   \n",
              "2  2016-12-07 19:47:45.068274  f44b004b-b01e-4835-b86d-1a42846c6d93   \n",
              "3  2016-12-17 19:47:45.068274  f44b004b-b01e-4835-b86d-1a42846c6d93   \n",
              "4  2017-01-07 19:47:45.068274  f44b004b-b01e-4835-b86d-1a42846c6d93   \n",
              "\n",
              "                                    idr  price  \n",
              "0  b7db0ac9-86a1-46f9-98ac-f1f8eb54072d   75.0  \n",
              "1  a65f721a-de11-4a01-be71-b26e2da3ac00   65.0  \n",
              "2  644b1236-b9ee-4ef5-8ca7-d1adadb547c8   75.0  \n",
              "3  aff6ac9e-5dd0-434e-9888-f724f6d40969   80.0  \n",
              "4  9ca87507-aa95-49a9-88b3-86ec9fbc44d6   80.0  "
            ]
          },
          "execution_count": 7,
          "metadata": {},
          "output_type": "execute_result"
        }
      ],
      "source": [
        "rend = pandas.read_csv(\"https://raw.githubusercontent.com/sdpython/actuariat_python/master/_doc/notebooks/examen/data/rendezvous.txt\",\n",
        "                     sep=\"\\t\")\n",
        "rend.head()  "
      ]
    },
    {
      "cell_type": "code",
      "execution_count": 8,
      "metadata": {
        "collapsed": false,
        "deletable": true,
        "editable": true
      },
      "outputs": [
        {
          "data": {
            "text/plain": [
              "((1000, 4), (2537, 4))"
            ]
          },
          "execution_count": 9,
          "metadata": {},
          "output_type": "execute_result"
        }
      ],
      "source": [
        "persons.shape, rend.shape"
      ]
    },
    {
      "cell_type": "markdown",
      "metadata": {
        "deletable": true,
        "editable": true
      },
      "source": [
        "Le second fichier est plus volumineux et contient une variable *price* qui ne peut pas \u00eatre reli\u00e9e aux personnes. Le premier fichier est celui des personnes, le second celui des rendez-vous. La variable *idc* est pr\u00e9sente dans les deux tables. C'est elle qui identifie les personnes dans les deux tables."
      ]
    },
    {
      "cell_type": "markdown",
      "metadata": {
        "deletable": true,
        "editable": true
      },
      "source": [
        "## 2\n",
        "\n",
        "*On souhaite \u00e9tudier la relation entre le prix moyen pay\u00e9 par une personne, son \u00e2ge et son genre. Calculer le prix moyen pay\u00e9 par une personne ?*\n",
        "\n",
        "La table des rendez-vous contient toutes l'information n\u00e9cessaire. La question \u00e9tait un peu ambigu\u00eb. On peut d\u00e9terminer le prix moyen pay\u00e9 par personne, ou le prix moyen des prix moyens... On va r\u00e9pondre \u00e0 la premi\u00e8re option car la seconde n'a pas beaucoup d'int\u00e9r\u00eat et c'est tr\u00e8s proche du prix moyen par rendez-vous, ce que la question aurait sans doute formul\u00e9 dans ce sens si telle avait \u00e9t\u00e9 son intention. On groupe par *idc* et on fait la moyenne."
      ]
    },
    {
      "cell_type": "code",
      "execution_count": 10,
      "metadata": {
        "collapsed": false,
        "deletable": true,
        "editable": true
      },
      "outputs": [
        {
          "data": {
            "text/html": [
              "<div>\n",
              "<table border=\"1\" class=\"dataframe\">\n",
              "  <thead>\n",
              "    <tr style=\"text-align: right;\">\n",
              "      <th></th>\n",
              "      <th>price</th>\n",
              "    </tr>\n",
              "    <tr>\n",
              "      <th>idc</th>\n",
              "      <th></th>\n",
              "    </tr>\n",
              "  </thead>\n",
              "  <tbody>\n",
              "    <tr>\n",
              "      <th>003b0195-2acb-4f46-b7fa-28cf266a8f60</th>\n",
              "      <td>80.0</td>\n",
              "    </tr>\n",
              "    <tr>\n",
              "      <th>009e689c-51a1-4cef-99ca-a4ba364eba8d</th>\n",
              "      <td>80.0</td>\n",
              "    </tr>\n",
              "    <tr>\n",
              "      <th>00a213c2-1174-4359-8a67-fe710ec1b439</th>\n",
              "      <td>70.0</td>\n",
              "    </tr>\n",
              "    <tr>\n",
              "      <th>00e42818-aade-4758-a5f6-c78a6f235ea5</th>\n",
              "      <td>70.0</td>\n",
              "    </tr>\n",
              "    <tr>\n",
              "      <th>0153b785-9acd-4d28-aad1-62f8bf2faea3</th>\n",
              "      <td>75.0</td>\n",
              "    </tr>\n",
              "  </tbody>\n",
              "</table>\n",
              "</div>"
            ],
            "text/plain": [
              "                                      price\n",
              "idc                                        \n",
              "003b0195-2acb-4f46-b7fa-28cf266a8f60   80.0\n",
              "009e689c-51a1-4cef-99ca-a4ba364eba8d   80.0\n",
              "00a213c2-1174-4359-8a67-fe710ec1b439   70.0\n",
              "00e42818-aade-4758-a5f6-c78a6f235ea5   70.0\n",
              "0153b785-9acd-4d28-aad1-62f8bf2faea3   75.0"
            ]
          },
          "execution_count": 11,
          "metadata": {},
          "output_type": "execute_result"
        }
      ],
      "source": [
        "gr = rend.groupby(\"idc\").mean()\n",
        "gr.head()"
      ]
    },
    {
      "cell_type": "markdown",
      "metadata": {
        "deletable": true,
        "editable": true
      },
      "source": [
        "## 3\n",
        "\n",
        "*Faire la jointure entre les deux tables.*"
      ]
    },
    {
      "cell_type": "code",
      "execution_count": 12,
      "metadata": {
        "collapsed": false,
        "deletable": true,
        "editable": true
      },
      "outputs": [
        {
          "data": {
            "text/html": [
              "<div>\n",
              "<table border=\"1\" class=\"dataframe\">\n",
              "  <thead>\n",
              "    <tr style=\"text-align: right;\">\n",
              "      <th></th>\n",
              "      <th>age</th>\n",
              "      <th>gender</th>\n",
              "      <th>idc</th>\n",
              "      <th>name</th>\n",
              "      <th>price</th>\n",
              "    </tr>\n",
              "  </thead>\n",
              "  <tbody>\n",
              "    <tr>\n",
              "      <th>0</th>\n",
              "      <td>37</td>\n",
              "      <td>0</td>\n",
              "      <td>4ba0b473-f8ca-4466-a65b-40e9b8ba5029</td>\n",
              "      <td>Cendrillon</td>\n",
              "      <td>70.000000</td>\n",
              "    </tr>\n",
              "    <tr>\n",
              "      <th>1</th>\n",
              "      <td>41</td>\n",
              "      <td>0</td>\n",
              "      <td>f44b004b-b01e-4835-b86d-1a42846c6d93</td>\n",
              "      <td>Cendrillon</td>\n",
              "      <td>78.333333</td>\n",
              "    </tr>\n",
              "    <tr>\n",
              "      <th>2</th>\n",
              "      <td>46</td>\n",
              "      <td>1</td>\n",
              "      <td>304895f0-f686-4b0e-8854-a705bb5a6982</td>\n",
              "      <td>Balthazar</td>\n",
              "      <td>75.000000</td>\n",
              "    </tr>\n",
              "    <tr>\n",
              "      <th>3</th>\n",
              "      <td>42</td>\n",
              "      <td>1</td>\n",
              "      <td>3f0d31d2-0ef4-4e7e-b876-07d10225cc8c</td>\n",
              "      <td>Balthazar</td>\n",
              "      <td>95.000000</td>\n",
              "    </tr>\n",
              "    <tr>\n",
              "      <th>4</th>\n",
              "      <td>41</td>\n",
              "      <td>1</td>\n",
              "      <td>f29273f4-a76c-4158-b5f5-b3e5a080a0c7</td>\n",
              "      <td>Balthazar</td>\n",
              "      <td>90.000000</td>\n",
              "    </tr>\n",
              "  </tbody>\n",
              "</table>\n",
              "</div>"
            ],
            "text/plain": [
              "   age  gender                                   idc        name      price\n",
              "0   37       0  4ba0b473-f8ca-4466-a65b-40e9b8ba5029  Cendrillon  70.000000\n",
              "1   41       0  f44b004b-b01e-4835-b86d-1a42846c6d93  Cendrillon  78.333333\n",
              "2   46       1  304895f0-f686-4b0e-8854-a705bb5a6982   Balthazar  75.000000\n",
              "3   42       1  3f0d31d2-0ef4-4e7e-b876-07d10225cc8c   Balthazar  95.000000\n",
              "4   41       1  f29273f4-a76c-4158-b5f5-b3e5a080a0c7   Balthazar  90.000000"
            ]
          },
          "execution_count": 13,
          "metadata": {},
          "output_type": "execute_result"
        }
      ],
      "source": [
        "join = persons.merge(gr.reset_index(), on=\"idc\")\n",
        "join.head()"
      ]
    },
    {
      "cell_type": "markdown",
      "metadata": {
        "deletable": true,
        "editable": true
      },
      "source": [
        "Cette jointure est assez simple puisque la colonne partag\u00e9e porte le m\u00eame nom dans les deux tables. On peut n\u00e9anmoins se poser la question de savoir s'il y a des personnes qui n'ont pas de rendez-vous associ\u00e9 et r\u00e9ciproquement."
      ]
    },
    {
      "cell_type": "code",
      "execution_count": 14,
      "metadata": {
        "collapsed": false,
        "deletable": true,
        "editable": true
      },
      "outputs": [
        {
          "data": {
            "text/plain": [
              "(1000, 5)"
            ]
          },
          "execution_count": 15,
          "metadata": {},
          "output_type": "execute_result"
        }
      ],
      "source": [
        "join.shape"
      ]
    },
    {
      "cell_type": "code",
      "execution_count": 16,
      "metadata": {
        "collapsed": false,
        "deletable": true,
        "editable": true
      },
      "outputs": [
        {
          "data": {
            "text/plain": [
              "(1000, 5)"
            ]
          },
          "execution_count": 17,
          "metadata": {},
          "output_type": "execute_result"
        }
      ],
      "source": [
        "join = persons.merge(gr.reset_index(), on=\"idc\", how=\"outer\")\n",
        "join.shape"
      ]
    },
    {
      "cell_type": "markdown",
      "metadata": {
        "deletable": true,
        "editable": true
      },
      "source": [
        "Visiblement, ce n'est pas le cas puisqu'une jointure incluant les \u00e9l\u00e9ments sans correspondances dans les deux tables n'ajoute pas plus d'\u00e9l\u00e9ments \u00e0 la jointure."
      ]
    },
    {
      "cell_type": "markdown",
      "metadata": {
        "deletable": true,
        "editable": true
      },
      "source": [
        "## 4\n",
        "\n",
        "*Tracer deux nuages de points (age, prix moyen) et (genre, prix moyen) ?*"
      ]
    },
    {
      "cell_type": "code",
      "execution_count": 18,
      "metadata": {
        "collapsed": false,
        "deletable": true,
        "editable": true
      },
      "outputs": [
        {
          "data": {
            "text/plain": [
              "<matplotlib.axes._subplots.AxesSubplot at 0x1554008ecc0>"
            ]
          },
          "execution_count": 19,
          "metadata": {},
          "output_type": "execute_result"
        },
        {
          "data": {
            "image/png": "[encoded data removed]",
            "text/plain": [
              "<matplotlib.figure.Figure at 0x1554008e3c8>"
            ]
          },
          "metadata": {},
          "output_type": "display_data"
        }
      ],
      "source": [
        "join.plot(x=\"age\", y=\"price\", kind=\"scatter\")"
      ]
    },
    {
      "cell_type": "markdown",
      "metadata": {
        "deletable": true,
        "editable": true
      },
      "source": [
        "On peut aussi utiliser un module comme [seaborn](http://seaborn.pydata.org/) qui propose des dessins int\u00e9ressants pour un statisticatien."
      ]
    },
    {
      "cell_type": "code",
      "execution_count": 20,
      "metadata": {
        "collapsed": false,
        "deletable": true,
        "editable": true
      },
      "outputs": [
        {
          "data": {
            "image/png": "[encoded data removed]",
            "text/plain": [
              "<matplotlib.figure.Figure at 0x1554014f358>"
            ]
          },
          "metadata": {},
          "output_type": "display_data"
        }
      ],
      "source": [
        "import seaborn\n",
        "g = seaborn.jointplot(\"age\", \"price\", data=join, kind=\"reg\", size=7, scatter_kws={\"s\": 10})"
      ]
    },
    {
      "cell_type": "code",
      "execution_count": 21,
      "metadata": {
        "collapsed": false,
        "deletable": true,
        "editable": true
      },
      "outputs": [
        {
          "data": {
            "text/plain": [
              "<matplotlib.axes._subplots.AxesSubplot at 0x155422f6ef0>"
            ]
          },
          "execution_count": 22,
          "metadata": {},
          "output_type": "execute_result"
        },
        {
          "data": {
            "image/png": "[encoded data removed]",
            "text/plain": [
              "<matplotlib.figure.Figure at 0x15542353c18>"
            ]
          },
          "metadata": {},
          "output_type": "display_data"
        }
      ],
      "source": [
        "join.plot(x=\"gender\", y=\"price\", kind=\"scatter\")"
      ]
    },
    {
      "cell_type": "markdown",
      "metadata": {
        "deletable": true,
        "editable": true
      },
      "source": [
        "On ne voit pas grand chose sur ce second graphe. Une option est d'ajouter un bruit al\u00e9atoire sur le genre pour \u00e9clater le nuage."
      ]
    },
    {
      "cell_type": "code",
      "execution_count": 23,
      "metadata": {
        "collapsed": false,
        "deletable": true,
        "editable": true
      },
      "outputs": [
        {
          "data": {
            "text/plain": [
              "<matplotlib.axes._subplots.AxesSubplot at 0x155423c30f0>"
            ]
          },
          "execution_count": 24,
          "metadata": {},
          "output_type": "execute_result"
        },
        {
          "data": {
            "image/png": "[encoded data removed]",
            "text/plain": [
              "<matplotlib.figure.Figure at 0x155423cf198>"
            ]
          },
          "metadata": {},
          "output_type": "display_data"
        }
      ],
      "source": [
        "import numpy\n",
        "bruit = join.copy()\n",
        "bruit[\"gx\"] = bruit.gender + numpy.random.random(bruit.shape[0])/3\n",
        "bruit.plot(x=\"gx\", y=\"price\", kind=\"scatter\")"
      ]
    },
    {
      "cell_type": "markdown",
      "metadata": {
        "deletable": true,
        "editable": true
      },
      "source": [
        "Il n'y a rien de flagrant. On peut faire un graphe moustache."
      ]
    },
    {
      "cell_type": "code",
      "execution_count": 25,
      "metadata": {
        "collapsed": false,
        "deletable": true,
        "editable": true
      },
      "outputs": [
        {
          "data": {
            "text/plain": [
              "<matplotlib.axes._subplots.AxesSubplot at 0x1554245a278>"
            ]
          },
          "execution_count": 26,
          "metadata": {},
          "output_type": "execute_result"
        },
        {
          "data": {
            "image/png": "[encoded data removed]",
            "text/plain": [
              "<matplotlib.figure.Figure at 0x155423d90f0>"
            ]
          },
          "metadata": {},
          "output_type": "display_data"
        }
      ],
      "source": [
        "join[[\"price\", \"gender\"]].boxplot(by=\"gender\")"
      ]
    },
    {
      "cell_type": "markdown",
      "metadata": {
        "deletable": true,
        "editable": true
      },
      "source": [
        "C'est mieux. Un dernier. Le diagramme violon, plus complet que le pr\u00e9c\u00e9dent."
      ]
    },
    {
      "cell_type": "code",
      "execution_count": 27,
      "metadata": {
        "collapsed": false,
        "deletable": true,
        "editable": true
      },
      "outputs": [
        {
          "data": {
            "text/plain": [
              "<matplotlib.axes._subplots.AxesSubplot at 0x15542484d30>"
            ]
          },
          "execution_count": 28,
          "metadata": {},
          "output_type": "execute_result"
        },
        {
          "data": {
            "image/png": "[encoded data removed]",
            "text/plain": [
              "<matplotlib.figure.Figure at 0x1554033d898>"
            ]
          },
          "metadata": {},
          "output_type": "display_data"
        }
      ],
      "source": [
        "seaborn.violinplot(x=\"gender\", y=\"price\", data=join, inner=\"quart\")"
      ]
    },
    {
      "cell_type": "markdown",
      "metadata": {
        "deletable": true,
        "editable": true
      },
      "source": [
        "## 5\n",
        "\n",
        "*Calculer les coefficients de la r\u00e9gression* $prix\\_moyen \\sim age + genre$.\n",
        "\n",
        "Une r\u00e9gression. Le premier r\u00e9flexe est [scikit-learn](http://scikit-learn.org/stable/)."
      ]
    },
    {
      "cell_type": "code",
      "execution_count": 29,
      "metadata": {
        "collapsed": false,
        "deletable": true,
        "editable": true
      },
      "outputs": [
        {
          "data": {
            "text/plain": [
              "LinearRegression(copy_X=True, fit_intercept=True, n_jobs=1, normalize=False)"
            ]
          },
          "execution_count": 30,
          "metadata": {},
          "output_type": "execute_result"
        }
      ],
      "source": [
        "from sklearn.linear_model import LinearRegression\n",
        "lr = LinearRegression()\n",
        "lr.fit(join[[\"age\", \"gender\"]], join[\"price\"])"
      ]
    },
    {
      "cell_type": "code",
      "execution_count": 31,
      "metadata": {
        "collapsed": false,
        "deletable": true,
        "editable": true
      },
      "outputs": [
        {
          "data": {
            "text/plain": [
              "array([ 0.52440734, -4.36373925])"
            ]
          },
          "execution_count": 32,
          "metadata": {},
          "output_type": "execute_result"
        }
      ],
      "source": [
        "lr.coef_"
      ]
    },
    {
      "cell_type": "code",
      "execution_count": 33,
      "metadata": {
        "collapsed": false,
        "deletable": true,
        "editable": true
      },
      "outputs": [
        {
          "data": {
            "text/plain": [
              "61.050576719028669"
            ]
          },
          "execution_count": 34,
          "metadata": {},
          "output_type": "execute_result"
        }
      ],
      "source": [
        "lr.intercept_"
      ]
    },
    {
      "cell_type": "markdown",
      "metadata": {
        "deletable": true,
        "editable": true
      },
      "source": [
        "On utilise maintenant [statsmodels](http://statsmodels.sourceforge.net/) qui est plus complet pour toute ce qui est un mod\u00e8le lin\u00e9aire."
      ]
    },
    {
      "cell_type": "code",
      "execution_count": 35,
      "metadata": {
        "collapsed": false
      },
      "outputs": [
        {
          "data": {
            "text/html": [
              "<table class=\"simpletable\">\n",
              "<caption>OLS Regression Results</caption>\n",
              "<tr>\n",
              "  <th>Dep. Variable:</th>          <td>price</td>      <th>  R-squared:         </th> <td>   0.579</td> \n",
              "</tr>\n",
              "<tr>\n",
              "  <th>Model:</th>                   <td>OLS</td>       <th>  Adj. R-squared:    </th> <td>   0.579</td> \n",
              "</tr>\n",
              "<tr>\n",
              "  <th>Method:</th>             <td>Least Squares</td>  <th>  F-statistic:       </th> <td>   686.6</td> \n",
              "</tr>\n",
              "<tr>\n",
              "  <th>Date:</th>             <td>Sun, 12 Mar 2017</td> <th>  Prob (F-statistic):</th> <td>3.25e-188</td>\n",
              "</tr>\n",
              "<tr>\n",
              "  <th>Time:</th>                 <td>13:20:20</td>     <th>  Log-Likelihood:    </th> <td> -3149.8</td> \n",
              "</tr>\n",
              "<tr>\n",
              "  <th>No. Observations:</th>      <td>  1000</td>      <th>  AIC:               </th> <td>   6306.</td> \n",
              "</tr>\n",
              "<tr>\n",
              "  <th>Df Residuals:</th>          <td>   997</td>      <th>  BIC:               </th> <td>   6320.</td> \n",
              "</tr>\n",
              "<tr>\n",
              "  <th>Df Model:</th>              <td>     2</td>      <th>                     </th>     <td> </td>    \n",
              "</tr>\n",
              "<tr>\n",
              "  <th>Covariance Type:</th>      <td>nonrobust</td>    <th>                     </th>     <td> </td>    \n",
              "</tr>\n",
              "</table>\n",
              "<table class=\"simpletable\">\n",
              "<tr>\n",
              "      <td></td>         <th>coef</th>     <th>std err</th>      <th>t</th>      <th>P>|t|</th>  <th>[0.025</th>    <th>0.975]</th>  \n",
              "</tr>\n",
              "<tr>\n",
              "  <th>Intercept</th> <td>   61.0506</td> <td>    0.640</td> <td>   95.432</td> <td> 0.000</td> <td>   59.795</td> <td>   62.306</td>\n",
              "</tr>\n",
              "<tr>\n",
              "  <th>age</th>       <td>    0.5244</td> <td>    0.015</td> <td>   35.302</td> <td> 0.000</td> <td>    0.495</td> <td>    0.554</td>\n",
              "</tr>\n",
              "<tr>\n",
              "  <th>gender</th>    <td>   -4.3637</td> <td>    0.358</td> <td>  -12.194</td> <td> 0.000</td> <td>   -5.066</td> <td>   -3.662</td>\n",
              "</tr>\n",
              "</table>\n",
              "<table class=\"simpletable\">\n",
              "<tr>\n",
              "  <th>Omnibus:</th>       <td>300.096</td> <th>  Durbin-Watson:     </th> <td>   1.999</td> \n",
              "</tr>\n",
              "<tr>\n",
              "  <th>Prob(Omnibus):</th> <td> 0.000</td>  <th>  Jarque-Bera (JB):  </th> <td> 719.506</td> \n",
              "</tr>\n",
              "<tr>\n",
              "  <th>Skew:</th>          <td> 1.618</td>  <th>  Prob(JB):          </th> <td>5.77e-157</td>\n",
              "</tr>\n",
              "<tr>\n",
              "  <th>Kurtosis:</th>      <td> 5.608</td>  <th>  Cond. No.          </th> <td>    151.</td> \n",
              "</tr>\n",
              "</table>"
            ],
            "text/plain": [
              "<class 'statsmodels.iolib.summary.Summary'>\n",
              "\"\"\"\n",
              "                            OLS Regression Results                            \n",
              "==============================================================================\n",
              "Dep. Variable:                  price   R-squared:                       0.579\n",
              "Model:                            OLS   Adj. R-squared:                  0.579\n",
              "Method:                 Least Squares   F-statistic:                     686.6\n",
              "Date:                Sun, 12 Mar 2017   Prob (F-statistic):          3.25e-188\n",
              "Time:                        13:20:20   Log-Likelihood:                -3149.8\n",
              "No. Observations:                1000   AIC:                             6306.\n",
              "Df Residuals:                     997   BIC:                             6320.\n",
              "Df Model:                           2                                         \n",
              "Covariance Type:            nonrobust                                         \n",
              "==============================================================================\n",
              "                 coef    std err          t      P>|t|      [0.025      0.975]\n",
              "------------------------------------------------------------------------------\n",
              "Intercept     61.0506      0.640     95.432      0.000      59.795      62.306\n",
              "age            0.5244      0.015     35.302      0.000       0.495       0.554\n",
              "gender        -4.3637      0.358    -12.194      0.000      -5.066      -3.662\n",
              "==============================================================================\n",
              "Omnibus:                      300.096   Durbin-Watson:                   1.999\n",
              "Prob(Omnibus):                  0.000   Jarque-Bera (JB):              719.506\n",
              "Skew:                           1.618   Prob(JB):                    5.77e-157\n",
              "Kurtosis:                       5.608   Cond. No.                         151.\n",
              "==============================================================================\n",
              "\n",
              "Warnings:\n",
              "[1] Standard Errors assume that the covariance matrix of the errors is correctly specified.\n",
              "\"\"\""
            ]
          },
          "execution_count": 36,
          "metadata": {},
          "output_type": "execute_result"
        }
      ],
      "source": [
        "from statsmodels.formula.api import ols\n",
        "lr = ols(\"price ~ age + gender\", data=join)\n",
        "res = lr.fit()\n",
        "res.summary()"
      ]
    },
    {
      "cell_type": "markdown",
      "metadata": {},
      "source": [
        "Ou encore (apr\u00e8s avoir ajout\u00e9 une constante)."
      ]
    },
    {
      "cell_type": "code",
      "execution_count": 37,
      "metadata": {
        "collapsed": false,
        "deletable": true,
        "editable": true
      },
      "outputs": [
        {
          "data": {
            "text/html": [
              "<table class=\"simpletable\">\n",
              "<caption>OLS Regression Results</caption>\n",
              "<tr>\n",
              "  <th>Dep. Variable:</th>          <td>price</td>      <th>  R-squared:         </th> <td>   0.579</td> \n",
              "</tr>\n",
              "<tr>\n",
              "  <th>Model:</th>                   <td>OLS</td>       <th>  Adj. R-squared:    </th> <td>   0.579</td> \n",
              "</tr>\n",
              "<tr>\n",
              "  <th>Method:</th>             <td>Least Squares</td>  <th>  F-statistic:       </th> <td>   686.6</td> \n",
              "</tr>\n",
              "<tr>\n",
              "  <th>Date:</th>             <td>Sun, 12 Mar 2017</td> <th>  Prob (F-statistic):</th> <td>3.25e-188</td>\n",
              "</tr>\n",
              "<tr>\n",
              "  <th>Time:</th>                 <td>13:21:49</td>     <th>  Log-Likelihood:    </th> <td> -3149.8</td> \n",
              "</tr>\n",
              "<tr>\n",
              "  <th>No. Observations:</th>      <td>  1000</td>      <th>  AIC:               </th> <td>   6306.</td> \n",
              "</tr>\n",
              "<tr>\n",
              "  <th>Df Residuals:</th>          <td>   997</td>      <th>  BIC:               </th> <td>   6320.</td> \n",
              "</tr>\n",
              "<tr>\n",
              "  <th>Df Model:</th>              <td>     2</td>      <th>                     </th>     <td> </td>    \n",
              "</tr>\n",
              "<tr>\n",
              "  <th>Covariance Type:</th>      <td>nonrobust</td>    <th>                     </th>     <td> </td>    \n",
              "</tr>\n",
              "</table>\n",
              "<table class=\"simpletable\">\n",
              "<tr>\n",
              "     <td></td>       <th>coef</th>     <th>std err</th>      <th>t</th>      <th>P>|t|</th>  <th>[0.025</th>    <th>0.975]</th>  \n",
              "</tr>\n",
              "<tr>\n",
              "  <th>age</th>    <td>    0.5244</td> <td>    0.015</td> <td>   35.302</td> <td> 0.000</td> <td>    0.495</td> <td>    0.554</td>\n",
              "</tr>\n",
              "<tr>\n",
              "  <th>gender</th> <td>   -4.3637</td> <td>    0.358</td> <td>  -12.194</td> <td> 0.000</td> <td>   -5.066</td> <td>   -3.662</td>\n",
              "</tr>\n",
              "<tr>\n",
              "  <th>cst</th>    <td>   61.0506</td> <td>    0.640</td> <td>   95.432</td> <td> 0.000</td> <td>   59.795</td> <td>   62.306</td>\n",
              "</tr>\n",
              "</table>\n",
              "<table class=\"simpletable\">\n",
              "<tr>\n",
              "  <th>Omnibus:</th>       <td>300.096</td> <th>  Durbin-Watson:     </th> <td>   1.999</td> \n",
              "</tr>\n",
              "<tr>\n",
              "  <th>Prob(Omnibus):</th> <td> 0.000</td>  <th>  Jarque-Bera (JB):  </th> <td> 719.506</td> \n",
              "</tr>\n",
              "<tr>\n",
              "  <th>Skew:</th>          <td> 1.618</td>  <th>  Prob(JB):          </th> <td>5.77e-157</td>\n",
              "</tr>\n",
              "<tr>\n",
              "  <th>Kurtosis:</th>      <td> 5.608</td>  <th>  Cond. No.          </th> <td>    151.</td> \n",
              "</tr>\n",
              "</table>"
            ],
            "text/plain": [
              "<class 'statsmodels.iolib.summary.Summary'>\n",
              "\"\"\"\n",
              "                            OLS Regression Results                            \n",
              "==============================================================================\n",
              "Dep. Variable:                  price   R-squared:                       0.579\n",
              "Model:                            OLS   Adj. R-squared:                  0.579\n",
              "Method:                 Least Squares   F-statistic:                     686.6\n",
              "Date:                Sun, 12 Mar 2017   Prob (F-statistic):          3.25e-188\n",
              "Time:                        13:21:49   Log-Likelihood:                -3149.8\n",
              "No. Observations:                1000   AIC:                             6306.\n",
              "Df Residuals:                     997   BIC:                             6320.\n",
              "Df Model:                           2                                         \n",
              "Covariance Type:            nonrobust                                         \n",
              "==============================================================================\n",
              "                 coef    std err          t      P>|t|      [0.025      0.975]\n",
              "------------------------------------------------------------------------------\n",
              "age            0.5244      0.015     35.302      0.000       0.495       0.554\n",
              "gender        -4.3637      0.358    -12.194      0.000      -5.066      -3.662\n",
              "cst           61.0506      0.640     95.432      0.000      59.795      62.306\n",
              "==============================================================================\n",
              "Omnibus:                      300.096   Durbin-Watson:                   1.999\n",
              "Prob(Omnibus):                  0.000   Jarque-Bera (JB):              719.506\n",
              "Skew:                           1.618   Prob(JB):                    5.77e-157\n",
              "Kurtosis:                       5.608   Cond. No.                         151.\n",
              "==============================================================================\n",
              "\n",
              "Warnings:\n",
              "[1] Standard Errors assume that the covariance matrix of the errors is correctly specified.\n",
              "\"\"\""
            ]
          },
          "execution_count": 38,
          "metadata": {},
          "output_type": "execute_result"
        }
      ],
      "source": [
        "from statsmodels.api import OLS\n",
        "join2 = join.copy()\n",
        "join2[\"cst\"] = 1\n",
        "lr = OLS(join2[\"price\"], join2[[\"age\", \"gender\", \"cst\"]])\n",
        "res = lr.fit()\n",
        "res.summary()"
      ]
    },
    {
      "cell_type": "markdown",
      "metadata": {
        "deletable": true,
        "editable": true
      },
      "source": [
        "On peut aussi d\u00e9finir la r\u00e9gression sous la forme de formule avec le module [patsy](http://patsy.readthedocs.io/en/latest/index.html)."
      ]
    },
    {
      "cell_type": "code",
      "execution_count": 39,
      "metadata": {
        "collapsed": false,
        "deletable": true,
        "editable": true
      },
      "outputs": [
        {
          "data": {
            "text/plain": [
              "LinearRegression(copy_X=True, fit_intercept=False, n_jobs=1, normalize=False)"
            ]
          },
          "execution_count": 40,
          "metadata": {},
          "output_type": "execute_result"
        }
      ],
      "source": [
        "from patsy import dmatrices\n",
        "y, X = dmatrices(\"price ~ age + gender\" , join, return_type=\"matrix\")\n",
        "y = numpy.ravel(y)\n",
        "lr = LinearRegression(fit_intercept=False)\n",
        "lr.fit(X, y)"
      ]
    },
    {
      "cell_type": "code",
      "execution_count": 41,
      "metadata": {
        "collapsed": false,
        "deletable": true,
        "editable": true
      },
      "outputs": [
        {
          "data": {
            "text/plain": [
              "(array([ 61.05057672,   0.52440734,  -4.36373925]), 0.0)"
            ]
          },
          "execution_count": 42,
          "metadata": {},
          "output_type": "execute_result"
        }
      ],
      "source": [
        "lr.coef_, lr.intercept_"
      ]
    },
    {
      "cell_type": "code",
      "execution_count": 43,
      "metadata": {
        "collapsed": false,
        "deletable": true,
        "editable": true
      },
      "outputs": [
        {
          "data": {
            "text/plain": [
              "array([[  1.,  37.,   0.],\n",
              "       [  1.,  41.,   0.]])"
            ]
          },
          "execution_count": 44,
          "metadata": {},
          "output_type": "execute_result"
        }
      ],
      "source": [
        "X[:2]"
      ]
    },
    {
      "cell_type": "markdown",
      "metadata": {
        "deletable": true,
        "editable": true
      },
      "source": [
        "## 6\n",
        "\n",
        "*On souhaite \u00e9tudier le prix d'une consultation en fonction du jour de la semaine. Ajouter une colonne dans la table de votre choix avec le jour de la semaine.*\n",
        "\n",
        "On convertit d'abord la colonne date (cha\u00eene de caract\u00e8res au format date) avec la fonction [to_datetime](http://pandas.pydata.org/pandas-docs/stable/generated/pandas.to_datetime.html)."
      ]
    },
    {
      "cell_type": "code",
      "execution_count": 45,
      "metadata": {
        "collapsed": false,
        "deletable": true,
        "editable": true
      },
      "outputs": [
        {
          "data": {
            "text/plain": [
              "date             object\n",
              "idc              object\n",
              "idr              object\n",
              "price           float64\n",
              "date2    datetime64[ns]\n",
              "dtype: object"
            ]
          },
          "execution_count": 46,
          "metadata": {},
          "output_type": "execute_result"
        }
      ],
      "source": [
        "rend[\"date2\"] = pandas.to_datetime(rend.date)\n",
        "rend.dtypes"
      ]
    },
    {
      "cell_type": "markdown",
      "metadata": {
        "deletable": true,
        "editable": true
      },
      "source": [
        "Et on r\u00e9cup\u00e8re le jour de la semaine avec [weekday](http://pandas.pydata.org/pandas-docs/stable/generated/pandas.Series.dt.weekday.html)."
      ]
    },
    {
      "cell_type": "code",
      "execution_count": 47,
      "metadata": {
        "collapsed": false,
        "deletable": true,
        "editable": true
      },
      "outputs": [
        {
          "data": {
            "text/html": [
              "<div>\n",
              "<table border=\"1\" class=\"dataframe\">\n",
              "  <thead>\n",
              "    <tr style=\"text-align: right;\">\n",
              "      <th></th>\n",
              "      <th>date</th>\n",
              "      <th>idc</th>\n",
              "      <th>idr</th>\n",
              "      <th>price</th>\n",
              "      <th>date2</th>\n",
              "      <th>weekday</th>\n",
              "    </tr>\n",
              "  </thead>\n",
              "  <tbody>\n",
              "    <tr>\n",
              "      <th>0</th>\n",
              "      <td>2016-12-02 19:47:45.068274</td>\n",
              "      <td>4ba0b473-f8ca-4466-a65b-40e9b8ba5029</td>\n",
              "      <td>b7db0ac9-86a1-46f9-98ac-f1f8eb54072d</td>\n",
              "      <td>75.0</td>\n",
              "      <td>2016-12-02 19:47:45.068274</td>\n",
              "      <td>4</td>\n",
              "    </tr>\n",
              "    <tr>\n",
              "      <th>1</th>\n",
              "      <td>2016-12-02 19:47:45.068274</td>\n",
              "      <td>4ba0b473-f8ca-4466-a65b-40e9b8ba5029</td>\n",
              "      <td>a65f721a-de11-4a01-be71-b26e2da3ac00</td>\n",
              "      <td>65.0</td>\n",
              "      <td>2016-12-02 19:47:45.068274</td>\n",
              "      <td>4</td>\n",
              "    </tr>\n",
              "    <tr>\n",
              "      <th>2</th>\n",
              "      <td>2016-12-07 19:47:45.068274</td>\n",
              "      <td>f44b004b-b01e-4835-b86d-1a42846c6d93</td>\n",
              "      <td>644b1236-b9ee-4ef5-8ca7-d1adadb547c8</td>\n",
              "      <td>75.0</td>\n",
              "      <td>2016-12-07 19:47:45.068274</td>\n",
              "      <td>2</td>\n",
              "    </tr>\n",
              "    <tr>\n",
              "      <th>3</th>\n",
              "      <td>2016-12-17 19:47:45.068274</td>\n",
              "      <td>f44b004b-b01e-4835-b86d-1a42846c6d93</td>\n",
              "      <td>aff6ac9e-5dd0-434e-9888-f724f6d40969</td>\n",
              "      <td>80.0</td>\n",
              "      <td>2016-12-17 19:47:45.068274</td>\n",
              "      <td>5</td>\n",
              "    </tr>\n",
              "    <tr>\n",
              "      <th>4</th>\n",
              "      <td>2017-01-07 19:47:45.068274</td>\n",
              "      <td>f44b004b-b01e-4835-b86d-1a42846c6d93</td>\n",
              "      <td>9ca87507-aa95-49a9-88b3-86ec9fbc44d6</td>\n",
              "      <td>80.0</td>\n",
              "      <td>2017-01-07 19:47:45.068274</td>\n",
              "      <td>5</td>\n",
              "    </tr>\n",
              "  </tbody>\n",
              "</table>\n",
              "</div>"
            ],
            "text/plain": [
              "                         date                                   idc  \\\n",
              "0  2016-12-02 19:47:45.068274  4ba0b473-f8ca-4466-a65b-40e9b8ba5029   \n",
              "1  2016-12-02 19:47:45.068274  4ba0b473-f8ca-4466-a65b-40e9b8ba5029   \n",
              "2  2016-12-07 19:47:45.068274  f44b004b-b01e-4835-b86d-1a42846c6d93   \n",
              "3  2016-12-17 19:47:45.068274  f44b004b-b01e-4835-b86d-1a42846c6d93   \n",
              "4  2017-01-07 19:47:45.068274  f44b004b-b01e-4835-b86d-1a42846c6d93   \n",
              "\n",
              "                                    idr  price                      date2  \\\n",
              "0  b7db0ac9-86a1-46f9-98ac-f1f8eb54072d   75.0 2016-12-02 19:47:45.068274   \n",
              "1  a65f721a-de11-4a01-be71-b26e2da3ac00   65.0 2016-12-02 19:47:45.068274   \n",
              "2  644b1236-b9ee-4ef5-8ca7-d1adadb547c8   75.0 2016-12-07 19:47:45.068274   \n",
              "3  aff6ac9e-5dd0-434e-9888-f724f6d40969   80.0 2016-12-17 19:47:45.068274   \n",
              "4  9ca87507-aa95-49a9-88b3-86ec9fbc44d6   80.0 2017-01-07 19:47:45.068274   \n",
              "\n",
              "   weekday  \n",
              "0        4  \n",
              "1        4  \n",
              "2        2  \n",
              "3        5  \n",
              "4        5  "
            ]
          },
          "execution_count": 48,
          "metadata": {},
          "output_type": "execute_result"
        }
      ],
      "source": [
        "rend[\"weekday\"] = rend.date2.dt.weekday\n",
        "rend.head()"
      ]
    },
    {
      "cell_type": "markdown",
      "metadata": {
        "deletable": true,
        "editable": true
      },
      "source": [
        "## 7\n",
        "\n",
        "*Cr\u00e9er un graphe moustache qui permet de v\u00e9rifier cette hypoth\u00e8se.*\n",
        "\n",
        "On r\u00e9utilise le code d'une question pr\u00e9c\u00e9dente."
      ]
    },
    {
      "cell_type": "code",
      "execution_count": 49,
      "metadata": {
        "collapsed": false,
        "deletable": true,
        "editable": true
      },
      "outputs": [
        {
          "data": {
            "text/plain": [
              "<matplotlib.axes._subplots.AxesSubplot at 0x15543091668>"
            ]
          },
          "execution_count": 50,
          "metadata": {},
          "output_type": "execute_result"
        },
        {
          "data": {
            "image/png": "[encoded data removed]",
            "text/plain": [
              "<matplotlib.figure.Figure at 0x15543072ef0>"
            ]
          },
          "metadata": {},
          "output_type": "display_data"
        }
      ],
      "source": [
        "rend[[\"price\", \"weekday\"]].boxplot(by=\"weekday\")"
      ]
    },
    {
      "cell_type": "markdown",
      "metadata": {
        "deletable": true,
        "editable": true
      },
      "source": [
        "C'est clairement plus cher le dimanche."
      ]
    },
    {
      "cell_type": "markdown",
      "metadata": {
        "deletable": true,
        "editable": true
      },
      "source": [
        "## 8\n",
        "\n",
        "*Ajouter une colonne dans la table de votre choix qui contient 365 si c'est le premier rendez-vous, le nombre de jour \u00e9coul\u00e9s depuis le pr\u00e9c\u00e9dent rendez-vous. On appelle cette colonne $delay$. On ajoute \u00e9galement la colonne* $1/delay$.\n",
        "\n",
        "Pour commencer, on convertit la date en nombre de jours depuis la premi\u00e8re date."
      ]
    },
    {
      "cell_type": "code",
      "execution_count": 51,
      "metadata": {
        "collapsed": false,
        "deletable": true,
        "editable": true
      },
      "outputs": [
        {
          "data": {
            "text/html": [
              "<div>\n",
              "<table border=\"1\" class=\"dataframe\">\n",
              "  <thead>\n",
              "    <tr style=\"text-align: right;\">\n",
              "      <th></th>\n",
              "      <th>date</th>\n",
              "      <th>idc</th>\n",
              "      <th>idr</th>\n",
              "      <th>price</th>\n",
              "      <th>date2</th>\n",
              "      <th>weekday</th>\n",
              "      <th>constant</th>\n",
              "      <th>jour</th>\n",
              "    </tr>\n",
              "  </thead>\n",
              "  <tbody>\n",
              "    <tr>\n",
              "      <th>0</th>\n",
              "      <td>2016-12-02 19:47:45.068274</td>\n",
              "      <td>4ba0b473-f8ca-4466-a65b-40e9b8ba5029</td>\n",
              "      <td>b7db0ac9-86a1-46f9-98ac-f1f8eb54072d</td>\n",
              "      <td>75.0</td>\n",
              "      <td>2016-12-02 19:47:45.068274</td>\n",
              "      <td>4</td>\n",
              "      <td>2016-11-18 19:47:45.068274</td>\n",
              "      <td>14 days</td>\n",
              "    </tr>\n",
              "    <tr>\n",
              "      <th>1</th>\n",
              "      <td>2016-12-02 19:47:45.068274</td>\n",
              "      <td>4ba0b473-f8ca-4466-a65b-40e9b8ba5029</td>\n",
              "      <td>a65f721a-de11-4a01-be71-b26e2da3ac00</td>\n",
              "      <td>65.0</td>\n",
              "      <td>2016-12-02 19:47:45.068274</td>\n",
              "      <td>4</td>\n",
              "      <td>2016-11-18 19:47:45.068274</td>\n",
              "      <td>14 days</td>\n",
              "    </tr>\n",
              "  </tbody>\n",
              "</table>\n",
              "</div>"
            ],
            "text/plain": [
              "                         date                                   idc  \\\n",
              "0  2016-12-02 19:47:45.068274  4ba0b473-f8ca-4466-a65b-40e9b8ba5029   \n",
              "1  2016-12-02 19:47:45.068274  4ba0b473-f8ca-4466-a65b-40e9b8ba5029   \n",
              "\n",
              "                                    idr  price                      date2  \\\n",
              "0  b7db0ac9-86a1-46f9-98ac-f1f8eb54072d   75.0 2016-12-02 19:47:45.068274   \n",
              "1  a65f721a-de11-4a01-be71-b26e2da3ac00   65.0 2016-12-02 19:47:45.068274   \n",
              "\n",
              "   weekday                   constant    jour  \n",
              "0        4 2016-11-18 19:47:45.068274 14 days  \n",
              "1        4 2016-11-18 19:47:45.068274 14 days  "
            ]
          },
          "execution_count": 52,
          "metadata": {},
          "output_type": "execute_result"
        }
      ],
      "source": [
        "rend[\"constant\"] = rend[\"date2\"].min()\n",
        "rend[\"jour\"] = rend[\"date2\"] - rend[\"constant\"]\n",
        "rend.head(n=2)"
      ]
    },
    {
      "cell_type": "markdown",
      "metadata": {
        "collapsed": true,
        "deletable": true,
        "editable": true
      },
      "source": [
        "On convertit en entier."
      ]
    },
    {
      "cell_type": "code",
      "execution_count": 53,
      "metadata": {
        "collapsed": false,
        "deletable": true,
        "editable": true
      },
      "outputs": [
        {
          "data": {
            "text/html": [
              "<div>\n",
              "<table border=\"1\" class=\"dataframe\">\n",
              "  <thead>\n",
              "    <tr style=\"text-align: right;\">\n",
              "      <th></th>\n",
              "      <th>date</th>\n",
              "      <th>idc</th>\n",
              "      <th>idr</th>\n",
              "      <th>price</th>\n",
              "      <th>date2</th>\n",
              "      <th>weekday</th>\n",
              "      <th>constant</th>\n",
              "      <th>jour</th>\n",
              "      <th>jouri</th>\n",
              "    </tr>\n",
              "  </thead>\n",
              "  <tbody>\n",
              "    <tr>\n",
              "      <th>0</th>\n",
              "      <td>2016-12-02 19:47:45.068274</td>\n",
              "      <td>4ba0b473-f8ca-4466-a65b-40e9b8ba5029</td>\n",
              "      <td>b7db0ac9-86a1-46f9-98ac-f1f8eb54072d</td>\n",
              "      <td>75.0</td>\n",
              "      <td>2016-12-02 19:47:45.068274</td>\n",
              "      <td>4</td>\n",
              "      <td>2016-11-18 19:47:45.068274</td>\n",
              "      <td>14 days</td>\n",
              "      <td>14</td>\n",
              "    </tr>\n",
              "    <tr>\n",
              "      <th>1</th>\n",
              "      <td>2016-12-02 19:47:45.068274</td>\n",
              "      <td>4ba0b473-f8ca-4466-a65b-40e9b8ba5029</td>\n",
              "      <td>a65f721a-de11-4a01-be71-b26e2da3ac00</td>\n",
              "      <td>65.0</td>\n",
              "      <td>2016-12-02 19:47:45.068274</td>\n",
              "      <td>4</td>\n",
              "      <td>2016-11-18 19:47:45.068274</td>\n",
              "      <td>14 days</td>\n",
              "      <td>14</td>\n",
              "    </tr>\n",
              "  </tbody>\n",
              "</table>\n",
              "</div>"
            ],
            "text/plain": [
              "                         date                                   idc  \\\n",
              "0  2016-12-02 19:47:45.068274  4ba0b473-f8ca-4466-a65b-40e9b8ba5029   \n",
              "1  2016-12-02 19:47:45.068274  4ba0b473-f8ca-4466-a65b-40e9b8ba5029   \n",
              "\n",
              "                                    idr  price                      date2  \\\n",
              "0  b7db0ac9-86a1-46f9-98ac-f1f8eb54072d   75.0 2016-12-02 19:47:45.068274   \n",
              "1  a65f721a-de11-4a01-be71-b26e2da3ac00   65.0 2016-12-02 19:47:45.068274   \n",
              "\n",
              "   weekday                   constant    jour  jouri  \n",
              "0        4 2016-11-18 19:47:45.068274 14 days     14  \n",
              "1        4 2016-11-18 19:47:45.068274 14 days     14  "
            ]
          },
          "execution_count": 54,
          "metadata": {},
          "output_type": "execute_result"
        }
      ],
      "source": [
        "rend[\"jouri\"] = rend.jour.apply(lambda d: d.days)\n",
        "rend.head(n=2)"
      ]
    },
    {
      "cell_type": "markdown",
      "metadata": {
        "deletable": true,
        "editable": true
      },
      "source": [
        "On trie par patient et jour puis on effectue la diff\u00e9rence."
      ]
    },
    {
      "cell_type": "code",
      "execution_count": 55,
      "metadata": {
        "collapsed": false,
        "deletable": true,
        "editable": true
      },
      "outputs": [
        {
          "data": {
            "text/html": [
              "<div>\n",
              "<table border=\"1\" class=\"dataframe\">\n",
              "  <thead>\n",
              "    <tr style=\"text-align: right;\">\n",
              "      <th></th>\n",
              "      <th>date</th>\n",
              "      <th>idc</th>\n",
              "      <th>idr</th>\n",
              "      <th>price</th>\n",
              "      <th>date2</th>\n",
              "      <th>weekday</th>\n",
              "      <th>constant</th>\n",
              "      <th>jour</th>\n",
              "      <th>jouri</th>\n",
              "      <th>diff</th>\n",
              "    </tr>\n",
              "  </thead>\n",
              "  <tbody>\n",
              "    <tr>\n",
              "      <th>0</th>\n",
              "      <td>2016-12-02 19:47:45.068274</td>\n",
              "      <td>4ba0b473-f8ca-4466-a65b-40e9b8ba5029</td>\n",
              "      <td>b7db0ac9-86a1-46f9-98ac-f1f8eb54072d</td>\n",
              "      <td>75.0</td>\n",
              "      <td>2016-12-02 19:47:45.068274</td>\n",
              "      <td>4</td>\n",
              "      <td>2016-11-18 19:47:45.068274</td>\n",
              "      <td>14 days</td>\n",
              "      <td>14</td>\n",
              "      <td>-26.0</td>\n",
              "    </tr>\n",
              "    <tr>\n",
              "      <th>1</th>\n",
              "      <td>2016-12-02 19:47:45.068274</td>\n",
              "      <td>4ba0b473-f8ca-4466-a65b-40e9b8ba5029</td>\n",
              "      <td>a65f721a-de11-4a01-be71-b26e2da3ac00</td>\n",
              "      <td>65.0</td>\n",
              "      <td>2016-12-02 19:47:45.068274</td>\n",
              "      <td>4</td>\n",
              "      <td>2016-11-18 19:47:45.068274</td>\n",
              "      <td>14 days</td>\n",
              "      <td>14</td>\n",
              "      <td>0.0</td>\n",
              "    </tr>\n",
              "  </tbody>\n",
              "</table>\n",
              "</div>"
            ],
            "text/plain": [
              "                         date                                   idc  \\\n",
              "0  2016-12-02 19:47:45.068274  4ba0b473-f8ca-4466-a65b-40e9b8ba5029   \n",
              "1  2016-12-02 19:47:45.068274  4ba0b473-f8ca-4466-a65b-40e9b8ba5029   \n",
              "\n",
              "                                    idr  price                      date2  \\\n",
              "0  b7db0ac9-86a1-46f9-98ac-f1f8eb54072d   75.0 2016-12-02 19:47:45.068274   \n",
              "1  a65f721a-de11-4a01-be71-b26e2da3ac00   65.0 2016-12-02 19:47:45.068274   \n",
              "\n",
              "   weekday                   constant    jour  jouri  diff  \n",
              "0        4 2016-11-18 19:47:45.068274 14 days     14 -26.0  \n",
              "1        4 2016-11-18 19:47:45.068274 14 days     14   0.0  "
            ]
          },
          "execution_count": 56,
          "metadata": {},
          "output_type": "execute_result"
        }
      ],
      "source": [
        "diff = rend.sort_values([\"idc\", \"jouri\"])[\"jouri\"].diff()\n",
        "rend[\"diff\"] = diff\n",
        "rend.head(n=2)"
      ]
    },
    {
      "cell_type": "markdown",
      "metadata": {
        "deletable": true,
        "editable": true
      },
      "source": [
        "Il reste \u00e0 traiter le premier jour ou plut\u00f4t le premier rendez-vous. On le r\u00e9cup\u00e8re pour chaque patient."
      ]
    },
    {
      "cell_type": "code",
      "execution_count": 57,
      "metadata": {
        "collapsed": false,
        "deletable": true,
        "editable": true
      },
      "outputs": [
        {
          "data": {
            "text/html": [
              "<div>\n",
              "<table border=\"1\" class=\"dataframe\">\n",
              "  <thead>\n",
              "    <tr style=\"text-align: right;\">\n",
              "      <th></th>\n",
              "      <th>idc</th>\n",
              "      <th>date</th>\n",
              "      <th>j365</th>\n",
              "    </tr>\n",
              "  </thead>\n",
              "  <tbody>\n",
              "    <tr>\n",
              "      <th>0</th>\n",
              "      <td>003b0195-2acb-4f46-b7fa-28cf266a8f60</td>\n",
              "      <td>2016-12-02 19:47:45.068274</td>\n",
              "      <td>365</td>\n",
              "    </tr>\n",
              "    <tr>\n",
              "      <th>1</th>\n",
              "      <td>009e689c-51a1-4cef-99ca-a4ba364eba8d</td>\n",
              "      <td>2016-11-26 19:47:45.068274</td>\n",
              "      <td>365</td>\n",
              "    </tr>\n",
              "  </tbody>\n",
              "</table>\n",
              "</div>"
            ],
            "text/plain": [
              "                                    idc                        date  j365\n",
              "0  003b0195-2acb-4f46-b7fa-28cf266a8f60  2016-12-02 19:47:45.068274   365\n",
              "1  009e689c-51a1-4cef-99ca-a4ba364eba8d  2016-11-26 19:47:45.068274   365"
            ]
          },
          "execution_count": 58,
          "metadata": {},
          "output_type": "execute_result"
        }
      ],
      "source": [
        "first = rend[[\"idc\", \"date\"]].groupby(\"idc\", as_index=False).min()\n",
        "first[\"j365\"] = 365\n",
        "first.head(n=2)"
      ]
    },
    {
      "cell_type": "markdown",
      "metadata": {
        "deletable": true,
        "editable": true
      },
      "source": [
        "Puis on fait une jointure."
      ]
    },
    {
      "cell_type": "code",
      "execution_count": 59,
      "metadata": {
        "collapsed": false,
        "deletable": true,
        "editable": true
      },
      "outputs": [
        {
          "data": {
            "text/html": [
              "<div>\n",
              "<table border=\"1\" class=\"dataframe\">\n",
              "  <thead>\n",
              "    <tr style=\"text-align: right;\">\n",
              "      <th></th>\n",
              "      <th>idc</th>\n",
              "      <th>jouri</th>\n",
              "      <th>date</th>\n",
              "      <th>j365</th>\n",
              "    </tr>\n",
              "  </thead>\n",
              "  <tbody>\n",
              "    <tr>\n",
              "      <th>0</th>\n",
              "      <td>4ba0b473-f8ca-4466-a65b-40e9b8ba5029</td>\n",
              "      <td>14</td>\n",
              "      <td>2016-12-02 19:47:45.068274</td>\n",
              "      <td>365.0</td>\n",
              "    </tr>\n",
              "    <tr>\n",
              "      <th>1</th>\n",
              "      <td>4ba0b473-f8ca-4466-a65b-40e9b8ba5029</td>\n",
              "      <td>14</td>\n",
              "      <td>2016-12-02 19:47:45.068274</td>\n",
              "      <td>365.0</td>\n",
              "    </tr>\n",
              "    <tr>\n",
              "      <th>2</th>\n",
              "      <td>f44b004b-b01e-4835-b86d-1a42846c6d93</td>\n",
              "      <td>19</td>\n",
              "      <td>2016-12-07 19:47:45.068274</td>\n",
              "      <td>365.0</td>\n",
              "    </tr>\n",
              "    <tr>\n",
              "      <th>3</th>\n",
              "      <td>f44b004b-b01e-4835-b86d-1a42846c6d93</td>\n",
              "      <td>29</td>\n",
              "      <td>2016-12-17 19:47:45.068274</td>\n",
              "      <td>NaN</td>\n",
              "    </tr>\n",
              "    <tr>\n",
              "      <th>4</th>\n",
              "      <td>f44b004b-b01e-4835-b86d-1a42846c6d93</td>\n",
              "      <td>50</td>\n",
              "      <td>2017-01-07 19:47:45.068274</td>\n",
              "      <td>NaN</td>\n",
              "    </tr>\n",
              "  </tbody>\n",
              "</table>\n",
              "</div>"
            ],
            "text/plain": [
              "                                    idc  jouri                        date  \\\n",
              "0  4ba0b473-f8ca-4466-a65b-40e9b8ba5029     14  2016-12-02 19:47:45.068274   \n",
              "1  4ba0b473-f8ca-4466-a65b-40e9b8ba5029     14  2016-12-02 19:47:45.068274   \n",
              "2  f44b004b-b01e-4835-b86d-1a42846c6d93     19  2016-12-07 19:47:45.068274   \n",
              "3  f44b004b-b01e-4835-b86d-1a42846c6d93     29  2016-12-17 19:47:45.068274   \n",
              "4  f44b004b-b01e-4835-b86d-1a42846c6d93     50  2017-01-07 19:47:45.068274   \n",
              "\n",
              "    j365  \n",
              "0  365.0  \n",
              "1  365.0  \n",
              "2  365.0  \n",
              "3    NaN  \n",
              "4    NaN  "
            ]
          },
          "execution_count": 60,
          "metadata": {},
          "output_type": "execute_result"
        }
      ],
      "source": [
        "tout = rend.merge(first, on=[\"idc\", \"date\"], how=\"outer\")\n",
        "tout[[\"idc\", \"jouri\", \"date\", \"j365\"]].head(n=5)"
      ]
    },
    {
      "cell_type": "markdown",
      "metadata": {
        "deletable": true,
        "editable": true
      },
      "source": [
        "Il ne reste plus qu'\u00e0 remplacer les NaN par *jouri*."
      ]
    },
    {
      "cell_type": "code",
      "execution_count": 61,
      "metadata": {
        "collapsed": false,
        "deletable": true,
        "editable": true
      },
      "outputs": [
        {
          "data": {
            "text/html": [
              "<div>\n",
              "<table border=\"1\" class=\"dataframe\">\n",
              "  <thead>\n",
              "    <tr style=\"text-align: right;\">\n",
              "      <th></th>\n",
              "      <th>idc</th>\n",
              "      <th>jouri</th>\n",
              "      <th>date</th>\n",
              "      <th>j365</th>\n",
              "      <th>delay</th>\n",
              "    </tr>\n",
              "  </thead>\n",
              "  <tbody>\n",
              "    <tr>\n",
              "      <th>0</th>\n",
              "      <td>4ba0b473-f8ca-4466-a65b-40e9b8ba5029</td>\n",
              "      <td>14</td>\n",
              "      <td>2016-12-02 19:47:45.068274</td>\n",
              "      <td>365.0</td>\n",
              "      <td>365.0</td>\n",
              "    </tr>\n",
              "    <tr>\n",
              "      <th>1</th>\n",
              "      <td>4ba0b473-f8ca-4466-a65b-40e9b8ba5029</td>\n",
              "      <td>14</td>\n",
              "      <td>2016-12-02 19:47:45.068274</td>\n",
              "      <td>365.0</td>\n",
              "      <td>365.0</td>\n",
              "    </tr>\n",
              "    <tr>\n",
              "      <th>2</th>\n",
              "      <td>f44b004b-b01e-4835-b86d-1a42846c6d93</td>\n",
              "      <td>19</td>\n",
              "      <td>2016-12-07 19:47:45.068274</td>\n",
              "      <td>365.0</td>\n",
              "      <td>365.0</td>\n",
              "    </tr>\n",
              "    <tr>\n",
              "      <th>3</th>\n",
              "      <td>f44b004b-b01e-4835-b86d-1a42846c6d93</td>\n",
              "      <td>29</td>\n",
              "      <td>2016-12-17 19:47:45.068274</td>\n",
              "      <td>NaN</td>\n",
              "      <td>29.0</td>\n",
              "    </tr>\n",
              "    <tr>\n",
              "      <th>4</th>\n",
              "      <td>f44b004b-b01e-4835-b86d-1a42846c6d93</td>\n",
              "      <td>50</td>\n",
              "      <td>2017-01-07 19:47:45.068274</td>\n",
              "      <td>NaN</td>\n",
              "      <td>50.0</td>\n",
              "    </tr>\n",
              "    <tr>\n",
              "      <th>5</th>\n",
              "      <td>304895f0-f686-4b0e-8854-a705bb5a6982</td>\n",
              "      <td>1</td>\n",
              "      <td>2016-11-19 19:47:45.068274</td>\n",
              "      <td>365.0</td>\n",
              "      <td>365.0</td>\n",
              "    </tr>\n",
              "    <tr>\n",
              "      <th>6</th>\n",
              "      <td>3f0d31d2-0ef4-4e7e-b876-07d10225cc8c</td>\n",
              "      <td>30</td>\n",
              "      <td>2016-12-18 19:47:45.068274</td>\n",
              "      <td>365.0</td>\n",
              "      <td>365.0</td>\n",
              "    </tr>\n",
              "    <tr>\n",
              "      <th>7</th>\n",
              "      <td>f29273f4-a76c-4158-b5f5-b3e5a080a0c7</td>\n",
              "      <td>2</td>\n",
              "      <td>2016-11-20 19:47:45.068274</td>\n",
              "      <td>365.0</td>\n",
              "      <td>365.0</td>\n",
              "    </tr>\n",
              "  </tbody>\n",
              "</table>\n",
              "</div>"
            ],
            "text/plain": [
              "                                    idc  jouri                        date  \\\n",
              "0  4ba0b473-f8ca-4466-a65b-40e9b8ba5029     14  2016-12-02 19:47:45.068274   \n",
              "1  4ba0b473-f8ca-4466-a65b-40e9b8ba5029     14  2016-12-02 19:47:45.068274   \n",
              "2  f44b004b-b01e-4835-b86d-1a42846c6d93     19  2016-12-07 19:47:45.068274   \n",
              "3  f44b004b-b01e-4835-b86d-1a42846c6d93     29  2016-12-17 19:47:45.068274   \n",
              "4  f44b004b-b01e-4835-b86d-1a42846c6d93     50  2017-01-07 19:47:45.068274   \n",
              "5  304895f0-f686-4b0e-8854-a705bb5a6982      1  2016-11-19 19:47:45.068274   \n",
              "6  3f0d31d2-0ef4-4e7e-b876-07d10225cc8c     30  2016-12-18 19:47:45.068274   \n",
              "7  f29273f4-a76c-4158-b5f5-b3e5a080a0c7      2  2016-11-20 19:47:45.068274   \n",
              "\n",
              "    j365  delay  \n",
              "0  365.0  365.0  \n",
              "1  365.0  365.0  \n",
              "2  365.0  365.0  \n",
              "3    NaN   29.0  \n",
              "4    NaN   50.0  \n",
              "5  365.0  365.0  \n",
              "6  365.0  365.0  \n",
              "7  365.0  365.0  "
            ]
          },
          "execution_count": 62,
          "metadata": {},
          "output_type": "execute_result"
        }
      ],
      "source": [
        "tout[\"delay\"] = tout.j365.fillna(tout.jouri)\n",
        "tout[[\"idc\", \"jouri\", \"date\", \"j365\", \"delay\"]].head(n=8)"
      ]
    },
    {
      "cell_type": "markdown",
      "metadata": {
        "deletable": true,
        "editable": true
      },
      "source": [
        "Finalement, il faut ajouter une colonne $1/delay$. Comme des patients ont parfois deux rendez-vous le m\u00eame jour, pour \u00e9viter les valeurs nulles, on ajoute la colonne $1/(1+delay)$. On aurait pu \u00e9galement pour \u00e9viter les valeurs nulles consid\u00e9rer le temps en secondes et non en jour entre deux rendez-vous. "
      ]
    },
    {
      "cell_type": "code",
      "execution_count": 63,
      "metadata": {
        "collapsed": false,
        "deletable": true,
        "editable": true
      },
      "outputs": [
        {
          "data": {
            "text/html": [
              "<div>\n",
              "<table border=\"1\" class=\"dataframe\">\n",
              "  <thead>\n",
              "    <tr style=\"text-align: right;\">\n",
              "      <th></th>\n",
              "      <th>delay</th>\n",
              "      <th>delay1</th>\n",
              "    </tr>\n",
              "  </thead>\n",
              "  <tbody>\n",
              "    <tr>\n",
              "      <th>0</th>\n",
              "      <td>365.0</td>\n",
              "      <td>0.002732</td>\n",
              "    </tr>\n",
              "    <tr>\n",
              "      <th>1</th>\n",
              "      <td>365.0</td>\n",
              "      <td>0.002732</td>\n",
              "    </tr>\n",
              "    <tr>\n",
              "      <th>2</th>\n",
              "      <td>365.0</td>\n",
              "      <td>0.002732</td>\n",
              "    </tr>\n",
              "    <tr>\n",
              "      <th>3</th>\n",
              "      <td>29.0</td>\n",
              "      <td>0.033333</td>\n",
              "    </tr>\n",
              "    <tr>\n",
              "      <th>4</th>\n",
              "      <td>50.0</td>\n",
              "      <td>0.019608</td>\n",
              "    </tr>\n",
              "  </tbody>\n",
              "</table>\n",
              "</div>"
            ],
            "text/plain": [
              "   delay    delay1\n",
              "0  365.0  0.002732\n",
              "1  365.0  0.002732\n",
              "2  365.0  0.002732\n",
              "3   29.0  0.033333\n",
              "4   50.0  0.019608"
            ]
          },
          "execution_count": 64,
          "metadata": {},
          "output_type": "execute_result"
        }
      ],
      "source": [
        "tout[\"delay1\"] = 1/ (tout[\"delay\"] + 1)\n",
        "tout[[\"delay\", \"delay1\"]].head()"
      ]
    },
    {
      "cell_type": "markdown",
      "metadata": {},
      "source": [
        "## 8 - r\u00e9ponse plus courte\n",
        "\n",
        "On garde l'id\u00e9e de la fonction [diff](http://pandas.pydata.org/pandas-docs/stable/generated/pandas.DataFrame.diff.html) et on ajoute la fonction [shift](http://pandas.pydata.org/pandas-docs/stable/generated/pandas.DataFrame.shift.html)."
      ]
    },
    {
      "cell_type": "code",
      "execution_count": 65,
      "metadata": {
        "collapsed": false
      },
      "outputs": [
        {
          "data": {
            "text/html": [
              "<div>\n",
              "<table border=\"1\" class=\"dataframe\">\n",
              "  <thead>\n",
              "    <tr style=\"text-align: right;\">\n",
              "      <th></th>\n",
              "      <th>date</th>\n",
              "      <th>idc</th>\n",
              "      <th>idr</th>\n",
              "      <th>price</th>\n",
              "      <th>date2</th>\n",
              "      <th>weekday</th>\n",
              "      <th>constant</th>\n",
              "      <th>jour</th>\n",
              "      <th>jouri</th>\n",
              "      <th>diff</th>\n",
              "    </tr>\n",
              "  </thead>\n",
              "  <tbody>\n",
              "    <tr>\n",
              "      <th>0</th>\n",
              "      <td>2016-12-02 19:47:45.068274</td>\n",
              "      <td>003b0195-2acb-4f46-b7fa-28cf266a8f60</td>\n",
              "      <td>6d65b2b5-f34d-4440-8442-679175554db4</td>\n",
              "      <td>80.0</td>\n",
              "      <td>2016-12-02 19:47:45.068274</td>\n",
              "      <td>4</td>\n",
              "      <td>2016-11-18 19:47:45.068274</td>\n",
              "      <td>14 days</td>\n",
              "      <td>14</td>\n",
              "      <td>365.0</td>\n",
              "    </tr>\n",
              "    <tr>\n",
              "      <th>1</th>\n",
              "      <td>2016-11-26 19:47:45.068274</td>\n",
              "      <td>009e689c-51a1-4cef-99ca-a4ba364eba8d</td>\n",
              "      <td>065474ed-6ba3-4ee1-aa83-b89e97d5a2aa</td>\n",
              "      <td>80.0</td>\n",
              "      <td>2016-11-26 19:47:45.068274</td>\n",
              "      <td>5</td>\n",
              "      <td>2016-11-18 19:47:45.068274</td>\n",
              "      <td>8 days</td>\n",
              "      <td>8</td>\n",
              "      <td>365.0</td>\n",
              "    </tr>\n",
              "    <tr>\n",
              "      <th>2</th>\n",
              "      <td>2016-12-20 19:47:45.068274</td>\n",
              "      <td>009e689c-51a1-4cef-99ca-a4ba364eba8d</td>\n",
              "      <td>38a02a6a-8c04-4630-aaa6-2077077a9f87</td>\n",
              "      <td>80.0</td>\n",
              "      <td>2016-12-20 19:47:45.068274</td>\n",
              "      <td>1</td>\n",
              "      <td>2016-11-18 19:47:45.068274</td>\n",
              "      <td>32 days</td>\n",
              "      <td>32</td>\n",
              "      <td>24.0</td>\n",
              "    </tr>\n",
              "    <tr>\n",
              "      <th>3</th>\n",
              "      <td>2017-01-12 19:47:45.068274</td>\n",
              "      <td>009e689c-51a1-4cef-99ca-a4ba364eba8d</td>\n",
              "      <td>f4cf0df4-0b6a-4b0f-93c7-d12499026fab</td>\n",
              "      <td>80.0</td>\n",
              "      <td>2017-01-12 19:47:45.068274</td>\n",
              "      <td>3</td>\n",
              "      <td>2016-11-18 19:47:45.068274</td>\n",
              "      <td>55 days</td>\n",
              "      <td>55</td>\n",
              "      <td>23.0</td>\n",
              "    </tr>\n",
              "    <tr>\n",
              "      <th>4</th>\n",
              "      <td>2016-12-02 19:47:45.068274</td>\n",
              "      <td>00a213c2-1174-4359-8a67-fe710ec1b439</td>\n",
              "      <td>c1b3381b-9663-429d-a8fb-3b24c20a125b</td>\n",
              "      <td>70.0</td>\n",
              "      <td>2016-12-02 19:47:45.068274</td>\n",
              "      <td>4</td>\n",
              "      <td>2016-11-18 19:47:45.068274</td>\n",
              "      <td>14 days</td>\n",
              "      <td>14</td>\n",
              "      <td>365.0</td>\n",
              "    </tr>\n",
              "  </tbody>\n",
              "</table>\n",
              "</div>"
            ],
            "text/plain": [
              "                         date                                   idc  \\\n",
              "0  2016-12-02 19:47:45.068274  003b0195-2acb-4f46-b7fa-28cf266a8f60   \n",
              "1  2016-11-26 19:47:45.068274  009e689c-51a1-4cef-99ca-a4ba364eba8d   \n",
              "2  2016-12-20 19:47:45.068274  009e689c-51a1-4cef-99ca-a4ba364eba8d   \n",
              "3  2017-01-12 19:47:45.068274  009e689c-51a1-4cef-99ca-a4ba364eba8d   \n",
              "4  2016-12-02 19:47:45.068274  00a213c2-1174-4359-8a67-fe710ec1b439   \n",
              "\n",
              "                                    idr  price                      date2  \\\n",
              "0  6d65b2b5-f34d-4440-8442-679175554db4   80.0 2016-12-02 19:47:45.068274   \n",
              "1  065474ed-6ba3-4ee1-aa83-b89e97d5a2aa   80.0 2016-11-26 19:47:45.068274   \n",
              "2  38a02a6a-8c04-4630-aaa6-2077077a9f87   80.0 2016-12-20 19:47:45.068274   \n",
              "3  f4cf0df4-0b6a-4b0f-93c7-d12499026fab   80.0 2017-01-12 19:47:45.068274   \n",
              "4  c1b3381b-9663-429d-a8fb-3b24c20a125b   70.0 2016-12-02 19:47:45.068274   \n",
              "\n",
              "   weekday                   constant    jour  jouri   diff  \n",
              "0        4 2016-11-18 19:47:45.068274 14 days     14  365.0  \n",
              "1        5 2016-11-18 19:47:45.068274  8 days      8  365.0  \n",
              "2        1 2016-11-18 19:47:45.068274 32 days     32   24.0  \n",
              "3        3 2016-11-18 19:47:45.068274 55 days     55   23.0  \n",
              "4        4 2016-11-18 19:47:45.068274 14 days     14  365.0  "
            ]
          },
          "execution_count": 66,
          "metadata": {},
          "output_type": "execute_result"
        }
      ],
      "source": [
        "rend2 = rend.sort_values([\"idc\", \"jouri\"]).reset_index(drop=True).copy()\n",
        "rend2[\"diff\"] = rend2[\"jouri\"].diff()\n",
        "rend2.loc[rend2.idc != rend2.idc.shift(1), \"diff\"] = 365\n",
        "rend2.head()"
      ]
    },
    {
      "cell_type": "markdown",
      "metadata": {
        "deletable": true,
        "editable": true
      },
      "source": [
        "## 9 \n",
        "\n",
        "*Calculer les coefficients de la r\u00e9gression* $prix \\sim age + genre + delay + 1/delay + jour\\_semaine$.\n",
        "\n",
        "L'\u00e2ge ne fait pas partie de la table *tout*. Il faut faire une jointure pour le r\u00e9cup\u00e9rer."
      ]
    },
    {
      "cell_type": "code",
      "execution_count": 67,
      "metadata": {
        "collapsed": true,
        "deletable": true,
        "editable": true
      },
      "outputs": [],
      "source": [
        "mat = tout.merge(persons, on=\"idc\")"
      ]
    },
    {
      "cell_type": "markdown",
      "metadata": {
        "deletable": true,
        "editable": true
      },
      "source": [
        "Ensuite retour \u00e0 [scikit-learn](http://scikit-learn.org/stable/) et plut\u00f4t le second [statsmodels](http://statsmodels.sourceforge.net/) pour effectuer des tests sur les coefficients du mod\u00e8le. On regarde d'abord les corr\u00e9lations."
      ]
    },
    {
      "cell_type": "code",
      "execution_count": 68,
      "metadata": {
        "collapsed": false,
        "deletable": true,
        "editable": true
      },
      "outputs": [
        {
          "data": {
            "text/html": [
              "<div>\n",
              "<table border=\"1\" class=\"dataframe\">\n",
              "  <thead>\n",
              "    <tr style=\"text-align: right;\">\n",
              "      <th></th>\n",
              "      <th>age</th>\n",
              "      <th>gender</th>\n",
              "      <th>delay</th>\n",
              "      <th>delay1</th>\n",
              "      <th>weekday</th>\n",
              "      <th>price</th>\n",
              "    </tr>\n",
              "  </thead>\n",
              "  <tbody>\n",
              "    <tr>\n",
              "      <th>age</th>\n",
              "      <td>1.000000</td>\n",
              "      <td>0.030852</td>\n",
              "      <td>-0.010694</td>\n",
              "      <td>-0.023011</td>\n",
              "      <td>0.032413</td>\n",
              "      <td>0.614708</td>\n",
              "    </tr>\n",
              "    <tr>\n",
              "      <th>gender</th>\n",
              "      <td>0.030852</td>\n",
              "      <td>1.000000</td>\n",
              "      <td>0.008700</td>\n",
              "      <td>-0.026779</td>\n",
              "      <td>-0.000064</td>\n",
              "      <td>-0.198835</td>\n",
              "    </tr>\n",
              "    <tr>\n",
              "      <th>delay</th>\n",
              "      <td>-0.010694</td>\n",
              "      <td>0.008700</td>\n",
              "      <td>1.000000</td>\n",
              "      <td>-0.616038</td>\n",
              "      <td>0.039766</td>\n",
              "      <td>0.049796</td>\n",
              "    </tr>\n",
              "    <tr>\n",
              "      <th>delay1</th>\n",
              "      <td>-0.023011</td>\n",
              "      <td>-0.026779</td>\n",
              "      <td>-0.616038</td>\n",
              "      <td>1.000000</td>\n",
              "      <td>0.025400</td>\n",
              "      <td>-0.054954</td>\n",
              "    </tr>\n",
              "    <tr>\n",
              "      <th>weekday</th>\n",
              "      <td>0.032413</td>\n",
              "      <td>-0.000064</td>\n",
              "      <td>0.039766</td>\n",
              "      <td>0.025400</td>\n",
              "      <td>1.000000</td>\n",
              "      <td>0.448584</td>\n",
              "    </tr>\n",
              "    <tr>\n",
              "      <th>price</th>\n",
              "      <td>0.614708</td>\n",
              "      <td>-0.198835</td>\n",
              "      <td>0.049796</td>\n",
              "      <td>-0.054954</td>\n",
              "      <td>0.448584</td>\n",
              "      <td>1.000000</td>\n",
              "    </tr>\n",
              "  </tbody>\n",
              "</table>\n",
              "</div>"
            ],
            "text/plain": [
              "              age    gender     delay    delay1   weekday     price\n",
              "age      1.000000  0.030852 -0.010694 -0.023011  0.032413  0.614708\n",
              "gender   0.030852  1.000000  0.008700 -0.026779 -0.000064 -0.198835\n",
              "delay   -0.010694  0.008700  1.000000 -0.616038  0.039766  0.049796\n",
              "delay1  -0.023011 -0.026779 -0.616038  1.000000  0.025400 -0.054954\n",
              "weekday  0.032413 -0.000064  0.039766  0.025400  1.000000  0.448584\n",
              "price    0.614708 -0.198835  0.049796 -0.054954  0.448584  1.000000"
            ]
          },
          "execution_count": 69,
          "metadata": {},
          "output_type": "execute_result"
        }
      ],
      "source": [
        "mat[[\"age\", \"gender\", \"delay\", \"delay1\", \"weekday\", \"price\"]].corr()"
      ]
    },
    {
      "cell_type": "code",
      "execution_count": 70,
      "metadata": {
        "collapsed": false,
        "deletable": true,
        "editable": true
      },
      "outputs": [
        {
          "name": "stderr",
          "output_type": "stream",
          "text": [
            "c:\\python36_x64\\lib\\site-packages\\matplotlib\\cbook.py:136: MatplotlibDeprecationWarning: The axisbg attribute was deprecated in version 2.0. Use facecolor instead.\n",
            "  warnings.warn(message, mplDeprecation, stacklevel=1)\n"
          ]
        },
        {
          "data": {
            "text/plain": [
              "<seaborn.matrix.ClusterGrid at 0x155431c4550>"
            ]
          },
          "execution_count": 71,
          "metadata": {},
          "output_type": "execute_result"
        },
        {
          "data": {
            "image/png": "[encoded data removed]",
            "text/plain": [
              "<matplotlib.figure.Figure at 0x155431c4b00>"
            ]
          },
          "metadata": {},
          "output_type": "display_data"
        }
      ],
      "source": [
        "seaborn.clustermap(mat[[\"age\", \"gender\", \"delay\", \"delay1\", \"weekday\", \"price\"]].corr(), figsize=(5,5))"
      ]
    },
    {
      "cell_type": "markdown",
      "metadata": {
        "deletable": true,
        "editable": true
      },
      "source": [
        "Si le jeu de donn\u00e9es n'est pas trop volumineux."
      ]
    },
    {
      "cell_type": "code",
      "execution_count": 72,
      "metadata": {
        "collapsed": false,
        "deletable": true,
        "editable": true
      },
      "outputs": [
        {
          "data": {
            "text/plain": [
              "<seaborn.axisgrid.PairGrid at 0x155443f3b00>"
            ]
          },
          "execution_count": 73,
          "metadata": {},
          "output_type": "execute_result"
        },
        {
          "data": {
            "image/png": "[encoded data removed]",
            "text/plain": [
              "<matplotlib.figure.Figure at 0x155443be780>"
            ]
          },
          "metadata": {},
          "output_type": "display_data"
        }
      ],
      "source": [
        "seaborn.pairplot(mat[[\"age\", \"gender\", \"delay\", \"delay1\", \"weekday\", \"price\"]],\n",
        "                 plot_kws={\"s\": 10}, size=1)"
      ]
    },
    {
      "cell_type": "markdown",
      "metadata": {
        "deletable": true,
        "editable": true
      },
      "source": [
        "Un dernier pour la route."
      ]
    },
    {
      "cell_type": "code",
      "execution_count": 74,
      "metadata": {
        "collapsed": false,
        "deletable": true,
        "editable": true
      },
      "outputs": [
        {
          "data": {
            "text/plain": [
              "<seaborn.axisgrid.PairGrid at 0x15545712f60>"
            ]
          },
          "execution_count": 75,
          "metadata": {},
          "output_type": "execute_result"
        },
        {
          "data": {
            "image/png": "[encoded data removed]",
            "text/plain": [
              "<matplotlib.figure.Figure at 0x15545712b00>"
            ]
          },
          "metadata": {},
          "output_type": "display_data"
        }
      ],
      "source": [
        "feat = mat[[\"age\", \"gender\", \"delay\", \"delay1\", \"weekday\", \"price\"]]\n",
        "g = seaborn.PairGrid(feat.sort_values(\"price\", ascending=False), x_vars=feat.columns[:-1], \n",
        "                     y_vars=[\"price\"], size=5, aspect=.25)\n",
        "g.map(seaborn.stripplot, size=3, orient=\"h\", palette=\"Reds_r\", edgecolor=\"gray\")"
      ]
    },
    {
      "cell_type": "markdown",
      "metadata": {
        "deletable": true,
        "editable": true
      },
      "source": [
        "R\u00e9gression"
      ]
    },
    {
      "cell_type": "code",
      "execution_count": 76,
      "metadata": {
        "collapsed": false,
        "deletable": true,
        "editable": true
      },
      "outputs": [
        {
          "data": {
            "text/plain": [
              "array([  5.08109837e-01,  -4.41245429e+00,   5.42852787e-04,\n",
              "        -1.60797483e+01,   2.12155016e+00])"
            ]
          },
          "execution_count": 77,
          "metadata": {},
          "output_type": "execute_result"
        }
      ],
      "source": [
        "lr = LinearRegression()\n",
        "lr.fit(mat[[\"age\", \"gender\", \"delay\", \"delay1\", \"weekday\"]], mat[\"price\"])\n",
        "lr.coef_"
      ]
    },
    {
      "cell_type": "code",
      "execution_count": 78,
      "metadata": {
        "collapsed": false,
        "deletable": true,
        "editable": true
      },
      "outputs": [
        {
          "data": {
            "text/html": [
              "<table class=\"simpletable\">\n",
              "<caption>OLS Regression Results</caption>\n",
              "<tr>\n",
              "  <th>Dep. Variable:</th>          <td>price</td>      <th>  R-squared:         </th> <td>   0.612</td> \n",
              "</tr>\n",
              "<tr>\n",
              "  <th>Model:</th>                   <td>OLS</td>       <th>  Adj. R-squared:    </th> <td>   0.612</td> \n",
              "</tr>\n",
              "<tr>\n",
              "  <th>Method:</th>             <td>Least Squares</td>  <th>  F-statistic:       </th> <td>   800.0</td> \n",
              "</tr>\n",
              "<tr>\n",
              "  <th>Date:</th>             <td>Sun, 12 Mar 2017</td> <th>  Prob (F-statistic):</th>  <td>  0.00</td>  \n",
              "</tr>\n",
              "<tr>\n",
              "  <th>Time:</th>                 <td>13:24:17</td>     <th>  Log-Likelihood:    </th> <td> -8257.2</td> \n",
              "</tr>\n",
              "<tr>\n",
              "  <th>No. Observations:</th>      <td>  2537</td>      <th>  AIC:               </th> <td>1.653e+04</td>\n",
              "</tr>\n",
              "<tr>\n",
              "  <th>Df Residuals:</th>          <td>  2531</td>      <th>  BIC:               </th> <td>1.656e+04</td>\n",
              "</tr>\n",
              "<tr>\n",
              "  <th>Df Model:</th>              <td>     5</td>      <th>                     </th>     <td> </td>    \n",
              "</tr>\n",
              "<tr>\n",
              "  <th>Covariance Type:</th>      <td>nonrobust</td>    <th>                     </th>     <td> </td>    \n",
              "</tr>\n",
              "</table>\n",
              "<table class=\"simpletable\">\n",
              "<tr>\n",
              "      <td></td>         <th>coef</th>     <th>std err</th>      <th>t</th>      <th>P>|t|</th>  <th>[0.025</th>    <th>0.975]</th>  \n",
              "</tr>\n",
              "<tr>\n",
              "  <th>Intercept</th> <td>   55.4146</td> <td>    0.545</td> <td>  101.618</td> <td> 0.000</td> <td>   54.345</td> <td>   56.484</td>\n",
              "</tr>\n",
              "<tr>\n",
              "  <th>age</th>       <td>    0.5081</td> <td>    0.010</td> <td>   48.918</td> <td> 0.000</td> <td>    0.488</td> <td>    0.528</td>\n",
              "</tr>\n",
              "<tr>\n",
              "  <th>gender</th>    <td>   -4.4125</td> <td>    0.250</td> <td>  -17.683</td> <td> 0.000</td> <td>   -4.902</td> <td>   -3.923</td>\n",
              "</tr>\n",
              "<tr>\n",
              "  <th>delay</th>     <td>    0.0005</td> <td>    0.001</td> <td>    0.562</td> <td> 0.574</td> <td>   -0.001</td> <td>    0.002</td>\n",
              "</tr>\n",
              "<tr>\n",
              "  <th>delay1</th>    <td>  -16.0797</td> <td>    4.842</td> <td>   -3.321</td> <td> 0.001</td> <td>  -25.575</td> <td>   -6.585</td>\n",
              "</tr>\n",
              "<tr>\n",
              "  <th>weekday</th>   <td>    2.1216</td> <td>    0.061</td> <td>   34.623</td> <td> 0.000</td> <td>    2.001</td> <td>    2.242</td>\n",
              "</tr>\n",
              "</table>\n",
              "<table class=\"simpletable\">\n",
              "<tr>\n",
              "  <th>Omnibus:</th>       <td>55.147</td> <th>  Durbin-Watson:     </th> <td>   1.969</td>\n",
              "</tr>\n",
              "<tr>\n",
              "  <th>Prob(Omnibus):</th> <td> 0.000</td> <th>  Jarque-Bera (JB):  </th> <td>  57.558</td>\n",
              "</tr>\n",
              "<tr>\n",
              "  <th>Skew:</th>          <td> 0.358</td> <th>  Prob(JB):          </th> <td>3.17e-13</td>\n",
              "</tr>\n",
              "<tr>\n",
              "  <th>Kurtosis:</th>      <td> 2.823</td> <th>  Cond. No.          </th> <td>9.20e+03</td>\n",
              "</tr>\n",
              "</table>"
            ],
            "text/plain": [
              "<class 'statsmodels.iolib.summary.Summary'>\n",
              "\"\"\"\n",
              "                            OLS Regression Results                            \n",
              "==============================================================================\n",
              "Dep. Variable:                  price   R-squared:                       0.612\n",
              "Model:                            OLS   Adj. R-squared:                  0.612\n",
              "Method:                 Least Squares   F-statistic:                     800.0\n",
              "Date:                Sun, 12 Mar 2017   Prob (F-statistic):               0.00\n",
              "Time:                        13:24:17   Log-Likelihood:                -8257.2\n",
              "No. Observations:                2537   AIC:                         1.653e+04\n",
              "Df Residuals:                    2531   BIC:                         1.656e+04\n",
              "Df Model:                           5                                         \n",
              "Covariance Type:            nonrobust                                         \n",
              "==============================================================================\n",
              "                 coef    std err          t      P>|t|      [0.025      0.975]\n",
              "------------------------------------------------------------------------------\n",
              "Intercept     55.4146      0.545    101.618      0.000      54.345      56.484\n",
              "age            0.5081      0.010     48.918      0.000       0.488       0.528\n",
              "gender        -4.4125      0.250    -17.683      0.000      -4.902      -3.923\n",
              "delay          0.0005      0.001      0.562      0.574      -0.001       0.002\n",
              "delay1       -16.0797      4.842     -3.321      0.001     -25.575      -6.585\n",
              "weekday        2.1216      0.061     34.623      0.000       2.001       2.242\n",
              "==============================================================================\n",
              "Omnibus:                       55.147   Durbin-Watson:                   1.969\n",
              "Prob(Omnibus):                  0.000   Jarque-Bera (JB):               57.558\n",
              "Skew:                           0.358   Prob(JB):                     3.17e-13\n",
              "Kurtosis:                       2.823   Cond. No.                     9.20e+03\n",
              "==============================================================================\n",
              "\n",
              "Warnings:\n",
              "[1] Standard Errors assume that the covariance matrix of the errors is correctly specified.\n",
              "[2] The condition number is large, 9.2e+03. This might indicate that there are\n",
              "strong multicollinearity or other numerical problems.\n",
              "\"\"\""
            ]
          },
          "execution_count": 79,
          "metadata": {},
          "output_type": "execute_result"
        }
      ],
      "source": [
        "from statsmodels.formula.api import ols\n",
        "lr = ols(\"price ~ age + gender + delay + delay1 + weekday\", data=mat)\n",
        "res = lr.fit()\n",
        "res.summary()"
      ]
    },
    {
      "cell_type": "markdown",
      "metadata": {
        "deletable": true,
        "editable": true
      },
      "source": [
        "## 10\n",
        "\n",
        "*Comment comparer ce mod\u00e8le avec le pr\u00e9c\u00e9dent ? Impl\u00e9mentez le calcul qui vous permet de r\u00e9pondre \u00e0 cette question.*\n",
        "\n",
        "Nous pourrions comparer les coefficients $R^2$ (0.57, 0.61) des r\u00e9gressions pour savoir quelle est la meilleur except\u00e9 que celle-ci ne sont pas calcul\u00e9es sur les m\u00eames donn\u00e9es. La comparaison n'a pas de sens et il serait dangeraux d'en tirer des conclusions. Les valeurs sont de plus tr\u00e8s proches. Il faut comparer les pr\u00e9dictions. Dans le premier cas, on pr\u00e9dit le prix moyen. Dans le second, on pr\u00e9dit le prix d'une consultation. Il est alors possible de calculer une pr\u00e9diction moyenne par patient et de comparer les erreurs de pr\u00e9diction du prix moyen. D'un c\u00f4t\u00e9, la pr\u00e9diction du prix moyen, de l'autre la pr\u00e9diction du prix d'une consultation agr\u00e9g\u00e9 par patient."
      ]
    },
    {
      "cell_type": "code",
      "execution_count": 80,
      "metadata": {
        "collapsed": false,
        "deletable": true,
        "editable": true
      },
      "outputs": [
        {
          "data": {
            "text/plain": [
              "(array([ 0.52440734, -4.36373925]), 61.050576719028669)"
            ]
          },
          "execution_count": 81,
          "metadata": {},
          "output_type": "execute_result"
        }
      ],
      "source": [
        "lr_moy = LinearRegression()\n",
        "lr_moy.fit(join[[\"age\", \"gender\"]], join[\"price\"])\n",
        "lr_moy.coef_, lr_moy.intercept_"
      ]
    },
    {
      "cell_type": "code",
      "execution_count": 82,
      "metadata": {
        "collapsed": false,
        "deletable": true,
        "editable": true
      },
      "outputs": [
        {
          "data": {
            "text/html": [
              "<div>\n",
              "<table border=\"1\" class=\"dataframe\">\n",
              "  <thead>\n",
              "    <tr style=\"text-align: right;\">\n",
              "      <th></th>\n",
              "      <th>age</th>\n",
              "      <th>gender</th>\n",
              "      <th>idc</th>\n",
              "      <th>name</th>\n",
              "      <th>price</th>\n",
              "      <th>pred_moy</th>\n",
              "    </tr>\n",
              "  </thead>\n",
              "  <tbody>\n",
              "    <tr>\n",
              "      <th>0</th>\n",
              "      <td>37</td>\n",
              "      <td>0</td>\n",
              "      <td>4ba0b473-f8ca-4466-a65b-40e9b8ba5029</td>\n",
              "      <td>Cendrillon</td>\n",
              "      <td>70.000000</td>\n",
              "      <td>80.453648</td>\n",
              "    </tr>\n",
              "    <tr>\n",
              "      <th>1</th>\n",
              "      <td>41</td>\n",
              "      <td>0</td>\n",
              "      <td>f44b004b-b01e-4835-b86d-1a42846c6d93</td>\n",
              "      <td>Cendrillon</td>\n",
              "      <td>78.333333</td>\n",
              "      <td>82.551278</td>\n",
              "    </tr>\n",
              "    <tr>\n",
              "      <th>2</th>\n",
              "      <td>46</td>\n",
              "      <td>1</td>\n",
              "      <td>304895f0-f686-4b0e-8854-a705bb5a6982</td>\n",
              "      <td>Balthazar</td>\n",
              "      <td>75.000000</td>\n",
              "      <td>80.809575</td>\n",
              "    </tr>\n",
              "    <tr>\n",
              "      <th>3</th>\n",
              "      <td>42</td>\n",
              "      <td>1</td>\n",
              "      <td>3f0d31d2-0ef4-4e7e-b876-07d10225cc8c</td>\n",
              "      <td>Balthazar</td>\n",
              "      <td>95.000000</td>\n",
              "      <td>78.711946</td>\n",
              "    </tr>\n",
              "    <tr>\n",
              "      <th>4</th>\n",
              "      <td>41</td>\n",
              "      <td>1</td>\n",
              "      <td>f29273f4-a76c-4158-b5f5-b3e5a080a0c7</td>\n",
              "      <td>Balthazar</td>\n",
              "      <td>90.000000</td>\n",
              "      <td>78.187538</td>\n",
              "    </tr>\n",
              "  </tbody>\n",
              "</table>\n",
              "</div>"
            ],
            "text/plain": [
              "   age  gender                                   idc        name      price  \\\n",
              "0   37       0  4ba0b473-f8ca-4466-a65b-40e9b8ba5029  Cendrillon  70.000000   \n",
              "1   41       0  f44b004b-b01e-4835-b86d-1a42846c6d93  Cendrillon  78.333333   \n",
              "2   46       1  304895f0-f686-4b0e-8854-a705bb5a6982   Balthazar  75.000000   \n",
              "3   42       1  3f0d31d2-0ef4-4e7e-b876-07d10225cc8c   Balthazar  95.000000   \n",
              "4   41       1  f29273f4-a76c-4158-b5f5-b3e5a080a0c7   Balthazar  90.000000   \n",
              "\n",
              "    pred_moy  \n",
              "0  80.453648  \n",
              "1  82.551278  \n",
              "2  80.809575  \n",
              "3  78.711946  \n",
              "4  78.187538  "
            ]
          },
          "execution_count": 83,
          "metadata": {},
          "output_type": "execute_result"
        }
      ],
      "source": [
        "pred_moy = lr_moy.predict(join[[\"age\", \"gender\"]])\n",
        "join[\"pred_moy\"] = pred_moy\n",
        "join.head()"
      ]
    },
    {
      "cell_type": "markdown",
      "metadata": {
        "deletable": true,
        "editable": true
      },
      "source": [
        "On calcule l'erreur."
      ]
    },
    {
      "cell_type": "code",
      "execution_count": 84,
      "metadata": {
        "collapsed": false,
        "deletable": true,
        "editable": true
      },
      "outputs": [
        {
          "data": {
            "text/plain": [
              "31.87444884457175"
            ]
          },
          "execution_count": 85,
          "metadata": {},
          "output_type": "execute_result"
        }
      ],
      "source": [
        "err1 = ((join.pred_moy - join.price)**2).sum() / join.shape[0]\n",
        "err1"
      ]
    },
    {
      "cell_type": "code",
      "execution_count": 86,
      "metadata": {
        "collapsed": false,
        "deletable": true,
        "editable": true
      },
      "outputs": [
        {
          "data": {
            "text/plain": [
              "<matplotlib.axes._subplots.AxesSubplot at 0x15546b180f0>"
            ]
          },
          "execution_count": 87,
          "metadata": {},
          "output_type": "execute_result"
        },
        {
          "data": {
            "image/png": "[encoded data removed]",
            "text/plain": [
              "<matplotlib.figure.Figure at 0x15546b0b978>"
            ]
          },
          "metadata": {},
          "output_type": "display_data"
        }
      ],
      "source": [
        "join.plot(x=\"price\", y=\"pred_moy\", kind=\"scatter\")"
      ]
    },
    {
      "cell_type": "code",
      "execution_count": 88,
      "metadata": {
        "collapsed": false,
        "deletable": true,
        "editable": true
      },
      "outputs": [
        {
          "data": {
            "text/plain": [
              "(array([  5.08109837e-01,  -4.41245429e+00,   5.42852787e-04,\n",
              "         -1.60797483e+01,   2.12155016e+00]), 55.414609503334248)"
            ]
          },
          "execution_count": 89,
          "metadata": {},
          "output_type": "execute_result"
        }
      ],
      "source": [
        "lrc = LinearRegression()\n",
        "feat = mat[[\"age\", \"gender\", \"delay\", \"delay1\", \"weekday\", \"price\", \"idc\"]].copy()\n",
        "lrc.fit(feat[[\"age\", \"gender\", \"delay\", \"delay1\", \"weekday\"]], feat[\"price\"])\n",
        "lrc.coef_, lrc.intercept_"
      ]
    },
    {
      "cell_type": "code",
      "execution_count": 90,
      "metadata": {
        "collapsed": false,
        "deletable": true,
        "editable": true
      },
      "outputs": [
        {
          "data": {
            "text/html": [
              "<div>\n",
              "<table border=\"1\" class=\"dataframe\">\n",
              "  <thead>\n",
              "    <tr style=\"text-align: right;\">\n",
              "      <th></th>\n",
              "      <th>age</th>\n",
              "      <th>gender</th>\n",
              "      <th>delay</th>\n",
              "      <th>delay1</th>\n",
              "      <th>weekday</th>\n",
              "      <th>price</th>\n",
              "      <th>idc</th>\n",
              "      <th>predc</th>\n",
              "    </tr>\n",
              "  </thead>\n",
              "  <tbody>\n",
              "    <tr>\n",
              "      <th>0</th>\n",
              "      <td>37</td>\n",
              "      <td>0</td>\n",
              "      <td>365.0</td>\n",
              "      <td>0.002732</td>\n",
              "      <td>4</td>\n",
              "      <td>75.0</td>\n",
              "      <td>4ba0b473-f8ca-4466-a65b-40e9b8ba5029</td>\n",
              "      <td>82.855082</td>\n",
              "    </tr>\n",
              "    <tr>\n",
              "      <th>1</th>\n",
              "      <td>37</td>\n",
              "      <td>0</td>\n",
              "      <td>365.0</td>\n",
              "      <td>0.002732</td>\n",
              "      <td>4</td>\n",
              "      <td>65.0</td>\n",
              "      <td>4ba0b473-f8ca-4466-a65b-40e9b8ba5029</td>\n",
              "      <td>82.855082</td>\n",
              "    </tr>\n",
              "    <tr>\n",
              "      <th>2</th>\n",
              "      <td>41</td>\n",
              "      <td>0</td>\n",
              "      <td>365.0</td>\n",
              "      <td>0.002732</td>\n",
              "      <td>2</td>\n",
              "      <td>75.0</td>\n",
              "      <td>f44b004b-b01e-4835-b86d-1a42846c6d93</td>\n",
              "      <td>80.644421</td>\n",
              "    </tr>\n",
              "    <tr>\n",
              "      <th>3</th>\n",
              "      <td>41</td>\n",
              "      <td>0</td>\n",
              "      <td>29.0</td>\n",
              "      <td>0.033333</td>\n",
              "      <td>5</td>\n",
              "      <td>80.0</td>\n",
              "      <td>f44b004b-b01e-4835-b86d-1a42846c6d93</td>\n",
              "      <td>86.334615</td>\n",
              "    </tr>\n",
              "    <tr>\n",
              "      <th>4</th>\n",
              "      <td>41</td>\n",
              "      <td>0</td>\n",
              "      <td>50.0</td>\n",
              "      <td>0.019608</td>\n",
              "      <td>5</td>\n",
              "      <td>80.0</td>\n",
              "      <td>f44b004b-b01e-4835-b86d-1a42846c6d93</td>\n",
              "      <td>86.566717</td>\n",
              "    </tr>\n",
              "  </tbody>\n",
              "</table>\n",
              "</div>"
            ],
            "text/plain": [
              "   age  gender  delay    delay1  weekday  price  \\\n",
              "0   37       0  365.0  0.002732        4   75.0   \n",
              "1   37       0  365.0  0.002732        4   65.0   \n",
              "2   41       0  365.0  0.002732        2   75.0   \n",
              "3   41       0   29.0  0.033333        5   80.0   \n",
              "4   41       0   50.0  0.019608        5   80.0   \n",
              "\n",
              "                                    idc      predc  \n",
              "0  4ba0b473-f8ca-4466-a65b-40e9b8ba5029  82.855082  \n",
              "1  4ba0b473-f8ca-4466-a65b-40e9b8ba5029  82.855082  \n",
              "2  f44b004b-b01e-4835-b86d-1a42846c6d93  80.644421  \n",
              "3  f44b004b-b01e-4835-b86d-1a42846c6d93  86.334615  \n",
              "4  f44b004b-b01e-4835-b86d-1a42846c6d93  86.566717  "
            ]
          },
          "execution_count": 91,
          "metadata": {},
          "output_type": "execute_result"
        }
      ],
      "source": [
        "predc = lrc.predict(feat[[\"age\", \"gender\", \"delay\", \"delay1\", \"weekday\"]])\n",
        "feat[\"predc\"] = predc\n",
        "feat.head()"
      ]
    },
    {
      "cell_type": "markdown",
      "metadata": {
        "deletable": true,
        "editable": true
      },
      "source": [
        "On agr\u00e8ge les secondes pr\u00e9dictions."
      ]
    },
    {
      "cell_type": "code",
      "execution_count": 92,
      "metadata": {
        "collapsed": false,
        "deletable": true,
        "editable": true
      },
      "outputs": [
        {
          "data": {
            "text/html": [
              "<div>\n",
              "<table border=\"1\" class=\"dataframe\">\n",
              "  <thead>\n",
              "    <tr style=\"text-align: right;\">\n",
              "      <th></th>\n",
              "      <th>predc</th>\n",
              "      <th>price</th>\n",
              "    </tr>\n",
              "    <tr>\n",
              "      <th>idc</th>\n",
              "      <th></th>\n",
              "      <th></th>\n",
              "    </tr>\n",
              "  </thead>\n",
              "  <tbody>\n",
              "    <tr>\n",
              "      <th>003b0195-2acb-4f46-b7fa-28cf266a8f60</th>\n",
              "      <td>85.048055</td>\n",
              "      <td>80.0</td>\n",
              "    </tr>\n",
              "    <tr>\n",
              "      <th>009e689c-51a1-4cef-99ca-a4ba364eba8d</th>\n",
              "      <td>83.945104</td>\n",
              "      <td>80.0</td>\n",
              "    </tr>\n",
              "    <tr>\n",
              "      <th>00a213c2-1174-4359-8a67-fe710ec1b439</th>\n",
              "      <td>72.345309</td>\n",
              "      <td>70.0</td>\n",
              "    </tr>\n",
              "    <tr>\n",
              "      <th>00e42818-aade-4758-a5f6-c78a6f235ea5</th>\n",
              "      <td>65.277461</td>\n",
              "      <td>70.0</td>\n",
              "    </tr>\n",
              "    <tr>\n",
              "      <th>0153b785-9acd-4d28-aad1-62f8bf2faea3</th>\n",
              "      <td>79.298313</td>\n",
              "      <td>75.0</td>\n",
              "    </tr>\n",
              "  </tbody>\n",
              "</table>\n",
              "</div>"
            ],
            "text/plain": [
              "                                          predc  price\n",
              "idc                                                   \n",
              "003b0195-2acb-4f46-b7fa-28cf266a8f60  85.048055   80.0\n",
              "009e689c-51a1-4cef-99ca-a4ba364eba8d  83.945104   80.0\n",
              "00a213c2-1174-4359-8a67-fe710ec1b439  72.345309   70.0\n",
              "00e42818-aade-4758-a5f6-c78a6f235ea5  65.277461   70.0\n",
              "0153b785-9acd-4d28-aad1-62f8bf2faea3  79.298313   75.0"
            ]
          },
          "execution_count": 93,
          "metadata": {},
          "output_type": "execute_result"
        }
      ],
      "source": [
        "agg = feat[[\"idc\",\"predc\", \"price\"]].groupby(\"idc\").mean()\n",
        "agg.head()"
      ]
    },
    {
      "cell_type": "code",
      "execution_count": 94,
      "metadata": {
        "collapsed": false,
        "deletable": true,
        "editable": true
      },
      "outputs": [
        {
          "data": {
            "text/plain": [
              "20.6978360564799"
            ]
          },
          "execution_count": 95,
          "metadata": {},
          "output_type": "execute_result"
        }
      ],
      "source": [
        "err2 = ((agg.predc - agg.price)**2).sum() / agg.shape[0]\n",
        "err2"
      ]
    },
    {
      "cell_type": "markdown",
      "metadata": {
        "deletable": true,
        "editable": true
      },
      "source": [
        "Le second mod\u00e8le est clairement meilleur."
      ]
    },
    {
      "cell_type": "code",
      "execution_count": 96,
      "metadata": {
        "collapsed": false,
        "deletable": true,
        "editable": true
      },
      "outputs": [
        {
          "data": {
            "text/plain": [
              "<matplotlib.axes._subplots.AxesSubplot at 0x15546b3a080>"
            ]
          },
          "execution_count": 97,
          "metadata": {},
          "output_type": "execute_result"
        },
        {
          "data": {
            "image/png": "[encoded data removed]",
            "text/plain": [
              "<matplotlib.figure.Figure at 0x15546bc0c50>"
            ]
          },
          "metadata": {},
          "output_type": "display_data"
        }
      ],
      "source": [
        "agg.plot(x=\"price\", y=\"predc\", kind=\"scatter\")"
      ]
    },
    {
      "cell_type": "markdown",
      "metadata": {
        "deletable": true,
        "editable": true
      },
      "source": [
        "La seconde r\u00e9gression utilise une information dont on ne dispose pas au niveau agr\u00e9g\u00e9 : le jour de la semaine et un pr\u00e9c\u00e9dent graphe a clairement montr\u00e9 que c'\u00e9tait une variable importante. Un dernier graphe pour comparer les deux pr\u00e9dictions en montrant les pr\u00e9dictions tri\u00e9es par prix \u00e0 pr\u00e9dire."
      ]
    },
    {
      "cell_type": "code",
      "execution_count": 98,
      "metadata": {
        "collapsed": false,
        "deletable": true,
        "editable": true
      },
      "outputs": [
        {
          "data": {
            "text/html": [
              "<div>\n",
              "<table border=\"1\" class=\"dataframe\">\n",
              "  <thead>\n",
              "    <tr style=\"text-align: right;\">\n",
              "      <th></th>\n",
              "      <th>index</th>\n",
              "      <th>age</th>\n",
              "      <th>gender</th>\n",
              "      <th>idc</th>\n",
              "      <th>name</th>\n",
              "      <th>price</th>\n",
              "      <th>pred_moy</th>\n",
              "    </tr>\n",
              "  </thead>\n",
              "  <tbody>\n",
              "    <tr>\n",
              "      <th>0</th>\n",
              "      <td>0</td>\n",
              "      <td>18</td>\n",
              "      <td>1</td>\n",
              "      <td>6423a722-4769-4a7c-8d1d-266538c2a07a</td>\n",
              "      <td>Balthazar</td>\n",
              "      <td>60.0</td>\n",
              "      <td>66.12617</td>\n",
              "    </tr>\n",
              "  </tbody>\n",
              "</table>\n",
              "</div>"
            ],
            "text/plain": [
              "   index  age  gender                                   idc       name  price  \\\n",
              "0      0   18       1  6423a722-4769-4a7c-8d1d-266538c2a07a  Balthazar   60.0   \n",
              "\n",
              "   pred_moy  \n",
              "0  66.12617  "
            ]
          },
          "execution_count": 99,
          "metadata": {},
          "output_type": "execute_result"
        }
      ],
      "source": [
        "temp = join.sort_values(\"price\").reset_index(drop=True).reset_index(drop=False)\n",
        "temp.head(n=1)"
      ]
    },
    {
      "cell_type": "code",
      "execution_count": 100,
      "metadata": {
        "collapsed": false,
        "deletable": true,
        "editable": true
      },
      "outputs": [
        {
          "data": {
            "text/plain": [
              "<matplotlib.axes._subplots.AxesSubplot at 0x15546be2080>"
            ]
          },
          "execution_count": 101,
          "metadata": {},
          "output_type": "execute_result"
        },
        {
          "data": {
            "image/png": "[encoded data removed]",
            "text/plain": [
              "<matplotlib.figure.Figure at 0x15546c4fe48>"
            ]
          },
          "metadata": {},
          "output_type": "display_data"
        }
      ],
      "source": [
        "temp.plot(x=\"index\", y=[\"price\", \"pred_moy\"])"
      ]
    },
    {
      "cell_type": "code",
      "execution_count": 102,
      "metadata": {
        "collapsed": false,
        "deletable": true,
        "editable": true
      },
      "outputs": [
        {
          "data": {
            "text/html": [
              "<div>\n",
              "<table border=\"1\" class=\"dataframe\">\n",
              "  <thead>\n",
              "    <tr style=\"text-align: right;\">\n",
              "      <th></th>\n",
              "      <th>index</th>\n",
              "      <th>predc</th>\n",
              "      <th>price</th>\n",
              "    </tr>\n",
              "  </thead>\n",
              "  <tbody>\n",
              "    <tr>\n",
              "      <th>0</th>\n",
              "      <td>0</td>\n",
              "      <td>64.54544</td>\n",
              "      <td>60.0</td>\n",
              "    </tr>\n",
              "  </tbody>\n",
              "</table>\n",
              "</div>"
            ],
            "text/plain": [
              "   index     predc  price\n",
              "0      0  64.54544   60.0"
            ]
          },
          "execution_count": 103,
          "metadata": {},
          "output_type": "execute_result"
        }
      ],
      "source": [
        "temp2 = agg.sort_values(\"price\").reset_index(drop=True).reset_index(drop=False)\n",
        "temp2.head(n=1)"
      ]
    },
    {
      "cell_type": "code",
      "execution_count": 104,
      "metadata": {
        "collapsed": false,
        "deletable": true,
        "editable": true
      },
      "outputs": [
        {
          "data": {
            "text/plain": [
              "<matplotlib.axes._subplots.AxesSubplot at 0x15546c495c0>"
            ]
          },
          "execution_count": 105,
          "metadata": {},
          "output_type": "execute_result"
        },
        {
          "data": {
            "image/png": "[encoded data removed]",
            "text/plain": [
              "<matplotlib.figure.Figure at 0x15546c6f400>"
            ]
          },
          "metadata": {},
          "output_type": "display_data"
        }
      ],
      "source": [
        "ax = temp.plot(x=\"index\", y=\"price\", figsize=(14,4), ylim=[60,120])\n",
        "temp.plot(x=\"index\", y=\"pred_moy\", linewidth=1, ax=ax, ylim=[60,120])\n",
        "temp2.plot(x=\"index\", y=\"predc\", ax=ax, linewidth=0.6, ylim=[60,120])"
      ]
    },
    {
      "cell_type": "markdown",
      "metadata": {
        "deletable": true,
        "editable": true
      },
      "source": [
        "C'est finalement un peu plus visible sur le graphe pr\u00e9c\u00e9dent (nuage de points) mais aussi un peu trompeur du fait de la superposition des points. Une derni\u00e8re remarque. En machine learning, nous avons l'habitude d'apprendre un mod\u00e8le sur une base d'apprentissage et de tester les pr\u00e9dictions sur une autre. Dans notre cas, nous avons appris et pr\u00e9dit sur la m\u00eame base. Ce type de tester est \u00e9videmment plus fiable. Mais nous avons compar\u00e9 ici deux erreurs d'apprentissage moyennes et c'est exactement ce que l'on fait lorsqu'on compare deux coefficients $R^2$.\n",
        "\n",
        "Un dernier graphe pour la route obtenu en triant les erreurs par ordre croissant."
      ]
    },
    {
      "cell_type": "code",
      "execution_count": 106,
      "metadata": {
        "collapsed": false,
        "deletable": true,
        "editable": true
      },
      "outputs": [
        {
          "data": {
            "text/plain": [
              "[<matplotlib.lines.Line2D at 0x15546db5b38>]"
            ]
          },
          "execution_count": 107,
          "metadata": {},
          "output_type": "execute_result"
        },
        {
          "data": {
            "image/png": "[encoded data removed]",
            "text/plain": [
              "<matplotlib.figure.Figure at 0x15546cf29b0>"
            ]
          },
          "metadata": {},
          "output_type": "display_data"
        }
      ],
      "source": [
        "temp[\"erreur\"] = temp.pred_moy - temp.price\n",
        "temp2[\"erreur2\"] = temp2.predc - temp2.price\n",
        "ax = temp[[\"erreur\"]].sort_values(\"erreur\").reset_index(drop=True).plot()\n",
        "temp2[[\"erreur2\"]].sort_values(\"erreur2\").reset_index(drop=True).plot(ax=ax)\n",
        "ax.plot([0,1000], [0,0], \"r--\")"
      ]
    },
    {
      "cell_type": "markdown",
      "metadata": {
        "deletable": true,
        "editable": true
      },
      "source": [
        "Le second mod\u00e8le fait des erreurs moins importantes surtout c\u00f4t\u00e9 n\u00e9gatif. Il sous-estime moins la bonne valeur."
      ]
    },
    {
      "cell_type": "markdown",
      "metadata": {
        "collapsed": true,
        "deletable": true,
        "editable": true
      },
      "source": [
        "## Traitement sp\u00e9cifique de la variable cat\u00e9gorielle weekday\n",
        "\n",
        "Le second mod\u00e8le ne prend pas en compte le dimanche comme jour de la semaine. *weekday* est une variable cat\u00e9gorielle. Contrairment au genre, elle poss\u00e8de plus de deux modalit\u00e9s. Il serait int\u00e9ressant de la traiter comme un ensemble de variable binaire et non une colonne de type entier."
      ]
    },
    {
      "cell_type": "code",
      "execution_count": 108,
      "metadata": {
        "collapsed": false
      },
      "outputs": [
        {
          "data": {
            "text/html": [
              "<div>\n",
              "<table border=\"1\" class=\"dataframe\">\n",
              "  <thead>\n",
              "    <tr style=\"text-align: right;\">\n",
              "      <th></th>\n",
              "      <th>lu</th>\n",
              "      <th>ma</th>\n",
              "      <th>me</th>\n",
              "      <th>je</th>\n",
              "      <th>ve</th>\n",
              "      <th>sa</th>\n",
              "      <th>di</th>\n",
              "    </tr>\n",
              "  </thead>\n",
              "  <tbody>\n",
              "    <tr>\n",
              "      <th>0</th>\n",
              "      <td>0</td>\n",
              "      <td>0</td>\n",
              "      <td>0</td>\n",
              "      <td>0</td>\n",
              "      <td>1</td>\n",
              "      <td>0</td>\n",
              "      <td>0</td>\n",
              "    </tr>\n",
              "    <tr>\n",
              "      <th>1</th>\n",
              "      <td>0</td>\n",
              "      <td>0</td>\n",
              "      <td>0</td>\n",
              "      <td>0</td>\n",
              "      <td>1</td>\n",
              "      <td>0</td>\n",
              "      <td>0</td>\n",
              "    </tr>\n",
              "    <tr>\n",
              "      <th>2</th>\n",
              "      <td>0</td>\n",
              "      <td>0</td>\n",
              "      <td>1</td>\n",
              "      <td>0</td>\n",
              "      <td>0</td>\n",
              "      <td>0</td>\n",
              "      <td>0</td>\n",
              "    </tr>\n",
              "    <tr>\n",
              "      <th>3</th>\n",
              "      <td>0</td>\n",
              "      <td>0</td>\n",
              "      <td>0</td>\n",
              "      <td>0</td>\n",
              "      <td>0</td>\n",
              "      <td>1</td>\n",
              "      <td>0</td>\n",
              "    </tr>\n",
              "    <tr>\n",
              "      <th>4</th>\n",
              "      <td>0</td>\n",
              "      <td>0</td>\n",
              "      <td>0</td>\n",
              "      <td>0</td>\n",
              "      <td>0</td>\n",
              "      <td>1</td>\n",
              "      <td>0</td>\n",
              "    </tr>\n",
              "  </tbody>\n",
              "</table>\n",
              "</div>"
            ],
            "text/plain": [
              "   lu  ma  me  je  ve  sa  di\n",
              "0   0   0   0   0   1   0   0\n",
              "1   0   0   0   0   1   0   0\n",
              "2   0   0   1   0   0   0   0\n",
              "3   0   0   0   0   0   1   0\n",
              "4   0   0   0   0   0   1   0"
            ]
          },
          "execution_count": 109,
          "metadata": {},
          "output_type": "execute_result"
        }
      ],
      "source": [
        "dummies = pandas.get_dummies(mat.weekday)\n",
        "dummies.columns=[\"lu\", \"ma\", \"me\", \"je\", \"ve\", \"sa\", \"di\"]\n",
        "dummies.head()"
      ]
    },
    {
      "cell_type": "markdown",
      "metadata": {},
      "source": [
        "On supprime une modalit\u00e9 pour \u00e9viter d'avoir une matrice corr\u00e9l\u00e9e avec la constante et on ajoute des variables au mod\u00e8le de r\u00e9gression."
      ]
    },
    {
      "cell_type": "code",
      "execution_count": 110,
      "metadata": {
        "collapsed": false
      },
      "outputs": [
        {
          "data": {
            "text/html": [
              "<div>\n",
              "<table border=\"1\" class=\"dataframe\">\n",
              "  <thead>\n",
              "    <tr style=\"text-align: right;\">\n",
              "      <th></th>\n",
              "      <th>date</th>\n",
              "      <th>idc</th>\n",
              "      <th>idr</th>\n",
              "      <th>price</th>\n",
              "      <th>date2</th>\n",
              "      <th>weekday</th>\n",
              "      <th>constant</th>\n",
              "      <th>jour</th>\n",
              "      <th>jouri</th>\n",
              "      <th>diff</th>\n",
              "      <th>...</th>\n",
              "      <th>delay1</th>\n",
              "      <th>age</th>\n",
              "      <th>gender</th>\n",
              "      <th>name</th>\n",
              "      <th>ma</th>\n",
              "      <th>me</th>\n",
              "      <th>je</th>\n",
              "      <th>ve</th>\n",
              "      <th>sa</th>\n",
              "      <th>di</th>\n",
              "    </tr>\n",
              "  </thead>\n",
              "  <tbody>\n",
              "    <tr>\n",
              "      <th>0</th>\n",
              "      <td>2016-12-02 19:47:45.068274</td>\n",
              "      <td>4ba0b473-f8ca-4466-a65b-40e9b8ba5029</td>\n",
              "      <td>b7db0ac9-86a1-46f9-98ac-f1f8eb54072d</td>\n",
              "      <td>75.0</td>\n",
              "      <td>2016-12-02 19:47:45.068274</td>\n",
              "      <td>4</td>\n",
              "      <td>2016-11-18 19:47:45.068274</td>\n",
              "      <td>14 days</td>\n",
              "      <td>14</td>\n",
              "      <td>-26.0</td>\n",
              "      <td>...</td>\n",
              "      <td>0.002732</td>\n",
              "      <td>37</td>\n",
              "      <td>0</td>\n",
              "      <td>Cendrillon</td>\n",
              "      <td>0</td>\n",
              "      <td>0</td>\n",
              "      <td>0</td>\n",
              "      <td>1</td>\n",
              "      <td>0</td>\n",
              "      <td>0</td>\n",
              "    </tr>\n",
              "  </tbody>\n",
              "</table>\n",
              "<p>1 rows \u00d7 22 columns</p>\n",
              "</div>"
            ],
            "text/plain": [
              "                         date                                   idc  \\\n",
              "0  2016-12-02 19:47:45.068274  4ba0b473-f8ca-4466-a65b-40e9b8ba5029   \n",
              "\n",
              "                                    idr  price                      date2  \\\n",
              "0  b7db0ac9-86a1-46f9-98ac-f1f8eb54072d   75.0 2016-12-02 19:47:45.068274   \n",
              "\n",
              "   weekday                   constant    jour  jouri  diff ...    delay1  age  \\\n",
              "0        4 2016-11-18 19:47:45.068274 14 days     14 -26.0 ...  0.002732   37   \n",
              "\n",
              "   gender        name  ma me  je  ve  sa  di  \n",
              "0       0  Cendrillon   0  0   0   1   0   0  \n",
              "\n",
              "[1 rows x 22 columns]"
            ]
          },
          "execution_count": 111,
          "metadata": {},
          "output_type": "execute_result"
        }
      ],
      "source": [
        "mat2 = pandas.concat([mat, dummies.drop(\"lu\", axis=1)], axis=1)\n",
        "mat2.head(n=1)"
      ]
    },
    {
      "cell_type": "code",
      "execution_count": 112,
      "metadata": {
        "collapsed": false
      },
      "outputs": [
        {
          "data": {
            "text/html": [
              "<table class=\"simpletable\">\n",
              "<caption>OLS Regression Results</caption>\n",
              "<tr>\n",
              "  <th>Dep. Variable:</th>          <td>price</td>      <th>  R-squared:         </th> <td>   0.918</td> \n",
              "</tr>\n",
              "<tr>\n",
              "  <th>Model:</th>                   <td>OLS</td>       <th>  Adj. R-squared:    </th> <td>   0.917</td> \n",
              "</tr>\n",
              "<tr>\n",
              "  <th>Method:</th>             <td>Least Squares</td>  <th>  F-statistic:       </th> <td>   2812.</td> \n",
              "</tr>\n",
              "<tr>\n",
              "  <th>Date:</th>             <td>Sun, 12 Mar 2017</td> <th>  Prob (F-statistic):</th>  <td>  0.00</td>  \n",
              "</tr>\n",
              "<tr>\n",
              "  <th>Time:</th>                 <td>13:50:22</td>     <th>  Log-Likelihood:    </th> <td> -6293.7</td> \n",
              "</tr>\n",
              "<tr>\n",
              "  <th>No. Observations:</th>      <td>  2537</td>      <th>  AIC:               </th> <td>1.261e+04</td>\n",
              "</tr>\n",
              "<tr>\n",
              "  <th>Df Residuals:</th>          <td>  2526</td>      <th>  BIC:               </th> <td>1.267e+04</td>\n",
              "</tr>\n",
              "<tr>\n",
              "  <th>Df Model:</th>              <td>    10</td>      <th>                     </th>     <td> </td>    \n",
              "</tr>\n",
              "<tr>\n",
              "  <th>Covariance Type:</th>      <td>nonrobust</td>    <th>                     </th>     <td> </td>    \n",
              "</tr>\n",
              "</table>\n",
              "<table class=\"simpletable\">\n",
              "<tr>\n",
              "      <td></td>         <th>coef</th>     <th>std err</th>      <th>t</th>      <th>P>|t|</th>  <th>[0.025</th>    <th>0.975]</th>  \n",
              "</tr>\n",
              "<tr>\n",
              "  <th>Intercept</th> <td>   59.0371</td> <td>    0.272</td> <td>  217.342</td> <td> 0.000</td> <td>   58.504</td> <td>   59.570</td>\n",
              "</tr>\n",
              "<tr>\n",
              "  <th>age</th>       <td>    0.5005</td> <td>    0.005</td> <td>  104.318</td> <td> 0.000</td> <td>    0.491</td> <td>    0.510</td>\n",
              "</tr>\n",
              "<tr>\n",
              "  <th>gender</th>    <td>   -4.0722</td> <td>    0.115</td> <td>  -35.321</td> <td> 0.000</td> <td>   -4.298</td> <td>   -3.846</td>\n",
              "</tr>\n",
              "<tr>\n",
              "  <th>delay</th>     <td>    0.0003</td> <td>    0.000</td> <td>    0.661</td> <td> 0.509</td> <td>   -0.001</td> <td>    0.001</td>\n",
              "</tr>\n",
              "<tr>\n",
              "  <th>delay1</th>    <td>  -20.7385</td> <td>    2.236</td> <td>   -9.275</td> <td> 0.000</td> <td>  -25.123</td> <td>  -16.354</td>\n",
              "</tr>\n",
              "<tr>\n",
              "  <th>ma</th>        <td>   -0.0840</td> <td>    0.208</td> <td>   -0.405</td> <td> 0.686</td> <td>   -0.491</td> <td>    0.323</td>\n",
              "</tr>\n",
              "<tr>\n",
              "  <th>me</th>        <td>    0.3003</td> <td>    0.216</td> <td>    1.392</td> <td> 0.164</td> <td>   -0.123</td> <td>    0.723</td>\n",
              "</tr>\n",
              "<tr>\n",
              "  <th>je</th>        <td>    0.1607</td> <td>    0.219</td> <td>    0.735</td> <td> 0.463</td> <td>   -0.268</td> <td>    0.590</td>\n",
              "</tr>\n",
              "<tr>\n",
              "  <th>ve</th>        <td>   -0.1748</td> <td>    0.212</td> <td>   -0.825</td> <td> 0.409</td> <td>   -0.590</td> <td>    0.240</td>\n",
              "</tr>\n",
              "<tr>\n",
              "  <th>sa</th>        <td>    0.1849</td> <td>    0.210</td> <td>    0.879</td> <td> 0.379</td> <td>   -0.227</td> <td>    0.597</td>\n",
              "</tr>\n",
              "<tr>\n",
              "  <th>di</th>        <td>   20.0978</td> <td>    0.211</td> <td>   95.203</td> <td> 0.000</td> <td>   19.684</td> <td>   20.512</td>\n",
              "</tr>\n",
              "</table>\n",
              "<table class=\"simpletable\">\n",
              "<tr>\n",
              "  <th>Omnibus:</th>       <td>257.849</td> <th>  Durbin-Watson:     </th> <td>   2.034</td> \n",
              "</tr>\n",
              "<tr>\n",
              "  <th>Prob(Omnibus):</th> <td> 0.000</td>  <th>  Jarque-Bera (JB):  </th> <td> 484.437</td> \n",
              "</tr>\n",
              "<tr>\n",
              "  <th>Skew:</th>          <td>-0.672</td>  <th>  Prob(JB):          </th> <td>6.40e-106</td>\n",
              "</tr>\n",
              "<tr>\n",
              "  <th>Kurtosis:</th>      <td> 4.666</td>  <th>  Cond. No.          </th> <td>9.20e+03</td> \n",
              "</tr>\n",
              "</table>"
            ],
            "text/plain": [
              "<class 'statsmodels.iolib.summary.Summary'>\n",
              "\"\"\"\n",
              "                            OLS Regression Results                            \n",
              "==============================================================================\n",
              "Dep. Variable:                  price   R-squared:                       0.918\n",
              "Model:                            OLS   Adj. R-squared:                  0.917\n",
              "Method:                 Least Squares   F-statistic:                     2812.\n",
              "Date:                Sun, 12 Mar 2017   Prob (F-statistic):               0.00\n",
              "Time:                        13:50:22   Log-Likelihood:                -6293.7\n",
              "No. Observations:                2537   AIC:                         1.261e+04\n",
              "Df Residuals:                    2526   BIC:                         1.267e+04\n",
              "Df Model:                          10                                         \n",
              "Covariance Type:            nonrobust                                         \n",
              "==============================================================================\n",
              "                 coef    std err          t      P>|t|      [0.025      0.975]\n",
              "------------------------------------------------------------------------------\n",
              "Intercept     59.0371      0.272    217.342      0.000      58.504      59.570\n",
              "age            0.5005      0.005    104.318      0.000       0.491       0.510\n",
              "gender        -4.0722      0.115    -35.321      0.000      -4.298      -3.846\n",
              "delay          0.0003      0.000      0.661      0.509      -0.001       0.001\n",
              "delay1       -20.7385      2.236     -9.275      0.000     -25.123     -16.354\n",
              "ma            -0.0840      0.208     -0.405      0.686      -0.491       0.323\n",
              "me             0.3003      0.216      1.392      0.164      -0.123       0.723\n",
              "je             0.1607      0.219      0.735      0.463      -0.268       0.590\n",
              "ve            -0.1748      0.212     -0.825      0.409      -0.590       0.240\n",
              "sa             0.1849      0.210      0.879      0.379      -0.227       0.597\n",
              "di            20.0978      0.211     95.203      0.000      19.684      20.512\n",
              "==============================================================================\n",
              "Omnibus:                      257.849   Durbin-Watson:                   2.034\n",
              "Prob(Omnibus):                  0.000   Jarque-Bera (JB):              484.437\n",
              "Skew:                          -0.672   Prob(JB):                    6.40e-106\n",
              "Kurtosis:                       4.666   Cond. No.                     9.20e+03\n",
              "==============================================================================\n",
              "\n",
              "Warnings:\n",
              "[1] Standard Errors assume that the covariance matrix of the errors is correctly specified.\n",
              "[2] The condition number is large, 9.2e+03. This might indicate that there are\n",
              "strong multicollinearity or other numerical problems.\n",
              "\"\"\""
            ]
          },
          "execution_count": 113,
          "metadata": {},
          "output_type": "execute_result"
        }
      ],
      "source": [
        "lr = ols(\"price ~ age + gender + delay + delay1 + ma + me + je + ve + sa + di\", data=mat2)\n",
        "res = lr.fit()\n",
        "res.summary()"
      ]
    },
    {
      "cell_type": "markdown",
      "metadata": {},
      "source": [
        "On v\u00e9rifie que le coefficient pour dimanche n'est clairement significatif contrairement aux autres dont la probabilit\u00e9 d'\u00eatre nul est \u00e9lev\u00e9e. Le m\u00e9decin appliquerait une majoration de 20 euros le dimanche. Le coefficient $R^2$ est aussi nettement plus \u00e9lev\u00e9. On construit les pr\u00e9dictions d'un second mod\u00e8le en ne tenant compte que de la variable dimanche."
      ]
    },
    {
      "cell_type": "code",
      "execution_count": 114,
      "metadata": {
        "collapsed": false
      },
      "outputs": [
        {
          "data": {
            "text/plain": [
              "(array([  5.00892234e-01,  -4.07229120e+00,   2.97614199e-04,\n",
              "         -2.07004497e+01,   2.00395644e+01]), 59.079512942729707)"
            ]
          },
          "execution_count": 115,
          "metadata": {},
          "output_type": "execute_result"
        }
      ],
      "source": [
        "lrc = LinearRegression()\n",
        "feat2 = mat2[[\"age\", \"gender\", \"delay\", \"delay1\", \"price\", \"idc\", \"di\"]].copy()\n",
        "lrc.fit(feat2[[\"age\", \"gender\", \"delay\", \"delay1\", \"di\"]], feat2[\"price\"])\n",
        "lrc.coef_, lrc.intercept_"
      ]
    },
    {
      "cell_type": "code",
      "execution_count": 116,
      "metadata": {
        "collapsed": false
      },
      "outputs": [
        {
          "data": {
            "text/html": [
              "<div>\n",
              "<table border=\"1\" class=\"dataframe\">\n",
              "  <thead>\n",
              "    <tr style=\"text-align: right;\">\n",
              "      <th></th>\n",
              "      <th>age</th>\n",
              "      <th>gender</th>\n",
              "      <th>delay</th>\n",
              "      <th>delay1</th>\n",
              "      <th>price</th>\n",
              "      <th>idc</th>\n",
              "      <th>di</th>\n",
              "      <th>predc</th>\n",
              "    </tr>\n",
              "  </thead>\n",
              "  <tbody>\n",
              "    <tr>\n",
              "      <th>0</th>\n",
              "      <td>37</td>\n",
              "      <td>0</td>\n",
              "      <td>365.0</td>\n",
              "      <td>0.002732</td>\n",
              "      <td>75.0</td>\n",
              "      <td>4ba0b473-f8ca-4466-a65b-40e9b8ba5029</td>\n",
              "      <td>0</td>\n",
              "      <td>77.664596</td>\n",
              "    </tr>\n",
              "    <tr>\n",
              "      <th>1</th>\n",
              "      <td>37</td>\n",
              "      <td>0</td>\n",
              "      <td>365.0</td>\n",
              "      <td>0.002732</td>\n",
              "      <td>65.0</td>\n",
              "      <td>4ba0b473-f8ca-4466-a65b-40e9b8ba5029</td>\n",
              "      <td>0</td>\n",
              "      <td>77.664596</td>\n",
              "    </tr>\n",
              "    <tr>\n",
              "      <th>2</th>\n",
              "      <td>41</td>\n",
              "      <td>0</td>\n",
              "      <td>365.0</td>\n",
              "      <td>0.002732</td>\n",
              "      <td>75.0</td>\n",
              "      <td>f44b004b-b01e-4835-b86d-1a42846c6d93</td>\n",
              "      <td>0</td>\n",
              "      <td>79.668165</td>\n",
              "    </tr>\n",
              "    <tr>\n",
              "      <th>3</th>\n",
              "      <td>41</td>\n",
              "      <td>0</td>\n",
              "      <td>29.0</td>\n",
              "      <td>0.033333</td>\n",
              "      <td>80.0</td>\n",
              "      <td>f44b004b-b01e-4835-b86d-1a42846c6d93</td>\n",
              "      <td>0</td>\n",
              "      <td>78.934710</td>\n",
              "    </tr>\n",
              "    <tr>\n",
              "      <th>4</th>\n",
              "      <td>41</td>\n",
              "      <td>0</td>\n",
              "      <td>50.0</td>\n",
              "      <td>0.019608</td>\n",
              "      <td>80.0</td>\n",
              "      <td>f44b004b-b01e-4835-b86d-1a42846c6d93</td>\n",
              "      <td>0</td>\n",
              "      <td>79.225084</td>\n",
              "    </tr>\n",
              "  </tbody>\n",
              "</table>\n",
              "</div>"
            ],
            "text/plain": [
              "   age  gender  delay    delay1  price                                   idc  \\\n",
              "0   37       0  365.0  0.002732   75.0  4ba0b473-f8ca-4466-a65b-40e9b8ba5029   \n",
              "1   37       0  365.0  0.002732   65.0  4ba0b473-f8ca-4466-a65b-40e9b8ba5029   \n",
              "2   41       0  365.0  0.002732   75.0  f44b004b-b01e-4835-b86d-1a42846c6d93   \n",
              "3   41       0   29.0  0.033333   80.0  f44b004b-b01e-4835-b86d-1a42846c6d93   \n",
              "4   41       0   50.0  0.019608   80.0  f44b004b-b01e-4835-b86d-1a42846c6d93   \n",
              "\n",
              "   di      predc  \n",
              "0   0  77.664596  \n",
              "1   0  77.664596  \n",
              "2   0  79.668165  \n",
              "3   0  78.934710  \n",
              "4   0  79.225084  "
            ]
          },
          "execution_count": 117,
          "metadata": {},
          "output_type": "execute_result"
        }
      ],
      "source": [
        "predc = lrc.predict(feat2[[\"age\", \"gender\", \"delay\", \"delay1\", \"di\"]])\n",
        "feat2[\"predc\"] = predc\n",
        "feat2.head()"
      ]
    },
    {
      "cell_type": "code",
      "execution_count": 118,
      "metadata": {
        "collapsed": false
      },
      "outputs": [
        {
          "data": {
            "text/html": [
              "<div>\n",
              "<table border=\"1\" class=\"dataframe\">\n",
              "  <thead>\n",
              "    <tr style=\"text-align: right;\">\n",
              "      <th></th>\n",
              "      <th>predc</th>\n",
              "      <th>price</th>\n",
              "    </tr>\n",
              "    <tr>\n",
              "      <th>idc</th>\n",
              "      <th></th>\n",
              "      <th></th>\n",
              "    </tr>\n",
              "  </thead>\n",
              "  <tbody>\n",
              "    <tr>\n",
              "      <th>003b0195-2acb-4f46-b7fa-28cf266a8f60</th>\n",
              "      <td>80.103904</td>\n",
              "      <td>80.0</td>\n",
              "    </tr>\n",
              "    <tr>\n",
              "      <th>009e689c-51a1-4cef-99ca-a4ba364eba8d</th>\n",
              "      <td>80.812446</td>\n",
              "      <td>80.0</td>\n",
              "    </tr>\n",
              "    <tr>\n",
              "      <th>00a213c2-1174-4359-8a67-fe710ec1b439</th>\n",
              "      <td>67.581598</td>\n",
              "      <td>70.0</td>\n",
              "    </tr>\n",
              "    <tr>\n",
              "      <th>00e42818-aade-4758-a5f6-c78a6f235ea5</th>\n",
              "      <td>66.890947</td>\n",
              "      <td>70.0</td>\n",
              "    </tr>\n",
              "    <tr>\n",
              "      <th>0153b785-9acd-4d28-aad1-62f8bf2faea3</th>\n",
              "      <td>74.158351</td>\n",
              "      <td>75.0</td>\n",
              "    </tr>\n",
              "  </tbody>\n",
              "</table>\n",
              "</div>"
            ],
            "text/plain": [
              "                                          predc  price\n",
              "idc                                                   \n",
              "003b0195-2acb-4f46-b7fa-28cf266a8f60  80.103904   80.0\n",
              "009e689c-51a1-4cef-99ca-a4ba364eba8d  80.812446   80.0\n",
              "00a213c2-1174-4359-8a67-fe710ec1b439  67.581598   70.0\n",
              "00e42818-aade-4758-a5f6-c78a6f235ea5  66.890947   70.0\n",
              "0153b785-9acd-4d28-aad1-62f8bf2faea3  74.158351   75.0"
            ]
          },
          "execution_count": 119,
          "metadata": {},
          "output_type": "execute_result"
        }
      ],
      "source": [
        "agg2 = feat2[[\"idc\",\"predc\", \"price\"]].groupby(\"idc\").mean()\n",
        "agg2.head()"
      ]
    },
    {
      "cell_type": "code",
      "execution_count": 120,
      "metadata": {
        "collapsed": false
      },
      "outputs": [
        {
          "data": {
            "text/plain": [
              "3.626505427547844"
            ]
          },
          "execution_count": 121,
          "metadata": {},
          "output_type": "execute_result"
        }
      ],
      "source": [
        "err2d = ((agg2.predc - agg2.price)**2).sum() / agg2.shape[0]\n",
        "err2d"
      ]
    },
    {
      "cell_type": "markdown",
      "metadata": {},
      "source": [
        "Nettement, nettement mieux."
      ]
    },
    {
      "cell_type": "code",
      "execution_count": 122,
      "metadata": {
        "collapsed": false
      },
      "outputs": [
        {
          "data": {
            "text/plain": [
              "<matplotlib.axes._subplots.AxesSubplot at 0x155472d6438>"
            ]
          },
          "execution_count": 123,
          "metadata": {},
          "output_type": "execute_result"
        },
        {
          "data": {
            "image/png": "[encoded data removed]",
            "text/plain": [
              "<matplotlib.figure.Figure at 0x155472e6da0>"
            ]
          },
          "metadata": {},
          "output_type": "display_data"
        }
      ],
      "source": [
        "agg2.plot(x=\"price\", y=\"predc\", kind=\"scatter\")"
      ]
    },
    {
      "cell_type": "code",
      "execution_count": 124,
      "metadata": {
        "collapsed": false,
        "scrolled": false
      },
      "outputs": [
        {
          "data": {
            "text/plain": [
              "<matplotlib.axes._subplots.AxesSubplot at 0x15547424c18>"
            ]
          },
          "execution_count": 125,
          "metadata": {},
          "output_type": "execute_result"
        },
        {
          "data": {
            "image/png": "[encoded data removed]",
            "text/plain": [
              "<matplotlib.figure.Figure at 0x15547436438>"
            ]
          },
          "metadata": {},
          "output_type": "display_data"
        }
      ],
      "source": [
        "temp2 = agg2.sort_values(\"price\").reset_index(drop=True).reset_index(drop=False)\n",
        "ax = temp2.plot(x=\"index\", y=\"price\", figsize=(14,4), ylim=[60,120])\n",
        "temp2.plot(x=\"index\", y=\"predc\", linewidth=1, ax=ax, ylim=[60,120])"
      ]
    },
    {
      "cell_type": "markdown",
      "metadata": {},
      "source": [
        "## Une variable cat\u00e9gorielle en une seule colonne ?\n",
        "\n",
        "Un jeu de donn\u00e9es peut rapidement cro\u00eetre s'il est \u00e9tendu pour chaque variable cat\u00e9gorielle. On peut utiliser le module [category_encoders](https://github.com/scikit-learn-contrib/categorical-encoding/tree/master/category_encoders) ou [statsmodels](http://statsmodels.sourceforge.net/devel/contrasts.html)."
      ]
    },
    {
      "cell_type": "code",
      "execution_count": 126,
      "metadata": {
        "collapsed": false
      },
      "outputs": [
        {
          "data": {
            "text/html": [
              "<div>\n",
              "<table border=\"1\" class=\"dataframe\">\n",
              "  <thead>\n",
              "    <tr style=\"text-align: right;\">\n",
              "      <th></th>\n",
              "      <th>weekday</th>\n",
              "      <th>col_weekday_0</th>\n",
              "      <th>col_weekday_1</th>\n",
              "      <th>col_weekday_2</th>\n",
              "      <th>col_weekday_3</th>\n",
              "      <th>col_weekday_4</th>\n",
              "      <th>col_weekday_5</th>\n",
              "      <th>col_weekday_6</th>\n",
              "    </tr>\n",
              "  </thead>\n",
              "  <tbody>\n",
              "    <tr>\n",
              "      <th>0</th>\n",
              "      <td>4</td>\n",
              "      <td>1.0</td>\n",
              "      <td>0.188982</td>\n",
              "      <td>-3.273268e-01</td>\n",
              "      <td>-0.408248</td>\n",
              "      <td>0.080582</td>\n",
              "      <td>0.545545</td>\n",
              "      <td>0.493464</td>\n",
              "    </tr>\n",
              "    <tr>\n",
              "      <th>1</th>\n",
              "      <td>4</td>\n",
              "      <td>1.0</td>\n",
              "      <td>0.188982</td>\n",
              "      <td>-3.273268e-01</td>\n",
              "      <td>-0.408248</td>\n",
              "      <td>0.080582</td>\n",
              "      <td>0.545545</td>\n",
              "      <td>0.493464</td>\n",
              "    </tr>\n",
              "    <tr>\n",
              "      <th>2</th>\n",
              "      <td>2</td>\n",
              "      <td>1.0</td>\n",
              "      <td>-0.188982</td>\n",
              "      <td>-3.273268e-01</td>\n",
              "      <td>0.408248</td>\n",
              "      <td>0.080582</td>\n",
              "      <td>-0.545545</td>\n",
              "      <td>0.493464</td>\n",
              "    </tr>\n",
              "    <tr>\n",
              "      <th>3</th>\n",
              "      <td>5</td>\n",
              "      <td>1.0</td>\n",
              "      <td>0.377964</td>\n",
              "      <td>5.551115e-17</td>\n",
              "      <td>-0.408248</td>\n",
              "      <td>-0.564076</td>\n",
              "      <td>-0.436436</td>\n",
              "      <td>-0.197386</td>\n",
              "    </tr>\n",
              "    <tr>\n",
              "      <th>4</th>\n",
              "      <td>5</td>\n",
              "      <td>1.0</td>\n",
              "      <td>0.377964</td>\n",
              "      <td>5.551115e-17</td>\n",
              "      <td>-0.408248</td>\n",
              "      <td>-0.564076</td>\n",
              "      <td>-0.436436</td>\n",
              "      <td>-0.197386</td>\n",
              "    </tr>\n",
              "  </tbody>\n",
              "</table>\n",
              "</div>"
            ],
            "text/plain": [
              "   weekday  col_weekday_0  col_weekday_1  col_weekday_2  col_weekday_3  \\\n",
              "0        4            1.0       0.188982  -3.273268e-01      -0.408248   \n",
              "1        4            1.0       0.188982  -3.273268e-01      -0.408248   \n",
              "2        2            1.0      -0.188982  -3.273268e-01       0.408248   \n",
              "3        5            1.0       0.377964   5.551115e-17      -0.408248   \n",
              "4        5            1.0       0.377964   5.551115e-17      -0.408248   \n",
              "\n",
              "   col_weekday_4  col_weekday_5  col_weekday_6  \n",
              "0       0.080582       0.545545       0.493464  \n",
              "1       0.080582       0.545545       0.493464  \n",
              "2       0.080582      -0.545545       0.493464  \n",
              "3      -0.564076      -0.436436      -0.197386  \n",
              "4      -0.564076      -0.436436      -0.197386  "
            ]
          },
          "execution_count": 127,
          "metadata": {},
          "output_type": "execute_result"
        }
      ],
      "source": [
        "from category_encoders import PolynomialEncoder\n",
        "encoder = PolynomialEncoder(cols=[\"weekday\"])\n",
        "encoder.fit(rend[[\"weekday\"]], rend[\"price\"])\n",
        "pred = encoder.transform(rend[[\"weekday\"]])\n",
        "conc = pandas.concat([rend[[\"weekday\"]], pred], axis=1)\n",
        "conc.head()"
      ]
    },
    {
      "cell_type": "markdown",
      "metadata": {},
      "source": [
        "Ou associer la valeur de la cible \u00e0 pr\u00e9dire pour chaque jour de la semaine."
      ]
    },
    {
      "cell_type": "code",
      "execution_count": 128,
      "metadata": {
        "collapsed": false
      },
      "outputs": [
        {
          "data": {
            "text/html": [
              "<div>\n",
              "<table border=\"1\" class=\"dataframe\">\n",
              "  <thead>\n",
              "    <tr style=\"text-align: right;\">\n",
              "      <th></th>\n",
              "      <th>weekday</th>\n",
              "      <th>price</th>\n",
              "    </tr>\n",
              "  </thead>\n",
              "  <tbody>\n",
              "    <tr>\n",
              "      <th>0</th>\n",
              "      <td>0</td>\n",
              "      <td>76.112532</td>\n",
              "    </tr>\n",
              "    <tr>\n",
              "      <th>1</th>\n",
              "      <td>1</td>\n",
              "      <td>76.195373</td>\n",
              "    </tr>\n",
              "    <tr>\n",
              "      <th>2</th>\n",
              "      <td>2</td>\n",
              "      <td>77.047478</td>\n",
              "    </tr>\n",
              "    <tr>\n",
              "      <th>3</th>\n",
              "      <td>3</td>\n",
              "      <td>76.677116</td>\n",
              "    </tr>\n",
              "    <tr>\n",
              "      <th>4</th>\n",
              "      <td>4</td>\n",
              "      <td>76.049724</td>\n",
              "    </tr>\n",
              "    <tr>\n",
              "      <th>5</th>\n",
              "      <td>5</td>\n",
              "      <td>76.630728</td>\n",
              "    </tr>\n",
              "    <tr>\n",
              "      <th>6</th>\n",
              "      <td>6</td>\n",
              "      <td>97.078804</td>\n",
              "    </tr>\n",
              "  </tbody>\n",
              "</table>\n",
              "</div>"
            ],
            "text/plain": [
              "   weekday      price\n",
              "0        0  76.112532\n",
              "1        1  76.195373\n",
              "2        2  77.047478\n",
              "3        3  76.677116\n",
              "4        4  76.049724\n",
              "5        5  76.630728\n",
              "6        6  97.078804"
            ]
          },
          "execution_count": 129,
          "metadata": {},
          "output_type": "execute_result"
        }
      ],
      "source": [
        "copy = rend[[\"weekday\", \"price\"]].copy()\n",
        "gr = copy.groupby(\"weekday\", as_index=False).mean()\n",
        "gr"
      ]
    },
    {
      "cell_type": "code",
      "execution_count": 130,
      "metadata": {
        "collapsed": false
      },
      "outputs": [
        {
          "data": {
            "text/html": [
              "<div>\n",
              "<table border=\"1\" class=\"dataframe\">\n",
              "  <thead>\n",
              "    <tr style=\"text-align: right;\">\n",
              "      <th></th>\n",
              "      <th>age</th>\n",
              "      <th>gender</th>\n",
              "      <th>delay</th>\n",
              "      <th>delay1</th>\n",
              "      <th>price</th>\n",
              "      <th>idc</th>\n",
              "      <th>weekday</th>\n",
              "      <th>price_label</th>\n",
              "    </tr>\n",
              "  </thead>\n",
              "  <tbody>\n",
              "    <tr>\n",
              "      <th>0</th>\n",
              "      <td>37</td>\n",
              "      <td>0</td>\n",
              "      <td>365.0</td>\n",
              "      <td>0.002732</td>\n",
              "      <td>75.0</td>\n",
              "      <td>4ba0b473-f8ca-4466-a65b-40e9b8ba5029</td>\n",
              "      <td>4</td>\n",
              "      <td>76.049724</td>\n",
              "    </tr>\n",
              "    <tr>\n",
              "      <th>1</th>\n",
              "      <td>37</td>\n",
              "      <td>0</td>\n",
              "      <td>365.0</td>\n",
              "      <td>0.002732</td>\n",
              "      <td>65.0</td>\n",
              "      <td>4ba0b473-f8ca-4466-a65b-40e9b8ba5029</td>\n",
              "      <td>4</td>\n",
              "      <td>76.049724</td>\n",
              "    </tr>\n",
              "    <tr>\n",
              "      <th>2</th>\n",
              "      <td>57</td>\n",
              "      <td>1</td>\n",
              "      <td>365.0</td>\n",
              "      <td>0.002732</td>\n",
              "      <td>85.0</td>\n",
              "      <td>7ffb8a8b-a829-41f1-9572-2985ee9ba05e</td>\n",
              "      <td>4</td>\n",
              "      <td>76.049724</td>\n",
              "    </tr>\n",
              "    <tr>\n",
              "      <th>3</th>\n",
              "      <td>30</td>\n",
              "      <td>0</td>\n",
              "      <td>365.0</td>\n",
              "      <td>0.002732</td>\n",
              "      <td>75.0</td>\n",
              "      <td>0153b785-9acd-4d28-aad1-62f8bf2faea3</td>\n",
              "      <td>4</td>\n",
              "      <td>76.049724</td>\n",
              "    </tr>\n",
              "    <tr>\n",
              "      <th>4</th>\n",
              "      <td>28</td>\n",
              "      <td>1</td>\n",
              "      <td>28.0</td>\n",
              "      <td>0.034483</td>\n",
              "      <td>70.0</td>\n",
              "      <td>47e415f0-f4e9-40c5-a59d-adc4c0621c8a</td>\n",
              "      <td>4</td>\n",
              "      <td>76.049724</td>\n",
              "    </tr>\n",
              "  </tbody>\n",
              "</table>\n",
              "</div>"
            ],
            "text/plain": [
              "   age  gender  delay    delay1  price                                   idc  \\\n",
              "0   37       0  365.0  0.002732   75.0  4ba0b473-f8ca-4466-a65b-40e9b8ba5029   \n",
              "1   37       0  365.0  0.002732   65.0  4ba0b473-f8ca-4466-a65b-40e9b8ba5029   \n",
              "2   57       1  365.0  0.002732   85.0  7ffb8a8b-a829-41f1-9572-2985ee9ba05e   \n",
              "3   30       0  365.0  0.002732   75.0  0153b785-9acd-4d28-aad1-62f8bf2faea3   \n",
              "4   28       1   28.0  0.034483   70.0  47e415f0-f4e9-40c5-a59d-adc4c0621c8a   \n",
              "\n",
              "   weekday  price_label  \n",
              "0        4    76.049724  \n",
              "1        4    76.049724  \n",
              "2        4    76.049724  \n",
              "3        4    76.049724  \n",
              "4        4    76.049724  "
            ]
          },
          "execution_count": 131,
          "metadata": {},
          "output_type": "execute_result"
        }
      ],
      "source": [
        "feat3 = mat[[\"age\", \"gender\", \"delay\", \"delay1\", \"price\", \"idc\", \"weekday\"]]\n",
        "feat3 = feat3.merge(gr, on=\"weekday\", suffixes=(\"\", \"_label\"))\n",
        "feat3.head()"
      ]
    },
    {
      "cell_type": "markdown",
      "metadata": {},
      "source": [
        "On apprend avec la variable *weekday* :"
      ]
    },
    {
      "cell_type": "code",
      "execution_count": 132,
      "metadata": {
        "collapsed": false
      },
      "outputs": [
        {
          "data": {
            "text/html": [
              "<table class=\"simpletable\">\n",
              "<caption>OLS Regression Results</caption>\n",
              "<tr>\n",
              "  <th>Dep. Variable:</th>          <td>price</td>      <th>  R-squared:         </th> <td>   0.612</td> \n",
              "</tr>\n",
              "<tr>\n",
              "  <th>Model:</th>                   <td>OLS</td>       <th>  Adj. R-squared:    </th> <td>   0.612</td> \n",
              "</tr>\n",
              "<tr>\n",
              "  <th>Method:</th>             <td>Least Squares</td>  <th>  F-statistic:       </th> <td>   800.0</td> \n",
              "</tr>\n",
              "<tr>\n",
              "  <th>Date:</th>             <td>Sun, 12 Mar 2017</td> <th>  Prob (F-statistic):</th>  <td>  0.00</td>  \n",
              "</tr>\n",
              "<tr>\n",
              "  <th>Time:</th>                 <td>18:57:20</td>     <th>  Log-Likelihood:    </th> <td> -8257.2</td> \n",
              "</tr>\n",
              "<tr>\n",
              "  <th>No. Observations:</th>      <td>  2537</td>      <th>  AIC:               </th> <td>1.653e+04</td>\n",
              "</tr>\n",
              "<tr>\n",
              "  <th>Df Residuals:</th>          <td>  2531</td>      <th>  BIC:               </th> <td>1.656e+04</td>\n",
              "</tr>\n",
              "<tr>\n",
              "  <th>Df Model:</th>              <td>     5</td>      <th>                     </th>     <td> </td>    \n",
              "</tr>\n",
              "<tr>\n",
              "  <th>Covariance Type:</th>      <td>nonrobust</td>    <th>                     </th>     <td> </td>    \n",
              "</tr>\n",
              "</table>\n",
              "<table class=\"simpletable\">\n",
              "<tr>\n",
              "      <td></td>         <th>coef</th>     <th>std err</th>      <th>t</th>      <th>P>|t|</th>  <th>[0.025</th>    <th>0.975]</th>  \n",
              "</tr>\n",
              "<tr>\n",
              "  <th>Intercept</th> <td>   55.4146</td> <td>    0.545</td> <td>  101.618</td> <td> 0.000</td> <td>   54.345</td> <td>   56.484</td>\n",
              "</tr>\n",
              "<tr>\n",
              "  <th>age</th>       <td>    0.5081</td> <td>    0.010</td> <td>   48.918</td> <td> 0.000</td> <td>    0.488</td> <td>    0.528</td>\n",
              "</tr>\n",
              "<tr>\n",
              "  <th>gender</th>    <td>   -4.4125</td> <td>    0.250</td> <td>  -17.683</td> <td> 0.000</td> <td>   -4.902</td> <td>   -3.923</td>\n",
              "</tr>\n",
              "<tr>\n",
              "  <th>delay</th>     <td>    0.0005</td> <td>    0.001</td> <td>    0.562</td> <td> 0.574</td> <td>   -0.001</td> <td>    0.002</td>\n",
              "</tr>\n",
              "<tr>\n",
              "  <th>delay1</th>    <td>  -16.0797</td> <td>    4.842</td> <td>   -3.321</td> <td> 0.001</td> <td>  -25.575</td> <td>   -6.585</td>\n",
              "</tr>\n",
              "<tr>\n",
              "  <th>weekday</th>   <td>    2.1216</td> <td>    0.061</td> <td>   34.623</td> <td> 0.000</td> <td>    2.001</td> <td>    2.242</td>\n",
              "</tr>\n",
              "</table>\n",
              "<table class=\"simpletable\">\n",
              "<tr>\n",
              "  <th>Omnibus:</th>       <td>55.147</td> <th>  Durbin-Watson:     </th> <td>   0.442</td>\n",
              "</tr>\n",
              "<tr>\n",
              "  <th>Prob(Omnibus):</th> <td> 0.000</td> <th>  Jarque-Bera (JB):  </th> <td>  57.558</td>\n",
              "</tr>\n",
              "<tr>\n",
              "  <th>Skew:</th>          <td> 0.358</td> <th>  Prob(JB):          </th> <td>3.17e-13</td>\n",
              "</tr>\n",
              "<tr>\n",
              "  <th>Kurtosis:</th>      <td> 2.823</td> <th>  Cond. No.          </th> <td>9.20e+03</td>\n",
              "</tr>\n",
              "</table>"
            ],
            "text/plain": [
              "<class 'statsmodels.iolib.summary.Summary'>\n",
              "\"\"\"\n",
              "                            OLS Regression Results                            \n",
              "==============================================================================\n",
              "Dep. Variable:                  price   R-squared:                       0.612\n",
              "Model:                            OLS   Adj. R-squared:                  0.612\n",
              "Method:                 Least Squares   F-statistic:                     800.0\n",
              "Date:                Sun, 12 Mar 2017   Prob (F-statistic):               0.00\n",
              "Time:                        18:57:20   Log-Likelihood:                -8257.2\n",
              "No. Observations:                2537   AIC:                         1.653e+04\n",
              "Df Residuals:                    2531   BIC:                         1.656e+04\n",
              "Df Model:                           5                                         \n",
              "Covariance Type:            nonrobust                                         \n",
              "==============================================================================\n",
              "                 coef    std err          t      P>|t|      [0.025      0.975]\n",
              "------------------------------------------------------------------------------\n",
              "Intercept     55.4146      0.545    101.618      0.000      54.345      56.484\n",
              "age            0.5081      0.010     48.918      0.000       0.488       0.528\n",
              "gender        -4.4125      0.250    -17.683      0.000      -4.902      -3.923\n",
              "delay          0.0005      0.001      0.562      0.574      -0.001       0.002\n",
              "delay1       -16.0797      4.842     -3.321      0.001     -25.575      -6.585\n",
              "weekday        2.1216      0.061     34.623      0.000       2.001       2.242\n",
              "==============================================================================\n",
              "Omnibus:                       55.147   Durbin-Watson:                   0.442\n",
              "Prob(Omnibus):                  0.000   Jarque-Bera (JB):               57.558\n",
              "Skew:                           0.358   Prob(JB):                     3.17e-13\n",
              "Kurtosis:                       2.823   Cond. No.                     9.20e+03\n",
              "==============================================================================\n",
              "\n",
              "Warnings:\n",
              "[1] Standard Errors assume that the covariance matrix of the errors is correctly specified.\n",
              "[2] The condition number is large, 9.2e+03. This might indicate that there are\n",
              "strong multicollinearity or other numerical problems.\n",
              "\"\"\""
            ]
          },
          "execution_count": 133,
          "metadata": {},
          "output_type": "execute_result"
        }
      ],
      "source": [
        "lr = ols(\"price ~ age + gender + delay + delay1 + weekday\", data=feat3)\n",
        "res = lr.fit()\n",
        "res.summary()"
      ]
    },
    {
      "cell_type": "markdown",
      "metadata": {},
      "source": [
        "Et on compare avec la variable *price_label* :"
      ]
    },
    {
      "cell_type": "code",
      "execution_count": 134,
      "metadata": {
        "collapsed": false
      },
      "outputs": [
        {
          "data": {
            "text/html": [
              "<table class=\"simpletable\">\n",
              "<caption>OLS Regression Results</caption>\n",
              "<tr>\n",
              "  <th>Dep. Variable:</th>          <td>price</td>      <th>  R-squared:         </th> <td>   0.917</td> \n",
              "</tr>\n",
              "<tr>\n",
              "  <th>Model:</th>                   <td>OLS</td>       <th>  Adj. R-squared:    </th> <td>   0.917</td> \n",
              "</tr>\n",
              "<tr>\n",
              "  <th>Method:</th>             <td>Least Squares</td>  <th>  F-statistic:       </th> <td>   5611.</td> \n",
              "</tr>\n",
              "<tr>\n",
              "  <th>Date:</th>             <td>Sun, 12 Mar 2017</td> <th>  Prob (F-statistic):</th>  <td>  0.00</td>  \n",
              "</tr>\n",
              "<tr>\n",
              "  <th>Time:</th>                 <td>18:58:01</td>     <th>  Log-Likelihood:    </th> <td> -6298.8</td> \n",
              "</tr>\n",
              "<tr>\n",
              "  <th>No. Observations:</th>      <td>  2537</td>      <th>  AIC:               </th> <td>1.261e+04</td>\n",
              "</tr>\n",
              "<tr>\n",
              "  <th>Df Residuals:</th>          <td>  2531</td>      <th>  BIC:               </th> <td>1.264e+04</td>\n",
              "</tr>\n",
              "<tr>\n",
              "  <th>Df Model:</th>              <td>     5</td>      <th>                     </th>     <td> </td>    \n",
              "</tr>\n",
              "<tr>\n",
              "  <th>Covariance Type:</th>      <td>nonrobust</td>    <th>                     </th>     <td> </td>    \n",
              "</tr>\n",
              "</table>\n",
              "<table class=\"simpletable\">\n",
              "<tr>\n",
              "       <td></td>          <th>coef</th>     <th>std err</th>      <th>t</th>      <th>P>|t|</th>  <th>[0.025</th>    <th>0.975]</th>  \n",
              "</tr>\n",
              "<tr>\n",
              "  <th>Intercept</th>   <td>  -14.9859</td> <td>    0.664</td> <td>  -22.576</td> <td> 0.000</td> <td>  -16.288</td> <td>  -13.684</td>\n",
              "</tr>\n",
              "<tr>\n",
              "  <th>age</th>         <td>    0.5000</td> <td>    0.005</td> <td>  104.173</td> <td> 0.000</td> <td>    0.491</td> <td>    0.509</td>\n",
              "</tr>\n",
              "<tr>\n",
              "  <th>gender</th>      <td>   -4.0767</td> <td>    0.115</td> <td>  -35.344</td> <td> 0.000</td> <td>   -4.303</td> <td>   -3.851</td>\n",
              "</tr>\n",
              "<tr>\n",
              "  <th>delay</th>       <td>    0.0003</td> <td>    0.000</td> <td>    0.601</td> <td> 0.548</td> <td>   -0.001</td> <td>    0.001</td>\n",
              "</tr>\n",
              "<tr>\n",
              "  <th>delay1</th>      <td>  -20.8060</td> <td>    2.237</td> <td>   -9.303</td> <td> 0.000</td> <td>  -25.192</td> <td>  -16.420</td>\n",
              "</tr>\n",
              "<tr>\n",
              "  <th>price_label</th> <td>    0.9696</td> <td>    0.008</td> <td>  122.209</td> <td> 0.000</td> <td>    0.954</td> <td>    0.985</td>\n",
              "</tr>\n",
              "</table>\n",
              "<table class=\"simpletable\">\n",
              "<tr>\n",
              "  <th>Omnibus:</th>       <td>249.245</td> <th>  Durbin-Watson:     </th> <td>   2.035</td> \n",
              "</tr>\n",
              "<tr>\n",
              "  <th>Prob(Omnibus):</th> <td> 0.000</td>  <th>  Jarque-Bera (JB):  </th> <td> 459.156</td> \n",
              "</tr>\n",
              "<tr>\n",
              "  <th>Skew:</th>          <td>-0.660</td>  <th>  Prob(JB):          </th> <td>1.98e-100</td>\n",
              "</tr>\n",
              "<tr>\n",
              "  <th>Kurtosis:</th>      <td> 4.613</td>  <th>  Cond. No.          </th> <td>9.47e+03</td> \n",
              "</tr>\n",
              "</table>"
            ],
            "text/plain": [
              "<class 'statsmodels.iolib.summary.Summary'>\n",
              "\"\"\"\n",
              "                            OLS Regression Results                            \n",
              "==============================================================================\n",
              "Dep. Variable:                  price   R-squared:                       0.917\n",
              "Model:                            OLS   Adj. R-squared:                  0.917\n",
              "Method:                 Least Squares   F-statistic:                     5611.\n",
              "Date:                Sun, 12 Mar 2017   Prob (F-statistic):               0.00\n",
              "Time:                        18:58:01   Log-Likelihood:                -6298.8\n",
              "No. Observations:                2537   AIC:                         1.261e+04\n",
              "Df Residuals:                    2531   BIC:                         1.264e+04\n",
              "Df Model:                           5                                         \n",
              "Covariance Type:            nonrobust                                         \n",
              "===============================================================================\n",
              "                  coef    std err          t      P>|t|      [0.025      0.975]\n",
              "-------------------------------------------------------------------------------\n",
              "Intercept     -14.9859      0.664    -22.576      0.000     -16.288     -13.684\n",
              "age             0.5000      0.005    104.173      0.000       0.491       0.509\n",
              "gender         -4.0767      0.115    -35.344      0.000      -4.303      -3.851\n",
              "delay           0.0003      0.000      0.601      0.548      -0.001       0.001\n",
              "delay1        -20.8060      2.237     -9.303      0.000     -25.192     -16.420\n",
              "price_label     0.9696      0.008    122.209      0.000       0.954       0.985\n",
              "==============================================================================\n",
              "Omnibus:                      249.245   Durbin-Watson:                   2.035\n",
              "Prob(Omnibus):                  0.000   Jarque-Bera (JB):              459.156\n",
              "Skew:                          -0.660   Prob(JB):                    1.98e-100\n",
              "Kurtosis:                       4.613   Cond. No.                     9.47e+03\n",
              "==============================================================================\n",
              "\n",
              "Warnings:\n",
              "[1] Standard Errors assume that the covariance matrix of the errors is correctly specified.\n",
              "[2] The condition number is large, 9.47e+03. This might indicate that there are\n",
              "strong multicollinearity or other numerical problems.\n",
              "\"\"\""
            ]
          },
          "execution_count": 135,
          "metadata": {},
          "output_type": "execute_result"
        }
      ],
      "source": [
        "lr = ols(\"price ~ age + gender + delay + delay1 + price_label\", data=feat3)\n",
        "res = lr.fit()\n",
        "res.summary()"
      ]
    },
    {
      "cell_type": "markdown",
      "metadata": {},
      "source": [
        "Aussi bien qu'avec la variable *dimanche*."
      ]
    },
    {
      "cell_type": "code",
      "execution_count": 136,
      "metadata": {
        "collapsed": true
      },
      "outputs": [],
      "source": []
    }
  ],
  "metadata": {
    "kernelspec": {
      "display_name": "Python 3",
      "language": "python",
      "name": "python3"
    },
    "language_info": {
      "codemirror_mode": {
        "name": "ipython",
        "version": 3
      },
      "file_extension": ".py",
      "mimetype": "text/x-python",
      "name": "python",
      "nbconvert_exporter": "python",
      "pygments_lexer": "ipython3",
      "version": "3.6.0"
    }
  },
  "nbformat": 4,
  "nbformat_minor": 2
}